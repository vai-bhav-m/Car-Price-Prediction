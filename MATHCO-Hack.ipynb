{
 "cells": [
  {
   "cell_type": "markdown",
   "metadata": {},
   "source": [
    "# Importing required libraries and the dataset"
   ]
  },
  {
   "cell_type": "code",
   "execution_count": 1,
   "metadata": {
    "scrolled": false
   },
   "outputs": [],
   "source": [
    "import pandas as pd\n",
    "import numpy as np\n",
    "import matplotlib.pyplot as plt\n",
    "%matplotlib inline"
   ]
  },
  {
   "cell_type": "code",
   "execution_count": 2,
   "metadata": {},
   "outputs": [],
   "source": [
    "data_url = \"../data/mathco/\"\n",
    "train_url = data_url + \"train.csv\"\n",
    "test_url = data_url + \"test.csv\""
   ]
  },
  {
   "cell_type": "code",
   "execution_count": 3,
   "metadata": {},
   "outputs": [],
   "source": [
    "df_train = pd.read_csv(train_url)\n",
    "df_test = pd.read_csv(test_url)"
   ]
  },
  {
   "cell_type": "markdown",
   "metadata": {},
   "source": [
    "# EDA on train dataset"
   ]
  },
  {
   "cell_type": "code",
   "execution_count": 4,
   "metadata": {},
   "outputs": [],
   "source": [
    "df_train.drop_duplicates(inplace=True)"
   ]
  },
  {
   "cell_type": "code",
   "execution_count": 5,
   "metadata": {
    "scrolled": true
   },
   "outputs": [],
   "source": [
    "df_train.set_index('ID', inplace=True)"
   ]
  },
  {
   "cell_type": "code",
   "execution_count": 6,
   "metadata": {
    "scrolled": true
   },
   "outputs": [
    {
     "data": {
      "text/html": [
       "<div>\n",
       "<style scoped>\n",
       "    .dataframe tbody tr th:only-of-type {\n",
       "        vertical-align: middle;\n",
       "    }\n",
       "\n",
       "    .dataframe tbody tr th {\n",
       "        vertical-align: top;\n",
       "    }\n",
       "\n",
       "    .dataframe thead th {\n",
       "        text-align: right;\n",
       "    }\n",
       "</style>\n",
       "<table border=\"1\" class=\"dataframe\">\n",
       "  <thead>\n",
       "    <tr style=\"text-align: right;\">\n",
       "      <th></th>\n",
       "      <th>Price</th>\n",
       "      <th>Levy</th>\n",
       "      <th>Manufacturer</th>\n",
       "      <th>Model</th>\n",
       "      <th>Prod. year</th>\n",
       "      <th>Category</th>\n",
       "      <th>Leather interior</th>\n",
       "      <th>Fuel type</th>\n",
       "      <th>Engine volume</th>\n",
       "      <th>Mileage</th>\n",
       "      <th>Cylinders</th>\n",
       "      <th>Gear box type</th>\n",
       "      <th>Drive wheels</th>\n",
       "      <th>Doors</th>\n",
       "      <th>Wheel</th>\n",
       "      <th>Color</th>\n",
       "      <th>Airbags</th>\n",
       "    </tr>\n",
       "    <tr>\n",
       "      <th>ID</th>\n",
       "      <th></th>\n",
       "      <th></th>\n",
       "      <th></th>\n",
       "      <th></th>\n",
       "      <th></th>\n",
       "      <th></th>\n",
       "      <th></th>\n",
       "      <th></th>\n",
       "      <th></th>\n",
       "      <th></th>\n",
       "      <th></th>\n",
       "      <th></th>\n",
       "      <th></th>\n",
       "      <th></th>\n",
       "      <th></th>\n",
       "      <th></th>\n",
       "      <th></th>\n",
       "    </tr>\n",
       "  </thead>\n",
       "  <tbody>\n",
       "    <tr>\n",
       "      <th>45654403</th>\n",
       "      <td>13328</td>\n",
       "      <td>1399</td>\n",
       "      <td>LEXUS</td>\n",
       "      <td>RX 450</td>\n",
       "      <td>2010</td>\n",
       "      <td>Jeep</td>\n",
       "      <td>Yes</td>\n",
       "      <td>Hybrid</td>\n",
       "      <td>3.5</td>\n",
       "      <td>186005 km</td>\n",
       "      <td>6.0</td>\n",
       "      <td>Automatic</td>\n",
       "      <td>4x4</td>\n",
       "      <td>04-May</td>\n",
       "      <td>Left wheel</td>\n",
       "      <td>Silver</td>\n",
       "      <td>12</td>\n",
       "    </tr>\n",
       "    <tr>\n",
       "      <th>44731507</th>\n",
       "      <td>16621</td>\n",
       "      <td>1018</td>\n",
       "      <td>CHEVROLET</td>\n",
       "      <td>Equinox</td>\n",
       "      <td>2011</td>\n",
       "      <td>Jeep</td>\n",
       "      <td>No</td>\n",
       "      <td>Petrol</td>\n",
       "      <td>3</td>\n",
       "      <td>192000 km</td>\n",
       "      <td>6.0</td>\n",
       "      <td>Tiptronic</td>\n",
       "      <td>4x4</td>\n",
       "      <td>04-May</td>\n",
       "      <td>Left wheel</td>\n",
       "      <td>Black</td>\n",
       "      <td>8</td>\n",
       "    </tr>\n",
       "    <tr>\n",
       "      <th>45774419</th>\n",
       "      <td>8467</td>\n",
       "      <td>-</td>\n",
       "      <td>HONDA</td>\n",
       "      <td>FIT</td>\n",
       "      <td>2006</td>\n",
       "      <td>Hatchback</td>\n",
       "      <td>No</td>\n",
       "      <td>Petrol</td>\n",
       "      <td>1.3</td>\n",
       "      <td>200000 km</td>\n",
       "      <td>4.0</td>\n",
       "      <td>Variator</td>\n",
       "      <td>Front</td>\n",
       "      <td>04-May</td>\n",
       "      <td>Right-hand drive</td>\n",
       "      <td>Black</td>\n",
       "      <td>2</td>\n",
       "    </tr>\n",
       "    <tr>\n",
       "      <th>45769185</th>\n",
       "      <td>3607</td>\n",
       "      <td>862</td>\n",
       "      <td>FORD</td>\n",
       "      <td>Escape</td>\n",
       "      <td>2011</td>\n",
       "      <td>Jeep</td>\n",
       "      <td>Yes</td>\n",
       "      <td>Hybrid</td>\n",
       "      <td>2.5</td>\n",
       "      <td>168966 km</td>\n",
       "      <td>4.0</td>\n",
       "      <td>Automatic</td>\n",
       "      <td>4x4</td>\n",
       "      <td>04-May</td>\n",
       "      <td>Left wheel</td>\n",
       "      <td>White</td>\n",
       "      <td>0</td>\n",
       "    </tr>\n",
       "    <tr>\n",
       "      <th>45809263</th>\n",
       "      <td>11726</td>\n",
       "      <td>446</td>\n",
       "      <td>HONDA</td>\n",
       "      <td>FIT</td>\n",
       "      <td>2014</td>\n",
       "      <td>Hatchback</td>\n",
       "      <td>Yes</td>\n",
       "      <td>Petrol</td>\n",
       "      <td>1.3</td>\n",
       "      <td>91901 km</td>\n",
       "      <td>4.0</td>\n",
       "      <td>Automatic</td>\n",
       "      <td>Front</td>\n",
       "      <td>04-May</td>\n",
       "      <td>Left wheel</td>\n",
       "      <td>Silver</td>\n",
       "      <td>4</td>\n",
       "    </tr>\n",
       "  </tbody>\n",
       "</table>\n",
       "</div>"
      ],
      "text/plain": [
       "          Price  Levy Manufacturer    Model  Prod. year   Category  \\\n",
       "ID                                                                   \n",
       "45654403  13328  1399        LEXUS   RX 450        2010       Jeep   \n",
       "44731507  16621  1018    CHEVROLET  Equinox        2011       Jeep   \n",
       "45774419   8467     -        HONDA      FIT        2006  Hatchback   \n",
       "45769185   3607   862         FORD   Escape        2011       Jeep   \n",
       "45809263  11726   446        HONDA      FIT        2014  Hatchback   \n",
       "\n",
       "         Leather interior Fuel type Engine volume    Mileage  Cylinders  \\\n",
       "ID                                                                        \n",
       "45654403              Yes    Hybrid           3.5  186005 km        6.0   \n",
       "44731507               No    Petrol             3  192000 km        6.0   \n",
       "45774419               No    Petrol           1.3  200000 km        4.0   \n",
       "45769185              Yes    Hybrid           2.5  168966 km        4.0   \n",
       "45809263              Yes    Petrol           1.3   91901 km        4.0   \n",
       "\n",
       "         Gear box type Drive wheels   Doors             Wheel   Color  Airbags  \n",
       "ID                                                                              \n",
       "45654403     Automatic          4x4  04-May        Left wheel  Silver       12  \n",
       "44731507     Tiptronic          4x4  04-May        Left wheel   Black        8  \n",
       "45774419      Variator        Front  04-May  Right-hand drive   Black        2  \n",
       "45769185     Automatic          4x4  04-May        Left wheel   White        0  \n",
       "45809263     Automatic        Front  04-May        Left wheel  Silver        4  "
      ]
     },
     "execution_count": 6,
     "metadata": {},
     "output_type": "execute_result"
    }
   ],
   "source": [
    "df_train.head()"
   ]
  },
  {
   "cell_type": "code",
   "execution_count": 7,
   "metadata": {},
   "outputs": [
    {
     "data": {
      "text/plain": [
       "(18924, 17)"
      ]
     },
     "execution_count": 7,
     "metadata": {},
     "output_type": "execute_result"
    }
   ],
   "source": [
    "df_train.shape"
   ]
  },
  {
   "cell_type": "code",
   "execution_count": 8,
   "metadata": {},
   "outputs": [],
   "source": [
    "df_train['Mileage'] = df_train['Mileage'].apply(lambda x: int(x[:-2]))"
   ]
  },
  {
   "cell_type": "code",
   "execution_count": 9,
   "metadata": {
    "scrolled": true
   },
   "outputs": [
    {
     "name": "stdout",
     "output_type": "stream",
     "text": [
      "<class 'pandas.core.frame.DataFrame'>\n",
      "Int64Index: 18924 entries, 45654403 to 45813273\n",
      "Data columns (total 17 columns):\n",
      " #   Column            Non-Null Count  Dtype  \n",
      "---  ------            --------------  -----  \n",
      " 0   Price             18924 non-null  int64  \n",
      " 1   Levy              18924 non-null  object \n",
      " 2   Manufacturer      18924 non-null  object \n",
      " 3   Model             18924 non-null  object \n",
      " 4   Prod. year        18924 non-null  int64  \n",
      " 5   Category          18924 non-null  object \n",
      " 6   Leather interior  18924 non-null  object \n",
      " 7   Fuel type         18924 non-null  object \n",
      " 8   Engine volume     18924 non-null  object \n",
      " 9   Mileage           18924 non-null  int64  \n",
      " 10  Cylinders         18924 non-null  float64\n",
      " 11  Gear box type     18924 non-null  object \n",
      " 12  Drive wheels      18924 non-null  object \n",
      " 13  Doors             18924 non-null  object \n",
      " 14  Wheel             18924 non-null  object \n",
      " 15  Color             18924 non-null  object \n",
      " 16  Airbags           18924 non-null  int64  \n",
      "dtypes: float64(1), int64(4), object(12)\n",
      "memory usage: 2.6+ MB\n"
     ]
    }
   ],
   "source": [
    "df_train.info()"
   ]
  },
  {
   "cell_type": "code",
   "execution_count": 10,
   "metadata": {
    "scrolled": false
   },
   "outputs": [
    {
     "data": {
      "text/html": [
       "<div>\n",
       "<style scoped>\n",
       "    .dataframe tbody tr th:only-of-type {\n",
       "        vertical-align: middle;\n",
       "    }\n",
       "\n",
       "    .dataframe tbody tr th {\n",
       "        vertical-align: top;\n",
       "    }\n",
       "\n",
       "    .dataframe thead th {\n",
       "        text-align: right;\n",
       "    }\n",
       "</style>\n",
       "<table border=\"1\" class=\"dataframe\">\n",
       "  <thead>\n",
       "    <tr style=\"text-align: right;\">\n",
       "      <th></th>\n",
       "      <th>Price</th>\n",
       "      <th>Levy</th>\n",
       "      <th>Manufacturer</th>\n",
       "      <th>Model</th>\n",
       "      <th>Prod. year</th>\n",
       "      <th>Category</th>\n",
       "      <th>Leather interior</th>\n",
       "      <th>Fuel type</th>\n",
       "      <th>Engine volume</th>\n",
       "      <th>Mileage</th>\n",
       "      <th>Cylinders</th>\n",
       "      <th>Gear box type</th>\n",
       "      <th>Drive wheels</th>\n",
       "      <th>Doors</th>\n",
       "      <th>Wheel</th>\n",
       "      <th>Color</th>\n",
       "      <th>Airbags</th>\n",
       "    </tr>\n",
       "    <tr>\n",
       "      <th>ID</th>\n",
       "      <th></th>\n",
       "      <th></th>\n",
       "      <th></th>\n",
       "      <th></th>\n",
       "      <th></th>\n",
       "      <th></th>\n",
       "      <th></th>\n",
       "      <th></th>\n",
       "      <th></th>\n",
       "      <th></th>\n",
       "      <th></th>\n",
       "      <th></th>\n",
       "      <th></th>\n",
       "      <th></th>\n",
       "      <th></th>\n",
       "      <th></th>\n",
       "      <th></th>\n",
       "    </tr>\n",
       "  </thead>\n",
       "  <tbody>\n",
       "    <tr>\n",
       "      <th>45812886</th>\n",
       "      <td>26307500</td>\n",
       "      <td>-</td>\n",
       "      <td>OPEL</td>\n",
       "      <td>Combo</td>\n",
       "      <td>1999</td>\n",
       "      <td>Goods wagon</td>\n",
       "      <td>No</td>\n",
       "      <td>Diesel</td>\n",
       "      <td>1.7</td>\n",
       "      <td>99999</td>\n",
       "      <td>4.0</td>\n",
       "      <td>Manual</td>\n",
       "      <td>Front</td>\n",
       "      <td>02-Mar</td>\n",
       "      <td>Left wheel</td>\n",
       "      <td>Blue</td>\n",
       "      <td>0</td>\n",
       "    </tr>\n",
       "    <tr>\n",
       "      <th>45761204</th>\n",
       "      <td>872946</td>\n",
       "      <td>2067</td>\n",
       "      <td>LAMBORGHINI</td>\n",
       "      <td>Urus</td>\n",
       "      <td>2019</td>\n",
       "      <td>Universal</td>\n",
       "      <td>Yes</td>\n",
       "      <td>Petrol</td>\n",
       "      <td>4</td>\n",
       "      <td>2531</td>\n",
       "      <td>8.0</td>\n",
       "      <td>Tiptronic</td>\n",
       "      <td>4x4</td>\n",
       "      <td>04-May</td>\n",
       "      <td>Left wheel</td>\n",
       "      <td>Black</td>\n",
       "      <td>0</td>\n",
       "    </tr>\n",
       "    <tr>\n",
       "      <th>45795524</th>\n",
       "      <td>627220</td>\n",
       "      <td>-</td>\n",
       "      <td>MERCEDES-BENZ</td>\n",
       "      <td>G 65 AMG 63AMG</td>\n",
       "      <td>2020</td>\n",
       "      <td>Jeep</td>\n",
       "      <td>Yes</td>\n",
       "      <td>Petrol</td>\n",
       "      <td>6.3 Turbo</td>\n",
       "      <td>0</td>\n",
       "      <td>8.0</td>\n",
       "      <td>Tiptronic</td>\n",
       "      <td>4x4</td>\n",
       "      <td>04-May</td>\n",
       "      <td>Left wheel</td>\n",
       "      <td>Black</td>\n",
       "      <td>12</td>\n",
       "    </tr>\n",
       "    <tr>\n",
       "      <th>45810285</th>\n",
       "      <td>308906</td>\n",
       "      <td>1694</td>\n",
       "      <td>PORSCHE</td>\n",
       "      <td>911</td>\n",
       "      <td>2016</td>\n",
       "      <td>Coupe</td>\n",
       "      <td>Yes</td>\n",
       "      <td>Petrol</td>\n",
       "      <td>4</td>\n",
       "      <td>8690</td>\n",
       "      <td>6.0</td>\n",
       "      <td>Automatic</td>\n",
       "      <td>Rear</td>\n",
       "      <td>02-Mar</td>\n",
       "      <td>Left wheel</td>\n",
       "      <td>Black</td>\n",
       "      <td>12</td>\n",
       "    </tr>\n",
       "    <tr>\n",
       "      <th>45229113</th>\n",
       "      <td>297930</td>\n",
       "      <td>-</td>\n",
       "      <td>MERCEDES-BENZ</td>\n",
       "      <td>AMG GT S</td>\n",
       "      <td>2015</td>\n",
       "      <td>Coupe</td>\n",
       "      <td>Yes</td>\n",
       "      <td>Petrol</td>\n",
       "      <td>4.0 Turbo</td>\n",
       "      <td>20000</td>\n",
       "      <td>8.0</td>\n",
       "      <td>Tiptronic</td>\n",
       "      <td>Rear</td>\n",
       "      <td>02-Mar</td>\n",
       "      <td>Left wheel</td>\n",
       "      <td>White</td>\n",
       "      <td>16</td>\n",
       "    </tr>\n",
       "    <tr>\n",
       "      <th>...</th>\n",
       "      <td>...</td>\n",
       "      <td>...</td>\n",
       "      <td>...</td>\n",
       "      <td>...</td>\n",
       "      <td>...</td>\n",
       "      <td>...</td>\n",
       "      <td>...</td>\n",
       "      <td>...</td>\n",
       "      <td>...</td>\n",
       "      <td>...</td>\n",
       "      <td>...</td>\n",
       "      <td>...</td>\n",
       "      <td>...</td>\n",
       "      <td>...</td>\n",
       "      <td>...</td>\n",
       "      <td>...</td>\n",
       "      <td>...</td>\n",
       "    </tr>\n",
       "    <tr>\n",
       "      <th>45612423</th>\n",
       "      <td>3</td>\n",
       "      <td>-</td>\n",
       "      <td>HYUNDAI</td>\n",
       "      <td>Elantra</td>\n",
       "      <td>2011</td>\n",
       "      <td>Sedan</td>\n",
       "      <td>Yes</td>\n",
       "      <td>Petrol</td>\n",
       "      <td>1.8</td>\n",
       "      <td>80000</td>\n",
       "      <td>4.0</td>\n",
       "      <td>Tiptronic</td>\n",
       "      <td>Front</td>\n",
       "      <td>04-May</td>\n",
       "      <td>Left wheel</td>\n",
       "      <td>Grey</td>\n",
       "      <td>6</td>\n",
       "    </tr>\n",
       "    <tr>\n",
       "      <th>45788811</th>\n",
       "      <td>3</td>\n",
       "      <td>-</td>\n",
       "      <td>MERCEDES-BENZ</td>\n",
       "      <td>CLK 230</td>\n",
       "      <td>2004</td>\n",
       "      <td>Coupe</td>\n",
       "      <td>Yes</td>\n",
       "      <td>Petrol</td>\n",
       "      <td>2.3</td>\n",
       "      <td>328000</td>\n",
       "      <td>4.0</td>\n",
       "      <td>Manual</td>\n",
       "      <td>Rear</td>\n",
       "      <td>02-Mar</td>\n",
       "      <td>Left wheel</td>\n",
       "      <td>Blue</td>\n",
       "      <td>0</td>\n",
       "    </tr>\n",
       "    <tr>\n",
       "      <th>45470589</th>\n",
       "      <td>3</td>\n",
       "      <td>-</td>\n",
       "      <td>MERCEDES-BENZ</td>\n",
       "      <td>C 220</td>\n",
       "      <td>1998</td>\n",
       "      <td>Sedan</td>\n",
       "      <td>No</td>\n",
       "      <td>Diesel</td>\n",
       "      <td>2.2</td>\n",
       "      <td>20600</td>\n",
       "      <td>4.0</td>\n",
       "      <td>Manual</td>\n",
       "      <td>Rear</td>\n",
       "      <td>04-May</td>\n",
       "      <td>Left wheel</td>\n",
       "      <td>Black</td>\n",
       "      <td>2</td>\n",
       "    </tr>\n",
       "    <tr>\n",
       "      <th>45772201</th>\n",
       "      <td>1</td>\n",
       "      <td>1202</td>\n",
       "      <td>CHEVROLET</td>\n",
       "      <td>Lacetti</td>\n",
       "      <td>2006</td>\n",
       "      <td>Hatchback</td>\n",
       "      <td>No</td>\n",
       "      <td>Petrol</td>\n",
       "      <td>1.6</td>\n",
       "      <td>200000</td>\n",
       "      <td>4.0</td>\n",
       "      <td>Manual</td>\n",
       "      <td>Front</td>\n",
       "      <td>04-May</td>\n",
       "      <td>Left wheel</td>\n",
       "      <td>Black</td>\n",
       "      <td>2</td>\n",
       "    </tr>\n",
       "    <tr>\n",
       "      <th>45765530</th>\n",
       "      <td>1</td>\n",
       "      <td>-</td>\n",
       "      <td>OPEL</td>\n",
       "      <td>Astra</td>\n",
       "      <td>1999</td>\n",
       "      <td>Sedan</td>\n",
       "      <td>Yes</td>\n",
       "      <td>Petrol</td>\n",
       "      <td>1.6</td>\n",
       "      <td>122231</td>\n",
       "      <td>4.0</td>\n",
       "      <td>Manual</td>\n",
       "      <td>Front</td>\n",
       "      <td>04-May</td>\n",
       "      <td>Left wheel</td>\n",
       "      <td>Silver</td>\n",
       "      <td>4</td>\n",
       "    </tr>\n",
       "  </tbody>\n",
       "</table>\n",
       "<p>18924 rows × 17 columns</p>\n",
       "</div>"
      ],
      "text/plain": [
       "             Price  Levy   Manufacturer           Model  Prod. year  \\\n",
       "ID                                                                    \n",
       "45812886  26307500     -           OPEL           Combo        1999   \n",
       "45761204    872946  2067    LAMBORGHINI            Urus        2019   \n",
       "45795524    627220     -  MERCEDES-BENZ  G 65 AMG 63AMG        2020   \n",
       "45810285    308906  1694        PORSCHE             911        2016   \n",
       "45229113    297930     -  MERCEDES-BENZ        AMG GT S        2015   \n",
       "...            ...   ...            ...             ...         ...   \n",
       "45612423         3     -        HYUNDAI         Elantra        2011   \n",
       "45788811         3     -  MERCEDES-BENZ         CLK 230        2004   \n",
       "45470589         3     -  MERCEDES-BENZ           C 220        1998   \n",
       "45772201         1  1202      CHEVROLET         Lacetti        2006   \n",
       "45765530         1     -           OPEL           Astra        1999   \n",
       "\n",
       "             Category Leather interior Fuel type Engine volume  Mileage  \\\n",
       "ID                                                                        \n",
       "45812886  Goods wagon               No    Diesel           1.7    99999   \n",
       "45761204    Universal              Yes    Petrol             4     2531   \n",
       "45795524         Jeep              Yes    Petrol     6.3 Turbo        0   \n",
       "45810285        Coupe              Yes    Petrol             4     8690   \n",
       "45229113        Coupe              Yes    Petrol     4.0 Turbo    20000   \n",
       "...               ...              ...       ...           ...      ...   \n",
       "45612423        Sedan              Yes    Petrol           1.8    80000   \n",
       "45788811        Coupe              Yes    Petrol           2.3   328000   \n",
       "45470589        Sedan               No    Diesel           2.2    20600   \n",
       "45772201    Hatchback               No    Petrol           1.6   200000   \n",
       "45765530        Sedan              Yes    Petrol           1.6   122231   \n",
       "\n",
       "          Cylinders Gear box type Drive wheels   Doors       Wheel   Color  \\\n",
       "ID                                                                           \n",
       "45812886        4.0        Manual        Front  02-Mar  Left wheel    Blue   \n",
       "45761204        8.0     Tiptronic          4x4  04-May  Left wheel   Black   \n",
       "45795524        8.0     Tiptronic          4x4  04-May  Left wheel   Black   \n",
       "45810285        6.0     Automatic         Rear  02-Mar  Left wheel   Black   \n",
       "45229113        8.0     Tiptronic         Rear  02-Mar  Left wheel   White   \n",
       "...             ...           ...          ...     ...         ...     ...   \n",
       "45612423        4.0     Tiptronic        Front  04-May  Left wheel    Grey   \n",
       "45788811        4.0        Manual         Rear  02-Mar  Left wheel    Blue   \n",
       "45470589        4.0        Manual         Rear  04-May  Left wheel   Black   \n",
       "45772201        4.0        Manual        Front  04-May  Left wheel   Black   \n",
       "45765530        4.0        Manual        Front  04-May  Left wheel  Silver   \n",
       "\n",
       "          Airbags  \n",
       "ID                 \n",
       "45812886        0  \n",
       "45761204        0  \n",
       "45795524       12  \n",
       "45810285       12  \n",
       "45229113       16  \n",
       "...           ...  \n",
       "45612423        6  \n",
       "45788811        0  \n",
       "45470589        2  \n",
       "45772201        2  \n",
       "45765530        4  \n",
       "\n",
       "[18924 rows x 17 columns]"
      ]
     },
     "execution_count": 10,
     "metadata": {},
     "output_type": "execute_result"
    }
   ],
   "source": [
    "df_train.sort_values(\"Price\", ascending=False)"
   ]
  },
  {
   "cell_type": "code",
   "execution_count": 11,
   "metadata": {},
   "outputs": [],
   "source": [
    "def remove_outliers_iqr(df, column):\n",
    "    Q1 = df[column].quantile(0.25)\n",
    "    Q3 = df[column].quantile(0.75)\n",
    "    IQR = Q3 - Q1\n",
    "    df_res = df[~((df[column] < Q1 - 1.5*IQR) | (df[column] > Q3 + 1.5*IQR))]\n",
    "    return df_res"
   ]
  },
  {
   "cell_type": "code",
   "execution_count": 12,
   "metadata": {},
   "outputs": [],
   "source": [
    "#df_unmod = df_train.copy()"
   ]
  },
  {
   "cell_type": "code",
   "execution_count": null,
   "metadata": {},
   "outputs": [],
   "source": []
  },
  {
   "cell_type": "code",
   "execution_count": null,
   "metadata": {},
   "outputs": [],
   "source": []
  },
  {
   "cell_type": "markdown",
   "metadata": {},
   "source": [
    "## Object data"
   ]
  },
  {
   "cell_type": "code",
   "execution_count": 13,
   "metadata": {},
   "outputs": [],
   "source": [
    "df_obj = df_train.select_dtypes(include='object').copy()"
   ]
  },
  {
   "cell_type": "code",
   "execution_count": 14,
   "metadata": {
    "scrolled": true
   },
   "outputs": [
    {
     "data": {
      "text/html": [
       "<div>\n",
       "<style scoped>\n",
       "    .dataframe tbody tr th:only-of-type {\n",
       "        vertical-align: middle;\n",
       "    }\n",
       "\n",
       "    .dataframe tbody tr th {\n",
       "        vertical-align: top;\n",
       "    }\n",
       "\n",
       "    .dataframe thead th {\n",
       "        text-align: right;\n",
       "    }\n",
       "</style>\n",
       "<table border=\"1\" class=\"dataframe\">\n",
       "  <thead>\n",
       "    <tr style=\"text-align: right;\">\n",
       "      <th></th>\n",
       "      <th>Levy</th>\n",
       "      <th>Manufacturer</th>\n",
       "      <th>Model</th>\n",
       "      <th>Category</th>\n",
       "      <th>Leather interior</th>\n",
       "      <th>Fuel type</th>\n",
       "      <th>Engine volume</th>\n",
       "      <th>Gear box type</th>\n",
       "      <th>Drive wheels</th>\n",
       "      <th>Doors</th>\n",
       "      <th>Wheel</th>\n",
       "      <th>Color</th>\n",
       "    </tr>\n",
       "    <tr>\n",
       "      <th>ID</th>\n",
       "      <th></th>\n",
       "      <th></th>\n",
       "      <th></th>\n",
       "      <th></th>\n",
       "      <th></th>\n",
       "      <th></th>\n",
       "      <th></th>\n",
       "      <th></th>\n",
       "      <th></th>\n",
       "      <th></th>\n",
       "      <th></th>\n",
       "      <th></th>\n",
       "    </tr>\n",
       "  </thead>\n",
       "  <tbody>\n",
       "    <tr>\n",
       "      <th>45654403</th>\n",
       "      <td>1399</td>\n",
       "      <td>LEXUS</td>\n",
       "      <td>RX 450</td>\n",
       "      <td>Jeep</td>\n",
       "      <td>Yes</td>\n",
       "      <td>Hybrid</td>\n",
       "      <td>3.5</td>\n",
       "      <td>Automatic</td>\n",
       "      <td>4x4</td>\n",
       "      <td>04-May</td>\n",
       "      <td>Left wheel</td>\n",
       "      <td>Silver</td>\n",
       "    </tr>\n",
       "    <tr>\n",
       "      <th>44731507</th>\n",
       "      <td>1018</td>\n",
       "      <td>CHEVROLET</td>\n",
       "      <td>Equinox</td>\n",
       "      <td>Jeep</td>\n",
       "      <td>No</td>\n",
       "      <td>Petrol</td>\n",
       "      <td>3</td>\n",
       "      <td>Tiptronic</td>\n",
       "      <td>4x4</td>\n",
       "      <td>04-May</td>\n",
       "      <td>Left wheel</td>\n",
       "      <td>Black</td>\n",
       "    </tr>\n",
       "    <tr>\n",
       "      <th>45774419</th>\n",
       "      <td>-</td>\n",
       "      <td>HONDA</td>\n",
       "      <td>FIT</td>\n",
       "      <td>Hatchback</td>\n",
       "      <td>No</td>\n",
       "      <td>Petrol</td>\n",
       "      <td>1.3</td>\n",
       "      <td>Variator</td>\n",
       "      <td>Front</td>\n",
       "      <td>04-May</td>\n",
       "      <td>Right-hand drive</td>\n",
       "      <td>Black</td>\n",
       "    </tr>\n",
       "    <tr>\n",
       "      <th>45769185</th>\n",
       "      <td>862</td>\n",
       "      <td>FORD</td>\n",
       "      <td>Escape</td>\n",
       "      <td>Jeep</td>\n",
       "      <td>Yes</td>\n",
       "      <td>Hybrid</td>\n",
       "      <td>2.5</td>\n",
       "      <td>Automatic</td>\n",
       "      <td>4x4</td>\n",
       "      <td>04-May</td>\n",
       "      <td>Left wheel</td>\n",
       "      <td>White</td>\n",
       "    </tr>\n",
       "    <tr>\n",
       "      <th>45809263</th>\n",
       "      <td>446</td>\n",
       "      <td>HONDA</td>\n",
       "      <td>FIT</td>\n",
       "      <td>Hatchback</td>\n",
       "      <td>Yes</td>\n",
       "      <td>Petrol</td>\n",
       "      <td>1.3</td>\n",
       "      <td>Automatic</td>\n",
       "      <td>Front</td>\n",
       "      <td>04-May</td>\n",
       "      <td>Left wheel</td>\n",
       "      <td>Silver</td>\n",
       "    </tr>\n",
       "  </tbody>\n",
       "</table>\n",
       "</div>"
      ],
      "text/plain": [
       "          Levy Manufacturer    Model   Category Leather interior Fuel type  \\\n",
       "ID                                                                           \n",
       "45654403  1399        LEXUS   RX 450       Jeep              Yes    Hybrid   \n",
       "44731507  1018    CHEVROLET  Equinox       Jeep               No    Petrol   \n",
       "45774419     -        HONDA      FIT  Hatchback               No    Petrol   \n",
       "45769185   862         FORD   Escape       Jeep              Yes    Hybrid   \n",
       "45809263   446        HONDA      FIT  Hatchback              Yes    Petrol   \n",
       "\n",
       "         Engine volume Gear box type Drive wheels   Doors             Wheel  \\\n",
       "ID                                                                            \n",
       "45654403           3.5     Automatic          4x4  04-May        Left wheel   \n",
       "44731507             3     Tiptronic          4x4  04-May        Left wheel   \n",
       "45774419           1.3      Variator        Front  04-May  Right-hand drive   \n",
       "45769185           2.5     Automatic          4x4  04-May        Left wheel   \n",
       "45809263           1.3     Automatic        Front  04-May        Left wheel   \n",
       "\n",
       "           Color  \n",
       "ID                \n",
       "45654403  Silver  \n",
       "44731507   Black  \n",
       "45774419   Black  \n",
       "45769185   White  \n",
       "45809263  Silver  "
      ]
     },
     "execution_count": 14,
     "metadata": {},
     "output_type": "execute_result"
    }
   ],
   "source": [
    "df_obj.head()"
   ]
  },
  {
   "cell_type": "markdown",
   "metadata": {},
   "source": [
    "#### Levy"
   ]
  },
  {
   "cell_type": "code",
   "execution_count": 15,
   "metadata": {
    "scrolled": false
   },
   "outputs": [
    {
     "data": {
      "text/plain": [
       "-       5709\n",
       "765      482\n",
       "891      453\n",
       "639      403\n",
       "640      398\n",
       "        ... \n",
       "681        1\n",
       "3208       1\n",
       "1590       1\n",
       "2908       1\n",
       "972        1\n",
       "Name: Levy, Length: 559, dtype: int64"
      ]
     },
     "execution_count": 15,
     "metadata": {},
     "output_type": "execute_result"
    }
   ],
   "source": [
    "df_obj.Levy.value_counts()"
   ]
  },
  {
   "cell_type": "code",
   "execution_count": 16,
   "metadata": {
    "scrolled": true
   },
   "outputs": [
    {
     "data": {
      "text/plain": [
       "Levy\n",
       "2067    449958.5\n",
       "2269    288521.0\n",
       "2819    175622.0\n",
       "1951    128188.5\n",
       "3057    121524.0\n",
       "          ...   \n",
       "2472       314.0\n",
       "1297       314.0\n",
       "1279       150.0\n",
       "2278       125.0\n",
       "2308        33.0\n",
       "Name: Price, Length: 559, dtype: float64"
      ]
     },
     "execution_count": 16,
     "metadata": {},
     "output_type": "execute_result"
    }
   ],
   "source": [
    "df_train.groupby(['Levy'])['Price'].mean().sort_values(ascending=False)"
   ]
  },
  {
   "cell_type": "code",
   "execution_count": 17,
   "metadata": {
    "scrolled": true
   },
   "outputs": [],
   "source": [
    "map_levy = dict(df_train.groupby(['Levy'])['Price'].mean()/1e4)\n",
    "\n",
    "df_obj.Levy = df_obj.Levy.map(map_levy)"
   ]
  },
  {
   "cell_type": "code",
   "execution_count": 18,
   "metadata": {},
   "outputs": [
    {
     "data": {
      "text/html": [
       "<div>\n",
       "<style scoped>\n",
       "    .dataframe tbody tr th:only-of-type {\n",
       "        vertical-align: middle;\n",
       "    }\n",
       "\n",
       "    .dataframe tbody tr th {\n",
       "        vertical-align: top;\n",
       "    }\n",
       "\n",
       "    .dataframe thead th {\n",
       "        text-align: right;\n",
       "    }\n",
       "</style>\n",
       "<table border=\"1\" class=\"dataframe\">\n",
       "  <thead>\n",
       "    <tr style=\"text-align: right;\">\n",
       "      <th></th>\n",
       "      <th>Levy</th>\n",
       "      <th>Manufacturer</th>\n",
       "      <th>Model</th>\n",
       "      <th>Category</th>\n",
       "      <th>Leather interior</th>\n",
       "      <th>Fuel type</th>\n",
       "      <th>Engine volume</th>\n",
       "      <th>Gear box type</th>\n",
       "      <th>Drive wheels</th>\n",
       "      <th>Doors</th>\n",
       "      <th>Wheel</th>\n",
       "      <th>Color</th>\n",
       "    </tr>\n",
       "    <tr>\n",
       "      <th>ID</th>\n",
       "      <th></th>\n",
       "      <th></th>\n",
       "      <th></th>\n",
       "      <th></th>\n",
       "      <th></th>\n",
       "      <th></th>\n",
       "      <th></th>\n",
       "      <th></th>\n",
       "      <th></th>\n",
       "      <th></th>\n",
       "      <th></th>\n",
       "      <th></th>\n",
       "    </tr>\n",
       "  </thead>\n",
       "  <tbody>\n",
       "    <tr>\n",
       "      <th>45654403</th>\n",
       "      <td>0.707867</td>\n",
       "      <td>LEXUS</td>\n",
       "      <td>RX 450</td>\n",
       "      <td>Jeep</td>\n",
       "      <td>Yes</td>\n",
       "      <td>Hybrid</td>\n",
       "      <td>3.5</td>\n",
       "      <td>Automatic</td>\n",
       "      <td>4x4</td>\n",
       "      <td>04-May</td>\n",
       "      <td>Left wheel</td>\n",
       "      <td>Silver</td>\n",
       "    </tr>\n",
       "    <tr>\n",
       "      <th>44731507</th>\n",
       "      <td>1.142824</td>\n",
       "      <td>CHEVROLET</td>\n",
       "      <td>Equinox</td>\n",
       "      <td>Jeep</td>\n",
       "      <td>No</td>\n",
       "      <td>Petrol</td>\n",
       "      <td>3</td>\n",
       "      <td>Tiptronic</td>\n",
       "      <td>4x4</td>\n",
       "      <td>04-May</td>\n",
       "      <td>Left wheel</td>\n",
       "      <td>Black</td>\n",
       "    </tr>\n",
       "    <tr>\n",
       "      <th>45774419</th>\n",
       "      <td>2.150699</td>\n",
       "      <td>HONDA</td>\n",
       "      <td>FIT</td>\n",
       "      <td>Hatchback</td>\n",
       "      <td>No</td>\n",
       "      <td>Petrol</td>\n",
       "      <td>1.3</td>\n",
       "      <td>Variator</td>\n",
       "      <td>Front</td>\n",
       "      <td>04-May</td>\n",
       "      <td>Right-hand drive</td>\n",
       "      <td>Black</td>\n",
       "    </tr>\n",
       "    <tr>\n",
       "      <th>45769185</th>\n",
       "      <td>1.181298</td>\n",
       "      <td>FORD</td>\n",
       "      <td>Escape</td>\n",
       "      <td>Jeep</td>\n",
       "      <td>Yes</td>\n",
       "      <td>Hybrid</td>\n",
       "      <td>2.5</td>\n",
       "      <td>Automatic</td>\n",
       "      <td>4x4</td>\n",
       "      <td>04-May</td>\n",
       "      <td>Left wheel</td>\n",
       "      <td>White</td>\n",
       "    </tr>\n",
       "    <tr>\n",
       "      <th>45809263</th>\n",
       "      <td>1.956810</td>\n",
       "      <td>HONDA</td>\n",
       "      <td>FIT</td>\n",
       "      <td>Hatchback</td>\n",
       "      <td>Yes</td>\n",
       "      <td>Petrol</td>\n",
       "      <td>1.3</td>\n",
       "      <td>Automatic</td>\n",
       "      <td>Front</td>\n",
       "      <td>04-May</td>\n",
       "      <td>Left wheel</td>\n",
       "      <td>Silver</td>\n",
       "    </tr>\n",
       "  </tbody>\n",
       "</table>\n",
       "</div>"
      ],
      "text/plain": [
       "              Levy Manufacturer    Model   Category Leather interior  \\\n",
       "ID                                                                     \n",
       "45654403  0.707867        LEXUS   RX 450       Jeep              Yes   \n",
       "44731507  1.142824    CHEVROLET  Equinox       Jeep               No   \n",
       "45774419  2.150699        HONDA      FIT  Hatchback               No   \n",
       "45769185  1.181298         FORD   Escape       Jeep              Yes   \n",
       "45809263  1.956810        HONDA      FIT  Hatchback              Yes   \n",
       "\n",
       "         Fuel type Engine volume Gear box type Drive wheels   Doors  \\\n",
       "ID                                                                    \n",
       "45654403    Hybrid           3.5     Automatic          4x4  04-May   \n",
       "44731507    Petrol             3     Tiptronic          4x4  04-May   \n",
       "45774419    Petrol           1.3      Variator        Front  04-May   \n",
       "45769185    Hybrid           2.5     Automatic          4x4  04-May   \n",
       "45809263    Petrol           1.3     Automatic        Front  04-May   \n",
       "\n",
       "                     Wheel   Color  \n",
       "ID                                  \n",
       "45654403        Left wheel  Silver  \n",
       "44731507        Left wheel   Black  \n",
       "45774419  Right-hand drive   Black  \n",
       "45769185        Left wheel   White  \n",
       "45809263        Left wheel  Silver  "
      ]
     },
     "execution_count": 18,
     "metadata": {},
     "output_type": "execute_result"
    }
   ],
   "source": [
    "df_obj.head()"
   ]
  },
  {
   "cell_type": "markdown",
   "metadata": {},
   "source": [
    "#### Manufacturer"
   ]
  },
  {
   "cell_type": "markdown",
   "metadata": {},
   "source": [
    "Ordinal encoding the Manufacturer column in order of the mean price for each brand"
   ]
  },
  {
   "cell_type": "code",
   "execution_count": 19,
   "metadata": {
    "scrolled": false
   },
   "outputs": [
    {
     "data": {
      "text/plain": [
       "Manufacturer\n",
       "LAMBORGHINI    872946.000000\n",
       "BENTLEY        197574.500000\n",
       "OPEL            73474.893939\n",
       "FERRARI         66955.500000\n",
       "LAND ROVER      54807.187500\n",
       "                   ...      \n",
       "VAZ              4659.893617\n",
       "MOSKVICH         4609.000000\n",
       "ZAZ              3822.500000\n",
       "ROVER            2433.333333\n",
       "ROLLS-ROYCE       178.500000\n",
       "Name: Price, Length: 65, dtype: float64"
      ]
     },
     "execution_count": 19,
     "metadata": {},
     "output_type": "execute_result"
    }
   ],
   "source": [
    "df_train.groupby(['Manufacturer'])['Price'].mean().sort_values(ascending=False)"
   ]
  },
  {
   "cell_type": "code",
   "execution_count": 20,
   "metadata": {
    "scrolled": true
   },
   "outputs": [],
   "source": [
    "map_manufac = dict(df_train.groupby(['Manufacturer'])['Price'].mean()/1000)\n",
    "\n",
    "df_obj.Manufacturer = df_obj.Manufacturer.map(map_manufac)"
   ]
  },
  {
   "cell_type": "code",
   "execution_count": 21,
   "metadata": {
    "scrolled": true
   },
   "outputs": [
    {
     "data": {
      "text/html": [
       "<div>\n",
       "<style scoped>\n",
       "    .dataframe tbody tr th:only-of-type {\n",
       "        vertical-align: middle;\n",
       "    }\n",
       "\n",
       "    .dataframe tbody tr th {\n",
       "        vertical-align: top;\n",
       "    }\n",
       "\n",
       "    .dataframe thead th {\n",
       "        text-align: right;\n",
       "    }\n",
       "</style>\n",
       "<table border=\"1\" class=\"dataframe\">\n",
       "  <thead>\n",
       "    <tr style=\"text-align: right;\">\n",
       "      <th></th>\n",
       "      <th>Levy</th>\n",
       "      <th>Manufacturer</th>\n",
       "      <th>Model</th>\n",
       "      <th>Category</th>\n",
       "      <th>Leather interior</th>\n",
       "      <th>Fuel type</th>\n",
       "      <th>Engine volume</th>\n",
       "      <th>Gear box type</th>\n",
       "      <th>Drive wheels</th>\n",
       "      <th>Doors</th>\n",
       "      <th>Wheel</th>\n",
       "      <th>Color</th>\n",
       "    </tr>\n",
       "    <tr>\n",
       "      <th>ID</th>\n",
       "      <th></th>\n",
       "      <th></th>\n",
       "      <th></th>\n",
       "      <th></th>\n",
       "      <th></th>\n",
       "      <th></th>\n",
       "      <th></th>\n",
       "      <th></th>\n",
       "      <th></th>\n",
       "      <th></th>\n",
       "      <th></th>\n",
       "      <th></th>\n",
       "    </tr>\n",
       "  </thead>\n",
       "  <tbody>\n",
       "    <tr>\n",
       "      <th>45654403</th>\n",
       "      <td>0.707867</td>\n",
       "      <td>20.052594</td>\n",
       "      <td>RX 450</td>\n",
       "      <td>Jeep</td>\n",
       "      <td>Yes</td>\n",
       "      <td>Hybrid</td>\n",
       "      <td>3.5</td>\n",
       "      <td>Automatic</td>\n",
       "      <td>4x4</td>\n",
       "      <td>04-May</td>\n",
       "      <td>Left wheel</td>\n",
       "      <td>Silver</td>\n",
       "    </tr>\n",
       "    <tr>\n",
       "      <th>44731507</th>\n",
       "      <td>1.142824</td>\n",
       "      <td>14.894874</td>\n",
       "      <td>Equinox</td>\n",
       "      <td>Jeep</td>\n",
       "      <td>No</td>\n",
       "      <td>Petrol</td>\n",
       "      <td>3</td>\n",
       "      <td>Tiptronic</td>\n",
       "      <td>4x4</td>\n",
       "      <td>04-May</td>\n",
       "      <td>Left wheel</td>\n",
       "      <td>Black</td>\n",
       "    </tr>\n",
       "    <tr>\n",
       "      <th>45774419</th>\n",
       "      <td>2.150699</td>\n",
       "      <td>14.162074</td>\n",
       "      <td>FIT</td>\n",
       "      <td>Hatchback</td>\n",
       "      <td>No</td>\n",
       "      <td>Petrol</td>\n",
       "      <td>1.3</td>\n",
       "      <td>Variator</td>\n",
       "      <td>Front</td>\n",
       "      <td>04-May</td>\n",
       "      <td>Right-hand drive</td>\n",
       "      <td>Black</td>\n",
       "    </tr>\n",
       "    <tr>\n",
       "      <th>45769185</th>\n",
       "      <td>1.181298</td>\n",
       "      <td>15.411850</td>\n",
       "      <td>Escape</td>\n",
       "      <td>Jeep</td>\n",
       "      <td>Yes</td>\n",
       "      <td>Hybrid</td>\n",
       "      <td>2.5</td>\n",
       "      <td>Automatic</td>\n",
       "      <td>4x4</td>\n",
       "      <td>04-May</td>\n",
       "      <td>Left wheel</td>\n",
       "      <td>White</td>\n",
       "    </tr>\n",
       "    <tr>\n",
       "      <th>45809263</th>\n",
       "      <td>1.956810</td>\n",
       "      <td>14.162074</td>\n",
       "      <td>FIT</td>\n",
       "      <td>Hatchback</td>\n",
       "      <td>Yes</td>\n",
       "      <td>Petrol</td>\n",
       "      <td>1.3</td>\n",
       "      <td>Automatic</td>\n",
       "      <td>Front</td>\n",
       "      <td>04-May</td>\n",
       "      <td>Left wheel</td>\n",
       "      <td>Silver</td>\n",
       "    </tr>\n",
       "  </tbody>\n",
       "</table>\n",
       "</div>"
      ],
      "text/plain": [
       "              Levy  Manufacturer    Model   Category Leather interior  \\\n",
       "ID                                                                      \n",
       "45654403  0.707867     20.052594   RX 450       Jeep              Yes   \n",
       "44731507  1.142824     14.894874  Equinox       Jeep               No   \n",
       "45774419  2.150699     14.162074      FIT  Hatchback               No   \n",
       "45769185  1.181298     15.411850   Escape       Jeep              Yes   \n",
       "45809263  1.956810     14.162074      FIT  Hatchback              Yes   \n",
       "\n",
       "         Fuel type Engine volume Gear box type Drive wheels   Doors  \\\n",
       "ID                                                                    \n",
       "45654403    Hybrid           3.5     Automatic          4x4  04-May   \n",
       "44731507    Petrol             3     Tiptronic          4x4  04-May   \n",
       "45774419    Petrol           1.3      Variator        Front  04-May   \n",
       "45769185    Hybrid           2.5     Automatic          4x4  04-May   \n",
       "45809263    Petrol           1.3     Automatic        Front  04-May   \n",
       "\n",
       "                     Wheel   Color  \n",
       "ID                                  \n",
       "45654403        Left wheel  Silver  \n",
       "44731507        Left wheel   Black  \n",
       "45774419  Right-hand drive   Black  \n",
       "45769185        Left wheel   White  \n",
       "45809263        Left wheel  Silver  "
      ]
     },
     "execution_count": 21,
     "metadata": {},
     "output_type": "execute_result"
    }
   ],
   "source": [
    "df_obj.head()"
   ]
  },
  {
   "cell_type": "markdown",
   "metadata": {},
   "source": [
    "#### Model"
   ]
  },
  {
   "cell_type": "code",
   "execution_count": 22,
   "metadata": {},
   "outputs": [
    {
     "data": {
      "text/plain": [
       "Prius        1069\n",
       "Sonata       1067\n",
       "Camry         929\n",
       "Elantra       910\n",
       "E 350         534\n",
       "             ... \n",
       "Lancer GT       1\n",
       "Allante         1\n",
       "216             1\n",
       "Rodeo           1\n",
       "S 420           1\n",
       "Name: Model, Length: 1590, dtype: int64"
      ]
     },
     "execution_count": 22,
     "metadata": {},
     "output_type": "execute_result"
    }
   ],
   "source": [
    "df_obj.Model.value_counts()"
   ]
  },
  {
   "cell_type": "code",
   "execution_count": 23,
   "metadata": {
    "scrolled": true
   },
   "outputs": [
    {
     "data": {
      "text/plain": [
       "Model\n",
       "09-Mar       6920.000000\n",
       "100         12819.000000\n",
       "100 NX       5331.000000\n",
       "1000         3620.176471\n",
       "1111         4000.000000\n",
       "               ...      \n",
       "kona        45473.000000\n",
       "macan      109450.000000\n",
       "macan S    103178.000000\n",
       "tC          19233.666667\n",
       "xD          14531.000000\n",
       "Name: Price, Length: 1590, dtype: float64"
      ]
     },
     "execution_count": 23,
     "metadata": {},
     "output_type": "execute_result"
    }
   ],
   "source": [
    "df_train.groupby(['Model'])['Price'].mean()"
   ]
  },
  {
   "cell_type": "markdown",
   "metadata": {},
   "source": [
    "Ignoring Model under the assumption that model doesn't influence the price as much"
   ]
  },
  {
   "cell_type": "markdown",
   "metadata": {},
   "source": [
    "#### Category"
   ]
  },
  {
   "cell_type": "code",
   "execution_count": 24,
   "metadata": {},
   "outputs": [
    {
     "data": {
      "text/plain": [
       "Sedan          8600\n",
       "Jeep           5378\n",
       "Hatchback      2799\n",
       "Minivan         633\n",
       "Coupe           528\n",
       "Universal       361\n",
       "Microbus        299\n",
       "Goods wagon     229\n",
       "Pickup           51\n",
       "Cabriolet        35\n",
       "Limousine        11\n",
       "Name: Category, dtype: int64"
      ]
     },
     "execution_count": 24,
     "metadata": {},
     "output_type": "execute_result"
    }
   ],
   "source": [
    "df_obj.Category.value_counts()"
   ]
  },
  {
   "cell_type": "code",
   "execution_count": 25,
   "metadata": {
    "scrolled": false
   },
   "outputs": [],
   "source": [
    "map_category = dict(df_train.groupby(['Category'])['Price'].mean()/1e4)\n",
    "\n",
    "df_obj.Category = df_obj.Category.map(map_category)"
   ]
  },
  {
   "cell_type": "code",
   "execution_count": 26,
   "metadata": {},
   "outputs": [
    {
     "data": {
      "text/html": [
       "<div>\n",
       "<style scoped>\n",
       "    .dataframe tbody tr th:only-of-type {\n",
       "        vertical-align: middle;\n",
       "    }\n",
       "\n",
       "    .dataframe tbody tr th {\n",
       "        vertical-align: top;\n",
       "    }\n",
       "\n",
       "    .dataframe thead th {\n",
       "        text-align: right;\n",
       "    }\n",
       "</style>\n",
       "<table border=\"1\" class=\"dataframe\">\n",
       "  <thead>\n",
       "    <tr style=\"text-align: right;\">\n",
       "      <th></th>\n",
       "      <th>Levy</th>\n",
       "      <th>Manufacturer</th>\n",
       "      <th>Model</th>\n",
       "      <th>Category</th>\n",
       "      <th>Leather interior</th>\n",
       "      <th>Fuel type</th>\n",
       "      <th>Engine volume</th>\n",
       "      <th>Gear box type</th>\n",
       "      <th>Drive wheels</th>\n",
       "      <th>Doors</th>\n",
       "      <th>Wheel</th>\n",
       "      <th>Color</th>\n",
       "    </tr>\n",
       "    <tr>\n",
       "      <th>ID</th>\n",
       "      <th></th>\n",
       "      <th></th>\n",
       "      <th></th>\n",
       "      <th></th>\n",
       "      <th></th>\n",
       "      <th></th>\n",
       "      <th></th>\n",
       "      <th></th>\n",
       "      <th></th>\n",
       "      <th></th>\n",
       "      <th></th>\n",
       "      <th></th>\n",
       "    </tr>\n",
       "  </thead>\n",
       "  <tbody>\n",
       "    <tr>\n",
       "      <th>45654403</th>\n",
       "      <td>0.707867</td>\n",
       "      <td>20.052594</td>\n",
       "      <td>RX 450</td>\n",
       "      <td>2.376051</td>\n",
       "      <td>Yes</td>\n",
       "      <td>Hybrid</td>\n",
       "      <td>3.5</td>\n",
       "      <td>Automatic</td>\n",
       "      <td>4x4</td>\n",
       "      <td>04-May</td>\n",
       "      <td>Left wheel</td>\n",
       "      <td>Silver</td>\n",
       "    </tr>\n",
       "    <tr>\n",
       "      <th>44731507</th>\n",
       "      <td>1.142824</td>\n",
       "      <td>14.894874</td>\n",
       "      <td>Equinox</td>\n",
       "      <td>2.376051</td>\n",
       "      <td>No</td>\n",
       "      <td>Petrol</td>\n",
       "      <td>3</td>\n",
       "      <td>Tiptronic</td>\n",
       "      <td>4x4</td>\n",
       "      <td>04-May</td>\n",
       "      <td>Left wheel</td>\n",
       "      <td>Black</td>\n",
       "    </tr>\n",
       "    <tr>\n",
       "      <th>45774419</th>\n",
       "      <td>2.150699</td>\n",
       "      <td>14.162074</td>\n",
       "      <td>FIT</td>\n",
       "      <td>1.135461</td>\n",
       "      <td>No</td>\n",
       "      <td>Petrol</td>\n",
       "      <td>1.3</td>\n",
       "      <td>Variator</td>\n",
       "      <td>Front</td>\n",
       "      <td>04-May</td>\n",
       "      <td>Right-hand drive</td>\n",
       "      <td>Black</td>\n",
       "    </tr>\n",
       "    <tr>\n",
       "      <th>45769185</th>\n",
       "      <td>1.181298</td>\n",
       "      <td>15.411850</td>\n",
       "      <td>Escape</td>\n",
       "      <td>2.376051</td>\n",
       "      <td>Yes</td>\n",
       "      <td>Hybrid</td>\n",
       "      <td>2.5</td>\n",
       "      <td>Automatic</td>\n",
       "      <td>4x4</td>\n",
       "      <td>04-May</td>\n",
       "      <td>Left wheel</td>\n",
       "      <td>White</td>\n",
       "    </tr>\n",
       "    <tr>\n",
       "      <th>45809263</th>\n",
       "      <td>1.956810</td>\n",
       "      <td>14.162074</td>\n",
       "      <td>FIT</td>\n",
       "      <td>1.135461</td>\n",
       "      <td>Yes</td>\n",
       "      <td>Petrol</td>\n",
       "      <td>1.3</td>\n",
       "      <td>Automatic</td>\n",
       "      <td>Front</td>\n",
       "      <td>04-May</td>\n",
       "      <td>Left wheel</td>\n",
       "      <td>Silver</td>\n",
       "    </tr>\n",
       "  </tbody>\n",
       "</table>\n",
       "</div>"
      ],
      "text/plain": [
       "              Levy  Manufacturer    Model  Category Leather interior  \\\n",
       "ID                                                                     \n",
       "45654403  0.707867     20.052594   RX 450  2.376051              Yes   \n",
       "44731507  1.142824     14.894874  Equinox  2.376051               No   \n",
       "45774419  2.150699     14.162074      FIT  1.135461               No   \n",
       "45769185  1.181298     15.411850   Escape  2.376051              Yes   \n",
       "45809263  1.956810     14.162074      FIT  1.135461              Yes   \n",
       "\n",
       "         Fuel type Engine volume Gear box type Drive wheels   Doors  \\\n",
       "ID                                                                    \n",
       "45654403    Hybrid           3.5     Automatic          4x4  04-May   \n",
       "44731507    Petrol             3     Tiptronic          4x4  04-May   \n",
       "45774419    Petrol           1.3      Variator        Front  04-May   \n",
       "45769185    Hybrid           2.5     Automatic          4x4  04-May   \n",
       "45809263    Petrol           1.3     Automatic        Front  04-May   \n",
       "\n",
       "                     Wheel   Color  \n",
       "ID                                  \n",
       "45654403        Left wheel  Silver  \n",
       "44731507        Left wheel   Black  \n",
       "45774419  Right-hand drive   Black  \n",
       "45769185        Left wheel   White  \n",
       "45809263        Left wheel  Silver  "
      ]
     },
     "execution_count": 26,
     "metadata": {},
     "output_type": "execute_result"
    }
   ],
   "source": [
    "df_obj.head()"
   ]
  },
  {
   "cell_type": "markdown",
   "metadata": {},
   "source": [
    "#### Leather interior"
   ]
  },
  {
   "cell_type": "code",
   "execution_count": 27,
   "metadata": {},
   "outputs": [
    {
     "data": {
      "text/plain": [
       "Yes    13731\n",
       "No      5193\n",
       "Name: Leather interior, dtype: int64"
      ]
     },
     "execution_count": 27,
     "metadata": {},
     "output_type": "execute_result"
    }
   ],
   "source": [
    "df_obj['Leather interior'].value_counts()"
   ]
  },
  {
   "cell_type": "code",
   "execution_count": 28,
   "metadata": {},
   "outputs": [],
   "source": [
    "map_leather = {'Yes': 1, 'No': 0}\n",
    "\n",
    "df_obj['Leather interior'] = df_obj['Leather interior'].map(map_leather)"
   ]
  },
  {
   "cell_type": "markdown",
   "metadata": {},
   "source": [
    "#### Fuel type"
   ]
  },
  {
   "cell_type": "code",
   "execution_count": 29,
   "metadata": {},
   "outputs": [
    {
     "data": {
      "text/plain": [
       "Petrol            9944\n",
       "Diesel            4001\n",
       "Hybrid            3539\n",
       "LPG                885\n",
       "CNG                469\n",
       "Plug-in Hybrid      85\n",
       "Hydrogen             1\n",
       "Name: Fuel type, dtype: int64"
      ]
     },
     "execution_count": 29,
     "metadata": {},
     "output_type": "execute_result"
    }
   ],
   "source": [
    "df_obj['Fuel type'].value_counts()"
   ]
  },
  {
   "cell_type": "code",
   "execution_count": 30,
   "metadata": {},
   "outputs": [
    {
     "data": {
      "text/plain": [
       "Fuel type\n",
       "CNG                8186.859275\n",
       "Diesel            30684.792802\n",
       "Hybrid            10845.476688\n",
       "Hydrogen          20385.000000\n",
       "LPG               13320.505085\n",
       "Petrol            17391.153459\n",
       "Plug-in Hybrid    23650.917647\n",
       "Name: Price, dtype: float64"
      ]
     },
     "execution_count": 30,
     "metadata": {},
     "output_type": "execute_result"
    }
   ],
   "source": [
    "df_train.groupby(['Fuel type'])['Price'].mean()"
   ]
  },
  {
   "cell_type": "code",
   "execution_count": 31,
   "metadata": {
    "scrolled": true
   },
   "outputs": [
    {
     "data": {
      "text/html": [
       "<div>\n",
       "<style scoped>\n",
       "    .dataframe tbody tr th:only-of-type {\n",
       "        vertical-align: middle;\n",
       "    }\n",
       "\n",
       "    .dataframe tbody tr th {\n",
       "        vertical-align: top;\n",
       "    }\n",
       "\n",
       "    .dataframe thead th {\n",
       "        text-align: right;\n",
       "    }\n",
       "</style>\n",
       "<table border=\"1\" class=\"dataframe\">\n",
       "  <thead>\n",
       "    <tr style=\"text-align: right;\">\n",
       "      <th></th>\n",
       "      <th>Levy</th>\n",
       "      <th>Manufacturer</th>\n",
       "      <th>Model</th>\n",
       "      <th>Category</th>\n",
       "      <th>Leather interior</th>\n",
       "      <th>Fuel type</th>\n",
       "      <th>Engine volume</th>\n",
       "      <th>Gear box type</th>\n",
       "      <th>Drive wheels</th>\n",
       "      <th>Doors</th>\n",
       "      <th>Wheel</th>\n",
       "      <th>Color</th>\n",
       "    </tr>\n",
       "    <tr>\n",
       "      <th>ID</th>\n",
       "      <th></th>\n",
       "      <th></th>\n",
       "      <th></th>\n",
       "      <th></th>\n",
       "      <th></th>\n",
       "      <th></th>\n",
       "      <th></th>\n",
       "      <th></th>\n",
       "      <th></th>\n",
       "      <th></th>\n",
       "      <th></th>\n",
       "      <th></th>\n",
       "    </tr>\n",
       "  </thead>\n",
       "  <tbody>\n",
       "    <tr>\n",
       "      <th>45654403</th>\n",
       "      <td>0.707867</td>\n",
       "      <td>20.052594</td>\n",
       "      <td>RX 450</td>\n",
       "      <td>2.376051</td>\n",
       "      <td>1</td>\n",
       "      <td>1.084548</td>\n",
       "      <td>3.5</td>\n",
       "      <td>Automatic</td>\n",
       "      <td>4x4</td>\n",
       "      <td>04-May</td>\n",
       "      <td>Left wheel</td>\n",
       "      <td>Silver</td>\n",
       "    </tr>\n",
       "    <tr>\n",
       "      <th>44731507</th>\n",
       "      <td>1.142824</td>\n",
       "      <td>14.894874</td>\n",
       "      <td>Equinox</td>\n",
       "      <td>2.376051</td>\n",
       "      <td>0</td>\n",
       "      <td>1.739115</td>\n",
       "      <td>3</td>\n",
       "      <td>Tiptronic</td>\n",
       "      <td>4x4</td>\n",
       "      <td>04-May</td>\n",
       "      <td>Left wheel</td>\n",
       "      <td>Black</td>\n",
       "    </tr>\n",
       "    <tr>\n",
       "      <th>45774419</th>\n",
       "      <td>2.150699</td>\n",
       "      <td>14.162074</td>\n",
       "      <td>FIT</td>\n",
       "      <td>1.135461</td>\n",
       "      <td>0</td>\n",
       "      <td>1.739115</td>\n",
       "      <td>1.3</td>\n",
       "      <td>Variator</td>\n",
       "      <td>Front</td>\n",
       "      <td>04-May</td>\n",
       "      <td>Right-hand drive</td>\n",
       "      <td>Black</td>\n",
       "    </tr>\n",
       "    <tr>\n",
       "      <th>45769185</th>\n",
       "      <td>1.181298</td>\n",
       "      <td>15.411850</td>\n",
       "      <td>Escape</td>\n",
       "      <td>2.376051</td>\n",
       "      <td>1</td>\n",
       "      <td>1.084548</td>\n",
       "      <td>2.5</td>\n",
       "      <td>Automatic</td>\n",
       "      <td>4x4</td>\n",
       "      <td>04-May</td>\n",
       "      <td>Left wheel</td>\n",
       "      <td>White</td>\n",
       "    </tr>\n",
       "    <tr>\n",
       "      <th>45809263</th>\n",
       "      <td>1.956810</td>\n",
       "      <td>14.162074</td>\n",
       "      <td>FIT</td>\n",
       "      <td>1.135461</td>\n",
       "      <td>1</td>\n",
       "      <td>1.739115</td>\n",
       "      <td>1.3</td>\n",
       "      <td>Automatic</td>\n",
       "      <td>Front</td>\n",
       "      <td>04-May</td>\n",
       "      <td>Left wheel</td>\n",
       "      <td>Silver</td>\n",
       "    </tr>\n",
       "  </tbody>\n",
       "</table>\n",
       "</div>"
      ],
      "text/plain": [
       "              Levy  Manufacturer    Model  Category  Leather interior  \\\n",
       "ID                                                                      \n",
       "45654403  0.707867     20.052594   RX 450  2.376051                 1   \n",
       "44731507  1.142824     14.894874  Equinox  2.376051                 0   \n",
       "45774419  2.150699     14.162074      FIT  1.135461                 0   \n",
       "45769185  1.181298     15.411850   Escape  2.376051                 1   \n",
       "45809263  1.956810     14.162074      FIT  1.135461                 1   \n",
       "\n",
       "          Fuel type Engine volume Gear box type Drive wheels   Doors  \\\n",
       "ID                                                                     \n",
       "45654403   1.084548           3.5     Automatic          4x4  04-May   \n",
       "44731507   1.739115             3     Tiptronic          4x4  04-May   \n",
       "45774419   1.739115           1.3      Variator        Front  04-May   \n",
       "45769185   1.084548           2.5     Automatic          4x4  04-May   \n",
       "45809263   1.739115           1.3     Automatic        Front  04-May   \n",
       "\n",
       "                     Wheel   Color  \n",
       "ID                                  \n",
       "45654403        Left wheel  Silver  \n",
       "44731507        Left wheel   Black  \n",
       "45774419  Right-hand drive   Black  \n",
       "45769185        Left wheel   White  \n",
       "45809263        Left wheel  Silver  "
      ]
     },
     "execution_count": 31,
     "metadata": {},
     "output_type": "execute_result"
    }
   ],
   "source": [
    "map_fuel = dict(df_train.groupby(['Fuel type'])['Price'].mean()/10000)\n",
    "\n",
    "df_obj['Fuel type'] = df_obj['Fuel type'].map(map_fuel)\n",
    "df_obj.head()"
   ]
  },
  {
   "cell_type": "markdown",
   "metadata": {},
   "source": [
    "#### Engine volume"
   ]
  },
  {
   "cell_type": "code",
   "execution_count": 32,
   "metadata": {
    "scrolled": true
   },
   "outputs": [
    {
     "data": {
      "text/plain": [
       "2            3856\n",
       "2.5          2246\n",
       "1.8          1743\n",
       "1.6          1446\n",
       "1.5          1289\n",
       "             ... \n",
       "0.3 Turbo       1\n",
       "6.7             1\n",
       "0.5             1\n",
       "3.1             1\n",
       "0.8 Turbo       1\n",
       "Name: Engine volume, Length: 107, dtype: int64"
      ]
     },
     "execution_count": 32,
     "metadata": {},
     "output_type": "execute_result"
    }
   ],
   "source": [
    "df_obj['Engine volume'].value_counts()"
   ]
  },
  {
   "cell_type": "code",
   "execution_count": 33,
   "metadata": {},
   "outputs": [],
   "source": [
    "def return_turbo(col):\n",
    "    s = list(col)\n",
    "    res = []\n",
    "    for x in s:\n",
    "        if len(x.split()) == 2:\n",
    "            res.append(1)\n",
    "        else:\n",
    "            res.append(0)\n",
    "    return res"
   ]
  },
  {
   "cell_type": "code",
   "execution_count": 34,
   "metadata": {},
   "outputs": [],
   "source": [
    "df_obj['Turbo'] = return_turbo(df_obj['Engine volume'])"
   ]
  },
  {
   "cell_type": "code",
   "execution_count": 35,
   "metadata": {},
   "outputs": [],
   "source": [
    "def conv(x):\n",
    "    return float(x.split()[0])"
   ]
  },
  {
   "cell_type": "code",
   "execution_count": 36,
   "metadata": {
    "scrolled": true
   },
   "outputs": [],
   "source": [
    "df_obj['Engine volume'] = df_obj['Engine volume'].apply(conv)"
   ]
  },
  {
   "cell_type": "code",
   "execution_count": 37,
   "metadata": {},
   "outputs": [
    {
     "data": {
      "text/html": [
       "<div>\n",
       "<style scoped>\n",
       "    .dataframe tbody tr th:only-of-type {\n",
       "        vertical-align: middle;\n",
       "    }\n",
       "\n",
       "    .dataframe tbody tr th {\n",
       "        vertical-align: top;\n",
       "    }\n",
       "\n",
       "    .dataframe thead th {\n",
       "        text-align: right;\n",
       "    }\n",
       "</style>\n",
       "<table border=\"1\" class=\"dataframe\">\n",
       "  <thead>\n",
       "    <tr style=\"text-align: right;\">\n",
       "      <th></th>\n",
       "      <th>Levy</th>\n",
       "      <th>Manufacturer</th>\n",
       "      <th>Model</th>\n",
       "      <th>Category</th>\n",
       "      <th>Leather interior</th>\n",
       "      <th>Fuel type</th>\n",
       "      <th>Engine volume</th>\n",
       "      <th>Gear box type</th>\n",
       "      <th>Drive wheels</th>\n",
       "      <th>Doors</th>\n",
       "      <th>Wheel</th>\n",
       "      <th>Color</th>\n",
       "      <th>Turbo</th>\n",
       "    </tr>\n",
       "    <tr>\n",
       "      <th>ID</th>\n",
       "      <th></th>\n",
       "      <th></th>\n",
       "      <th></th>\n",
       "      <th></th>\n",
       "      <th></th>\n",
       "      <th></th>\n",
       "      <th></th>\n",
       "      <th></th>\n",
       "      <th></th>\n",
       "      <th></th>\n",
       "      <th></th>\n",
       "      <th></th>\n",
       "      <th></th>\n",
       "    </tr>\n",
       "  </thead>\n",
       "  <tbody>\n",
       "    <tr>\n",
       "      <th>45654403</th>\n",
       "      <td>0.707867</td>\n",
       "      <td>20.052594</td>\n",
       "      <td>RX 450</td>\n",
       "      <td>2.376051</td>\n",
       "      <td>1</td>\n",
       "      <td>1.084548</td>\n",
       "      <td>3.5</td>\n",
       "      <td>Automatic</td>\n",
       "      <td>4x4</td>\n",
       "      <td>04-May</td>\n",
       "      <td>Left wheel</td>\n",
       "      <td>Silver</td>\n",
       "      <td>0</td>\n",
       "    </tr>\n",
       "    <tr>\n",
       "      <th>44731507</th>\n",
       "      <td>1.142824</td>\n",
       "      <td>14.894874</td>\n",
       "      <td>Equinox</td>\n",
       "      <td>2.376051</td>\n",
       "      <td>0</td>\n",
       "      <td>1.739115</td>\n",
       "      <td>3.0</td>\n",
       "      <td>Tiptronic</td>\n",
       "      <td>4x4</td>\n",
       "      <td>04-May</td>\n",
       "      <td>Left wheel</td>\n",
       "      <td>Black</td>\n",
       "      <td>0</td>\n",
       "    </tr>\n",
       "    <tr>\n",
       "      <th>45774419</th>\n",
       "      <td>2.150699</td>\n",
       "      <td>14.162074</td>\n",
       "      <td>FIT</td>\n",
       "      <td>1.135461</td>\n",
       "      <td>0</td>\n",
       "      <td>1.739115</td>\n",
       "      <td>1.3</td>\n",
       "      <td>Variator</td>\n",
       "      <td>Front</td>\n",
       "      <td>04-May</td>\n",
       "      <td>Right-hand drive</td>\n",
       "      <td>Black</td>\n",
       "      <td>0</td>\n",
       "    </tr>\n",
       "    <tr>\n",
       "      <th>45769185</th>\n",
       "      <td>1.181298</td>\n",
       "      <td>15.411850</td>\n",
       "      <td>Escape</td>\n",
       "      <td>2.376051</td>\n",
       "      <td>1</td>\n",
       "      <td>1.084548</td>\n",
       "      <td>2.5</td>\n",
       "      <td>Automatic</td>\n",
       "      <td>4x4</td>\n",
       "      <td>04-May</td>\n",
       "      <td>Left wheel</td>\n",
       "      <td>White</td>\n",
       "      <td>0</td>\n",
       "    </tr>\n",
       "    <tr>\n",
       "      <th>45809263</th>\n",
       "      <td>1.956810</td>\n",
       "      <td>14.162074</td>\n",
       "      <td>FIT</td>\n",
       "      <td>1.135461</td>\n",
       "      <td>1</td>\n",
       "      <td>1.739115</td>\n",
       "      <td>1.3</td>\n",
       "      <td>Automatic</td>\n",
       "      <td>Front</td>\n",
       "      <td>04-May</td>\n",
       "      <td>Left wheel</td>\n",
       "      <td>Silver</td>\n",
       "      <td>0</td>\n",
       "    </tr>\n",
       "  </tbody>\n",
       "</table>\n",
       "</div>"
      ],
      "text/plain": [
       "              Levy  Manufacturer    Model  Category  Leather interior  \\\n",
       "ID                                                                      \n",
       "45654403  0.707867     20.052594   RX 450  2.376051                 1   \n",
       "44731507  1.142824     14.894874  Equinox  2.376051                 0   \n",
       "45774419  2.150699     14.162074      FIT  1.135461                 0   \n",
       "45769185  1.181298     15.411850   Escape  2.376051                 1   \n",
       "45809263  1.956810     14.162074      FIT  1.135461                 1   \n",
       "\n",
       "          Fuel type  Engine volume Gear box type Drive wheels   Doors  \\\n",
       "ID                                                                      \n",
       "45654403   1.084548            3.5     Automatic          4x4  04-May   \n",
       "44731507   1.739115            3.0     Tiptronic          4x4  04-May   \n",
       "45774419   1.739115            1.3      Variator        Front  04-May   \n",
       "45769185   1.084548            2.5     Automatic          4x4  04-May   \n",
       "45809263   1.739115            1.3     Automatic        Front  04-May   \n",
       "\n",
       "                     Wheel   Color  Turbo  \n",
       "ID                                         \n",
       "45654403        Left wheel  Silver      0  \n",
       "44731507        Left wheel   Black      0  \n",
       "45774419  Right-hand drive   Black      0  \n",
       "45769185        Left wheel   White      0  \n",
       "45809263        Left wheel  Silver      0  "
      ]
     },
     "execution_count": 37,
     "metadata": {},
     "output_type": "execute_result"
    }
   ],
   "source": [
    "df_obj.head()"
   ]
  },
  {
   "cell_type": "markdown",
   "metadata": {},
   "source": [
    "#### Gear box type"
   ]
  },
  {
   "cell_type": "code",
   "execution_count": 38,
   "metadata": {},
   "outputs": [
    {
     "data": {
      "text/plain": [
       "Automatic    13282\n",
       "Tiptronic     3065\n",
       "Manual        1844\n",
       "Variator       733\n",
       "Name: Gear box type, dtype: int64"
      ]
     },
     "execution_count": 38,
     "metadata": {},
     "output_type": "execute_result"
    }
   ],
   "source": [
    "df_obj['Gear box type'].value_counts()"
   ]
  },
  {
   "cell_type": "code",
   "execution_count": 39,
   "metadata": {},
   "outputs": [
    {
     "data": {
      "text/plain": [
       "Gear box type\n",
       "Automatic    16004.732495\n",
       "Manual       25865.434924\n",
       "Tiptronic    26313.582708\n",
       "Variator     14770.497954\n",
       "Name: Price, dtype: float64"
      ]
     },
     "execution_count": 39,
     "metadata": {},
     "output_type": "execute_result"
    }
   ],
   "source": [
    "df_train.groupby(['Gear box type'])['Price'].mean()"
   ]
  },
  {
   "cell_type": "code",
   "execution_count": 40,
   "metadata": {},
   "outputs": [
    {
     "data": {
      "text/html": [
       "<div>\n",
       "<style scoped>\n",
       "    .dataframe tbody tr th:only-of-type {\n",
       "        vertical-align: middle;\n",
       "    }\n",
       "\n",
       "    .dataframe tbody tr th {\n",
       "        vertical-align: top;\n",
       "    }\n",
       "\n",
       "    .dataframe thead th {\n",
       "        text-align: right;\n",
       "    }\n",
       "</style>\n",
       "<table border=\"1\" class=\"dataframe\">\n",
       "  <thead>\n",
       "    <tr style=\"text-align: right;\">\n",
       "      <th></th>\n",
       "      <th>Levy</th>\n",
       "      <th>Manufacturer</th>\n",
       "      <th>Model</th>\n",
       "      <th>Category</th>\n",
       "      <th>Leather interior</th>\n",
       "      <th>Fuel type</th>\n",
       "      <th>Engine volume</th>\n",
       "      <th>Gear box type</th>\n",
       "      <th>Drive wheels</th>\n",
       "      <th>Doors</th>\n",
       "      <th>Wheel</th>\n",
       "      <th>Color</th>\n",
       "      <th>Turbo</th>\n",
       "    </tr>\n",
       "    <tr>\n",
       "      <th>ID</th>\n",
       "      <th></th>\n",
       "      <th></th>\n",
       "      <th></th>\n",
       "      <th></th>\n",
       "      <th></th>\n",
       "      <th></th>\n",
       "      <th></th>\n",
       "      <th></th>\n",
       "      <th></th>\n",
       "      <th></th>\n",
       "      <th></th>\n",
       "      <th></th>\n",
       "      <th></th>\n",
       "    </tr>\n",
       "  </thead>\n",
       "  <tbody>\n",
       "    <tr>\n",
       "      <th>45654403</th>\n",
       "      <td>0.707867</td>\n",
       "      <td>20.052594</td>\n",
       "      <td>RX 450</td>\n",
       "      <td>2.376051</td>\n",
       "      <td>1</td>\n",
       "      <td>1.084548</td>\n",
       "      <td>3.5</td>\n",
       "      <td>1.600473</td>\n",
       "      <td>4x4</td>\n",
       "      <td>04-May</td>\n",
       "      <td>Left wheel</td>\n",
       "      <td>Silver</td>\n",
       "      <td>0</td>\n",
       "    </tr>\n",
       "    <tr>\n",
       "      <th>44731507</th>\n",
       "      <td>1.142824</td>\n",
       "      <td>14.894874</td>\n",
       "      <td>Equinox</td>\n",
       "      <td>2.376051</td>\n",
       "      <td>0</td>\n",
       "      <td>1.739115</td>\n",
       "      <td>3.0</td>\n",
       "      <td>2.631358</td>\n",
       "      <td>4x4</td>\n",
       "      <td>04-May</td>\n",
       "      <td>Left wheel</td>\n",
       "      <td>Black</td>\n",
       "      <td>0</td>\n",
       "    </tr>\n",
       "    <tr>\n",
       "      <th>45774419</th>\n",
       "      <td>2.150699</td>\n",
       "      <td>14.162074</td>\n",
       "      <td>FIT</td>\n",
       "      <td>1.135461</td>\n",
       "      <td>0</td>\n",
       "      <td>1.739115</td>\n",
       "      <td>1.3</td>\n",
       "      <td>1.477050</td>\n",
       "      <td>Front</td>\n",
       "      <td>04-May</td>\n",
       "      <td>Right-hand drive</td>\n",
       "      <td>Black</td>\n",
       "      <td>0</td>\n",
       "    </tr>\n",
       "    <tr>\n",
       "      <th>45769185</th>\n",
       "      <td>1.181298</td>\n",
       "      <td>15.411850</td>\n",
       "      <td>Escape</td>\n",
       "      <td>2.376051</td>\n",
       "      <td>1</td>\n",
       "      <td>1.084548</td>\n",
       "      <td>2.5</td>\n",
       "      <td>1.600473</td>\n",
       "      <td>4x4</td>\n",
       "      <td>04-May</td>\n",
       "      <td>Left wheel</td>\n",
       "      <td>White</td>\n",
       "      <td>0</td>\n",
       "    </tr>\n",
       "    <tr>\n",
       "      <th>45809263</th>\n",
       "      <td>1.956810</td>\n",
       "      <td>14.162074</td>\n",
       "      <td>FIT</td>\n",
       "      <td>1.135461</td>\n",
       "      <td>1</td>\n",
       "      <td>1.739115</td>\n",
       "      <td>1.3</td>\n",
       "      <td>1.600473</td>\n",
       "      <td>Front</td>\n",
       "      <td>04-May</td>\n",
       "      <td>Left wheel</td>\n",
       "      <td>Silver</td>\n",
       "      <td>0</td>\n",
       "    </tr>\n",
       "  </tbody>\n",
       "</table>\n",
       "</div>"
      ],
      "text/plain": [
       "              Levy  Manufacturer    Model  Category  Leather interior  \\\n",
       "ID                                                                      \n",
       "45654403  0.707867     20.052594   RX 450  2.376051                 1   \n",
       "44731507  1.142824     14.894874  Equinox  2.376051                 0   \n",
       "45774419  2.150699     14.162074      FIT  1.135461                 0   \n",
       "45769185  1.181298     15.411850   Escape  2.376051                 1   \n",
       "45809263  1.956810     14.162074      FIT  1.135461                 1   \n",
       "\n",
       "          Fuel type  Engine volume  Gear box type Drive wheels   Doors  \\\n",
       "ID                                                                       \n",
       "45654403   1.084548            3.5       1.600473          4x4  04-May   \n",
       "44731507   1.739115            3.0       2.631358          4x4  04-May   \n",
       "45774419   1.739115            1.3       1.477050        Front  04-May   \n",
       "45769185   1.084548            2.5       1.600473          4x4  04-May   \n",
       "45809263   1.739115            1.3       1.600473        Front  04-May   \n",
       "\n",
       "                     Wheel   Color  Turbo  \n",
       "ID                                         \n",
       "45654403        Left wheel  Silver      0  \n",
       "44731507        Left wheel   Black      0  \n",
       "45774419  Right-hand drive   Black      0  \n",
       "45769185        Left wheel   White      0  \n",
       "45809263        Left wheel  Silver      0  "
      ]
     },
     "execution_count": 40,
     "metadata": {},
     "output_type": "execute_result"
    }
   ],
   "source": [
    "map_gear = dict(df_train.groupby(['Gear box type'])['Price'].mean()/1e4)\n",
    "df_obj['Gear box type'] = df_obj['Gear box type'].map(map_gear)\n",
    "df_obj.head()"
   ]
  },
  {
   "cell_type": "markdown",
   "metadata": {},
   "source": [
    "#### Drive wheels"
   ]
  },
  {
   "cell_type": "code",
   "execution_count": 41,
   "metadata": {},
   "outputs": [
    {
     "data": {
      "text/plain": [
       "Front    12695\n",
       "4x4       3969\n",
       "Rear      2260\n",
       "Name: Drive wheels, dtype: int64"
      ]
     },
     "execution_count": 41,
     "metadata": {},
     "output_type": "execute_result"
    }
   ],
   "source": [
    "df_obj['Drive wheels'].value_counts()"
   ]
  },
  {
   "cell_type": "code",
   "execution_count": 42,
   "metadata": {},
   "outputs": [
    {
     "data": {
      "text/plain": [
       "Drive wheels\n",
       "4x4      19580.303351\n",
       "Front    18503.025443\n",
       "Rear     17317.917257\n",
       "Name: Price, dtype: float64"
      ]
     },
     "execution_count": 42,
     "metadata": {},
     "output_type": "execute_result"
    }
   ],
   "source": [
    "df_train.groupby(['Drive wheels'])['Price'].mean()"
   ]
  },
  {
   "cell_type": "code",
   "execution_count": 43,
   "metadata": {
    "scrolled": true
   },
   "outputs": [],
   "source": [
    "map_drive = dict(df_train.groupby(['Drive wheels'])['Price'].mean()/1e4)\n",
    "df_obj['Drive wheels'] = df_obj['Drive wheels'].map(map_drive)"
   ]
  },
  {
   "cell_type": "code",
   "execution_count": null,
   "metadata": {},
   "outputs": [],
   "source": []
  },
  {
   "cell_type": "markdown",
   "metadata": {},
   "source": [
    "#### Doors"
   ]
  },
  {
   "cell_type": "code",
   "execution_count": 44,
   "metadata": {},
   "outputs": [
    {
     "data": {
      "text/plain": [
       "04-May    18032\n",
       "02-Mar      768\n",
       ">5          124\n",
       "Name: Doors, dtype: int64"
      ]
     },
     "execution_count": 44,
     "metadata": {},
     "output_type": "execute_result"
    }
   ],
   "source": [
    "df_obj['Doors'].value_counts()"
   ]
  },
  {
   "cell_type": "code",
   "execution_count": 45,
   "metadata": {
    "scrolled": true
   },
   "outputs": [
    {
     "data": {
      "text/plain": [
       "Doors\n",
       "02-Mar    50793.735677\n",
       "04-May    17192.917924\n",
       ">5        21905.967742\n",
       "Name: Price, dtype: float64"
      ]
     },
     "execution_count": 45,
     "metadata": {},
     "output_type": "execute_result"
    }
   ],
   "source": [
    "df_train.groupby(['Doors'])['Price'].mean()"
   ]
  },
  {
   "cell_type": "code",
   "execution_count": 46,
   "metadata": {
    "scrolled": true
   },
   "outputs": [],
   "source": [
    "map_doors = dict(df_train.groupby(['Doors'])['Price'].mean()/1e4)\n",
    "df_obj['Doors'] = df_obj['Doors'].map(map_doors)"
   ]
  },
  {
   "cell_type": "code",
   "execution_count": null,
   "metadata": {},
   "outputs": [],
   "source": []
  },
  {
   "cell_type": "markdown",
   "metadata": {},
   "source": [
    "#### Wheel"
   ]
  },
  {
   "cell_type": "code",
   "execution_count": 47,
   "metadata": {
    "scrolled": true
   },
   "outputs": [
    {
     "data": {
      "text/html": [
       "<div>\n",
       "<style scoped>\n",
       "    .dataframe tbody tr th:only-of-type {\n",
       "        vertical-align: middle;\n",
       "    }\n",
       "\n",
       "    .dataframe tbody tr th {\n",
       "        vertical-align: top;\n",
       "    }\n",
       "\n",
       "    .dataframe thead th {\n",
       "        text-align: right;\n",
       "    }\n",
       "</style>\n",
       "<table border=\"1\" class=\"dataframe\">\n",
       "  <thead>\n",
       "    <tr style=\"text-align: right;\">\n",
       "      <th></th>\n",
       "      <th>Levy</th>\n",
       "      <th>Manufacturer</th>\n",
       "      <th>Model</th>\n",
       "      <th>Category</th>\n",
       "      <th>Leather interior</th>\n",
       "      <th>Fuel type</th>\n",
       "      <th>Engine volume</th>\n",
       "      <th>Gear box type</th>\n",
       "      <th>Drive wheels</th>\n",
       "      <th>Doors</th>\n",
       "      <th>Wheel</th>\n",
       "      <th>Color</th>\n",
       "      <th>Turbo</th>\n",
       "    </tr>\n",
       "    <tr>\n",
       "      <th>ID</th>\n",
       "      <th></th>\n",
       "      <th></th>\n",
       "      <th></th>\n",
       "      <th></th>\n",
       "      <th></th>\n",
       "      <th></th>\n",
       "      <th></th>\n",
       "      <th></th>\n",
       "      <th></th>\n",
       "      <th></th>\n",
       "      <th></th>\n",
       "      <th></th>\n",
       "      <th></th>\n",
       "    </tr>\n",
       "  </thead>\n",
       "  <tbody>\n",
       "    <tr>\n",
       "      <th>45654403</th>\n",
       "      <td>0.707867</td>\n",
       "      <td>20.052594</td>\n",
       "      <td>RX 450</td>\n",
       "      <td>2.376051</td>\n",
       "      <td>1</td>\n",
       "      <td>1.084548</td>\n",
       "      <td>3.5</td>\n",
       "      <td>1.600473</td>\n",
       "      <td>1.958030</td>\n",
       "      <td>1.719292</td>\n",
       "      <td>Left wheel</td>\n",
       "      <td>Silver</td>\n",
       "      <td>0</td>\n",
       "    </tr>\n",
       "    <tr>\n",
       "      <th>44731507</th>\n",
       "      <td>1.142824</td>\n",
       "      <td>14.894874</td>\n",
       "      <td>Equinox</td>\n",
       "      <td>2.376051</td>\n",
       "      <td>0</td>\n",
       "      <td>1.739115</td>\n",
       "      <td>3.0</td>\n",
       "      <td>2.631358</td>\n",
       "      <td>1.958030</td>\n",
       "      <td>1.719292</td>\n",
       "      <td>Left wheel</td>\n",
       "      <td>Black</td>\n",
       "      <td>0</td>\n",
       "    </tr>\n",
       "    <tr>\n",
       "      <th>45774419</th>\n",
       "      <td>2.150699</td>\n",
       "      <td>14.162074</td>\n",
       "      <td>FIT</td>\n",
       "      <td>1.135461</td>\n",
       "      <td>0</td>\n",
       "      <td>1.739115</td>\n",
       "      <td>1.3</td>\n",
       "      <td>1.477050</td>\n",
       "      <td>1.850303</td>\n",
       "      <td>1.719292</td>\n",
       "      <td>Right-hand drive</td>\n",
       "      <td>Black</td>\n",
       "      <td>0</td>\n",
       "    </tr>\n",
       "    <tr>\n",
       "      <th>45769185</th>\n",
       "      <td>1.181298</td>\n",
       "      <td>15.411850</td>\n",
       "      <td>Escape</td>\n",
       "      <td>2.376051</td>\n",
       "      <td>1</td>\n",
       "      <td>1.084548</td>\n",
       "      <td>2.5</td>\n",
       "      <td>1.600473</td>\n",
       "      <td>1.958030</td>\n",
       "      <td>1.719292</td>\n",
       "      <td>Left wheel</td>\n",
       "      <td>White</td>\n",
       "      <td>0</td>\n",
       "    </tr>\n",
       "    <tr>\n",
       "      <th>45809263</th>\n",
       "      <td>1.956810</td>\n",
       "      <td>14.162074</td>\n",
       "      <td>FIT</td>\n",
       "      <td>1.135461</td>\n",
       "      <td>1</td>\n",
       "      <td>1.739115</td>\n",
       "      <td>1.3</td>\n",
       "      <td>1.600473</td>\n",
       "      <td>1.850303</td>\n",
       "      <td>1.719292</td>\n",
       "      <td>Left wheel</td>\n",
       "      <td>Silver</td>\n",
       "      <td>0</td>\n",
       "    </tr>\n",
       "  </tbody>\n",
       "</table>\n",
       "</div>"
      ],
      "text/plain": [
       "              Levy  Manufacturer    Model  Category  Leather interior  \\\n",
       "ID                                                                      \n",
       "45654403  0.707867     20.052594   RX 450  2.376051                 1   \n",
       "44731507  1.142824     14.894874  Equinox  2.376051                 0   \n",
       "45774419  2.150699     14.162074      FIT  1.135461                 0   \n",
       "45769185  1.181298     15.411850   Escape  2.376051                 1   \n",
       "45809263  1.956810     14.162074      FIT  1.135461                 1   \n",
       "\n",
       "          Fuel type  Engine volume  Gear box type  Drive wheels     Doors  \\\n",
       "ID                                                                          \n",
       "45654403   1.084548            3.5       1.600473      1.958030  1.719292   \n",
       "44731507   1.739115            3.0       2.631358      1.958030  1.719292   \n",
       "45774419   1.739115            1.3       1.477050      1.850303  1.719292   \n",
       "45769185   1.084548            2.5       1.600473      1.958030  1.719292   \n",
       "45809263   1.739115            1.3       1.600473      1.850303  1.719292   \n",
       "\n",
       "                     Wheel   Color  Turbo  \n",
       "ID                                         \n",
       "45654403        Left wheel  Silver      0  \n",
       "44731507        Left wheel   Black      0  \n",
       "45774419  Right-hand drive   Black      0  \n",
       "45769185        Left wheel   White      0  \n",
       "45809263        Left wheel  Silver      0  "
      ]
     },
     "execution_count": 47,
     "metadata": {},
     "output_type": "execute_result"
    }
   ],
   "source": [
    "df_obj.head()"
   ]
  },
  {
   "cell_type": "code",
   "execution_count": 48,
   "metadata": {},
   "outputs": [
    {
     "data": {
      "text/plain": [
       "Left wheel          17471\n",
       "Right-hand drive     1453\n",
       "Name: Wheel, dtype: int64"
      ]
     },
     "execution_count": 48,
     "metadata": {},
     "output_type": "execute_result"
    }
   ],
   "source": [
    "df_obj.Wheel.value_counts()"
   ]
  },
  {
   "cell_type": "code",
   "execution_count": 49,
   "metadata": {
    "scrolled": true
   },
   "outputs": [
    {
     "data": {
      "text/plain": [
       "Wheel\n",
       "Left wheel          19394.079675\n",
       "Right-hand drive     8888.271851\n",
       "Name: Price, dtype: float64"
      ]
     },
     "execution_count": 49,
     "metadata": {},
     "output_type": "execute_result"
    }
   ],
   "source": [
    "df_train.groupby(['Wheel'])['Price'].mean()"
   ]
  },
  {
   "cell_type": "code",
   "execution_count": 50,
   "metadata": {},
   "outputs": [],
   "source": [
    "map_wheel = {'Left wheel': 2, 'Right-hand drive': 1}\n",
    "df_obj['Wheel'] = df_obj['Wheel'].map(map_wheel)"
   ]
  },
  {
   "cell_type": "markdown",
   "metadata": {},
   "source": [
    "#### Color"
   ]
  },
  {
   "cell_type": "code",
   "execution_count": 51,
   "metadata": {},
   "outputs": [
    {
     "data": {
      "text/plain": [
       "Black            4944\n",
       "White            4407\n",
       "Silver           3729\n",
       "Grey             2343\n",
       "Blue             1376\n",
       "Red               622\n",
       "Green             321\n",
       "Orange            252\n",
       "Brown             185\n",
       "Carnelian red     177\n",
       "Golden            143\n",
       "Beige             134\n",
       "Sky blue          122\n",
       "Yellow            105\n",
       "Purple             39\n",
       "Pink               25\n",
       "Name: Color, dtype: int64"
      ]
     },
     "execution_count": 51,
     "metadata": {},
     "output_type": "execute_result"
    }
   ],
   "source": [
    "df_obj.Color.value_counts()"
   ]
  },
  {
   "cell_type": "code",
   "execution_count": 52,
   "metadata": {},
   "outputs": [
    {
     "data": {
      "text/plain": [
       "Color\n",
       "Beige            15627.559701\n",
       "Black            18915.184466\n",
       "Blue             34030.468023\n",
       "Brown            19873.551351\n",
       "Carnelian red    15908.887006\n",
       "Golden           14529.006993\n",
       "Green             9477.894081\n",
       "Grey             19242.446436\n",
       "Orange           13026.444444\n",
       "Pink             10598.360000\n",
       "Purple            8837.384615\n",
       "Red              13645.670418\n",
       "Silver           15122.033253\n",
       "Sky blue         14079.000000\n",
       "White            18141.962786\n",
       "Yellow           20715.561905\n",
       "Name: Price, dtype: float64"
      ]
     },
     "execution_count": 52,
     "metadata": {},
     "output_type": "execute_result"
    }
   ],
   "source": [
    "df_train.groupby(['Color'])['Price'].mean()"
   ]
  },
  {
   "cell_type": "code",
   "execution_count": 53,
   "metadata": {
    "scrolled": true
   },
   "outputs": [
    {
     "data": {
      "text/html": [
       "<div>\n",
       "<style scoped>\n",
       "    .dataframe tbody tr th:only-of-type {\n",
       "        vertical-align: middle;\n",
       "    }\n",
       "\n",
       "    .dataframe tbody tr th {\n",
       "        vertical-align: top;\n",
       "    }\n",
       "\n",
       "    .dataframe thead th {\n",
       "        text-align: right;\n",
       "    }\n",
       "</style>\n",
       "<table border=\"1\" class=\"dataframe\">\n",
       "  <thead>\n",
       "    <tr style=\"text-align: right;\">\n",
       "      <th></th>\n",
       "      <th>Levy</th>\n",
       "      <th>Manufacturer</th>\n",
       "      <th>Model</th>\n",
       "      <th>Category</th>\n",
       "      <th>Leather interior</th>\n",
       "      <th>Fuel type</th>\n",
       "      <th>Engine volume</th>\n",
       "      <th>Gear box type</th>\n",
       "      <th>Drive wheels</th>\n",
       "      <th>Doors</th>\n",
       "      <th>Wheel</th>\n",
       "      <th>Color</th>\n",
       "      <th>Turbo</th>\n",
       "    </tr>\n",
       "    <tr>\n",
       "      <th>ID</th>\n",
       "      <th></th>\n",
       "      <th></th>\n",
       "      <th></th>\n",
       "      <th></th>\n",
       "      <th></th>\n",
       "      <th></th>\n",
       "      <th></th>\n",
       "      <th></th>\n",
       "      <th></th>\n",
       "      <th></th>\n",
       "      <th></th>\n",
       "      <th></th>\n",
       "      <th></th>\n",
       "    </tr>\n",
       "  </thead>\n",
       "  <tbody>\n",
       "    <tr>\n",
       "      <th>45654403</th>\n",
       "      <td>0.707867</td>\n",
       "      <td>20.052594</td>\n",
       "      <td>RX 450</td>\n",
       "      <td>2.376051</td>\n",
       "      <td>1</td>\n",
       "      <td>1.084548</td>\n",
       "      <td>3.5</td>\n",
       "      <td>1.600473</td>\n",
       "      <td>1.958030</td>\n",
       "      <td>1.719292</td>\n",
       "      <td>2</td>\n",
       "      <td>1.512203</td>\n",
       "      <td>0</td>\n",
       "    </tr>\n",
       "    <tr>\n",
       "      <th>44731507</th>\n",
       "      <td>1.142824</td>\n",
       "      <td>14.894874</td>\n",
       "      <td>Equinox</td>\n",
       "      <td>2.376051</td>\n",
       "      <td>0</td>\n",
       "      <td>1.739115</td>\n",
       "      <td>3.0</td>\n",
       "      <td>2.631358</td>\n",
       "      <td>1.958030</td>\n",
       "      <td>1.719292</td>\n",
       "      <td>2</td>\n",
       "      <td>1.891518</td>\n",
       "      <td>0</td>\n",
       "    </tr>\n",
       "    <tr>\n",
       "      <th>45774419</th>\n",
       "      <td>2.150699</td>\n",
       "      <td>14.162074</td>\n",
       "      <td>FIT</td>\n",
       "      <td>1.135461</td>\n",
       "      <td>0</td>\n",
       "      <td>1.739115</td>\n",
       "      <td>1.3</td>\n",
       "      <td>1.477050</td>\n",
       "      <td>1.850303</td>\n",
       "      <td>1.719292</td>\n",
       "      <td>1</td>\n",
       "      <td>1.891518</td>\n",
       "      <td>0</td>\n",
       "    </tr>\n",
       "    <tr>\n",
       "      <th>45769185</th>\n",
       "      <td>1.181298</td>\n",
       "      <td>15.411850</td>\n",
       "      <td>Escape</td>\n",
       "      <td>2.376051</td>\n",
       "      <td>1</td>\n",
       "      <td>1.084548</td>\n",
       "      <td>2.5</td>\n",
       "      <td>1.600473</td>\n",
       "      <td>1.958030</td>\n",
       "      <td>1.719292</td>\n",
       "      <td>2</td>\n",
       "      <td>1.814196</td>\n",
       "      <td>0</td>\n",
       "    </tr>\n",
       "    <tr>\n",
       "      <th>45809263</th>\n",
       "      <td>1.956810</td>\n",
       "      <td>14.162074</td>\n",
       "      <td>FIT</td>\n",
       "      <td>1.135461</td>\n",
       "      <td>1</td>\n",
       "      <td>1.739115</td>\n",
       "      <td>1.3</td>\n",
       "      <td>1.600473</td>\n",
       "      <td>1.850303</td>\n",
       "      <td>1.719292</td>\n",
       "      <td>2</td>\n",
       "      <td>1.512203</td>\n",
       "      <td>0</td>\n",
       "    </tr>\n",
       "  </tbody>\n",
       "</table>\n",
       "</div>"
      ],
      "text/plain": [
       "              Levy  Manufacturer    Model  Category  Leather interior  \\\n",
       "ID                                                                      \n",
       "45654403  0.707867     20.052594   RX 450  2.376051                 1   \n",
       "44731507  1.142824     14.894874  Equinox  2.376051                 0   \n",
       "45774419  2.150699     14.162074      FIT  1.135461                 0   \n",
       "45769185  1.181298     15.411850   Escape  2.376051                 1   \n",
       "45809263  1.956810     14.162074      FIT  1.135461                 1   \n",
       "\n",
       "          Fuel type  Engine volume  Gear box type  Drive wheels     Doors  \\\n",
       "ID                                                                          \n",
       "45654403   1.084548            3.5       1.600473      1.958030  1.719292   \n",
       "44731507   1.739115            3.0       2.631358      1.958030  1.719292   \n",
       "45774419   1.739115            1.3       1.477050      1.850303  1.719292   \n",
       "45769185   1.084548            2.5       1.600473      1.958030  1.719292   \n",
       "45809263   1.739115            1.3       1.600473      1.850303  1.719292   \n",
       "\n",
       "          Wheel     Color  Turbo  \n",
       "ID                                \n",
       "45654403      2  1.512203      0  \n",
       "44731507      2  1.891518      0  \n",
       "45774419      1  1.891518      0  \n",
       "45769185      2  1.814196      0  \n",
       "45809263      2  1.512203      0  "
      ]
     },
     "execution_count": 53,
     "metadata": {},
     "output_type": "execute_result"
    }
   ],
   "source": [
    "map_color = dict(df_train.groupby(['Color'])['Price'].mean()/1e4)\n",
    "df_obj['Color'] = df_obj['Color'].map(map_color)\n",
    "df_obj.head()"
   ]
  },
  {
   "cell_type": "code",
   "execution_count": 54,
   "metadata": {},
   "outputs": [],
   "source": [
    "df_obj.drop(columns=['Model'], inplace=True)"
   ]
  },
  {
   "cell_type": "code",
   "execution_count": 55,
   "metadata": {},
   "outputs": [
    {
     "data": {
      "text/html": [
       "<div>\n",
       "<style scoped>\n",
       "    .dataframe tbody tr th:only-of-type {\n",
       "        vertical-align: middle;\n",
       "    }\n",
       "\n",
       "    .dataframe tbody tr th {\n",
       "        vertical-align: top;\n",
       "    }\n",
       "\n",
       "    .dataframe thead th {\n",
       "        text-align: right;\n",
       "    }\n",
       "</style>\n",
       "<table border=\"1\" class=\"dataframe\">\n",
       "  <thead>\n",
       "    <tr style=\"text-align: right;\">\n",
       "      <th></th>\n",
       "      <th>Levy</th>\n",
       "      <th>Manufacturer</th>\n",
       "      <th>Category</th>\n",
       "      <th>Leather interior</th>\n",
       "      <th>Fuel type</th>\n",
       "      <th>Engine volume</th>\n",
       "      <th>Gear box type</th>\n",
       "      <th>Drive wheels</th>\n",
       "      <th>Doors</th>\n",
       "      <th>Wheel</th>\n",
       "      <th>Color</th>\n",
       "      <th>Turbo</th>\n",
       "    </tr>\n",
       "    <tr>\n",
       "      <th>ID</th>\n",
       "      <th></th>\n",
       "      <th></th>\n",
       "      <th></th>\n",
       "      <th></th>\n",
       "      <th></th>\n",
       "      <th></th>\n",
       "      <th></th>\n",
       "      <th></th>\n",
       "      <th></th>\n",
       "      <th></th>\n",
       "      <th></th>\n",
       "      <th></th>\n",
       "    </tr>\n",
       "  </thead>\n",
       "  <tbody>\n",
       "    <tr>\n",
       "      <th>45654403</th>\n",
       "      <td>0.707867</td>\n",
       "      <td>20.052594</td>\n",
       "      <td>2.376051</td>\n",
       "      <td>1</td>\n",
       "      <td>1.084548</td>\n",
       "      <td>3.5</td>\n",
       "      <td>1.600473</td>\n",
       "      <td>1.958030</td>\n",
       "      <td>1.719292</td>\n",
       "      <td>2</td>\n",
       "      <td>1.512203</td>\n",
       "      <td>0</td>\n",
       "    </tr>\n",
       "    <tr>\n",
       "      <th>44731507</th>\n",
       "      <td>1.142824</td>\n",
       "      <td>14.894874</td>\n",
       "      <td>2.376051</td>\n",
       "      <td>0</td>\n",
       "      <td>1.739115</td>\n",
       "      <td>3.0</td>\n",
       "      <td>2.631358</td>\n",
       "      <td>1.958030</td>\n",
       "      <td>1.719292</td>\n",
       "      <td>2</td>\n",
       "      <td>1.891518</td>\n",
       "      <td>0</td>\n",
       "    </tr>\n",
       "    <tr>\n",
       "      <th>45774419</th>\n",
       "      <td>2.150699</td>\n",
       "      <td>14.162074</td>\n",
       "      <td>1.135461</td>\n",
       "      <td>0</td>\n",
       "      <td>1.739115</td>\n",
       "      <td>1.3</td>\n",
       "      <td>1.477050</td>\n",
       "      <td>1.850303</td>\n",
       "      <td>1.719292</td>\n",
       "      <td>1</td>\n",
       "      <td>1.891518</td>\n",
       "      <td>0</td>\n",
       "    </tr>\n",
       "    <tr>\n",
       "      <th>45769185</th>\n",
       "      <td>1.181298</td>\n",
       "      <td>15.411850</td>\n",
       "      <td>2.376051</td>\n",
       "      <td>1</td>\n",
       "      <td>1.084548</td>\n",
       "      <td>2.5</td>\n",
       "      <td>1.600473</td>\n",
       "      <td>1.958030</td>\n",
       "      <td>1.719292</td>\n",
       "      <td>2</td>\n",
       "      <td>1.814196</td>\n",
       "      <td>0</td>\n",
       "    </tr>\n",
       "    <tr>\n",
       "      <th>45809263</th>\n",
       "      <td>1.956810</td>\n",
       "      <td>14.162074</td>\n",
       "      <td>1.135461</td>\n",
       "      <td>1</td>\n",
       "      <td>1.739115</td>\n",
       "      <td>1.3</td>\n",
       "      <td>1.600473</td>\n",
       "      <td>1.850303</td>\n",
       "      <td>1.719292</td>\n",
       "      <td>2</td>\n",
       "      <td>1.512203</td>\n",
       "      <td>0</td>\n",
       "    </tr>\n",
       "    <tr>\n",
       "      <th>45802912</th>\n",
       "      <td>2.750153</td>\n",
       "      <td>22.306001</td>\n",
       "      <td>2.376051</td>\n",
       "      <td>1</td>\n",
       "      <td>3.068479</td>\n",
       "      <td>2.0</td>\n",
       "      <td>1.600473</td>\n",
       "      <td>1.850303</td>\n",
       "      <td>1.719292</td>\n",
       "      <td>2</td>\n",
       "      <td>1.814196</td>\n",
       "      <td>0</td>\n",
       "    </tr>\n",
       "    <tr>\n",
       "      <th>45656768</th>\n",
       "      <td>0.814299</td>\n",
       "      <td>14.302448</td>\n",
       "      <td>1.135461</td>\n",
       "      <td>1</td>\n",
       "      <td>1.084548</td>\n",
       "      <td>1.8</td>\n",
       "      <td>1.600473</td>\n",
       "      <td>1.850303</td>\n",
       "      <td>1.719292</td>\n",
       "      <td>2</td>\n",
       "      <td>1.814196</td>\n",
       "      <td>0</td>\n",
       "    </tr>\n",
       "    <tr>\n",
       "      <th>45816158</th>\n",
       "      <td>1.082160</td>\n",
       "      <td>22.306001</td>\n",
       "      <td>1.420273</td>\n",
       "      <td>1</td>\n",
       "      <td>1.739115</td>\n",
       "      <td>2.4</td>\n",
       "      <td>1.600473</td>\n",
       "      <td>1.850303</td>\n",
       "      <td>1.719292</td>\n",
       "      <td>2</td>\n",
       "      <td>1.924245</td>\n",
       "      <td>0</td>\n",
       "    </tr>\n",
       "    <tr>\n",
       "      <th>45641395</th>\n",
       "      <td>0.650313</td>\n",
       "      <td>14.302448</td>\n",
       "      <td>1.420273</td>\n",
       "      <td>1</td>\n",
       "      <td>1.084548</td>\n",
       "      <td>2.5</td>\n",
       "      <td>1.600473</td>\n",
       "      <td>1.850303</td>\n",
       "      <td>1.719292</td>\n",
       "      <td>2</td>\n",
       "      <td>1.891518</td>\n",
       "      <td>0</td>\n",
       "    </tr>\n",
       "    <tr>\n",
       "      <th>45756839</th>\n",
       "      <td>2.150699</td>\n",
       "      <td>20.052594</td>\n",
       "      <td>2.376051</td>\n",
       "      <td>1</td>\n",
       "      <td>1.739115</td>\n",
       "      <td>3.5</td>\n",
       "      <td>1.600473</td>\n",
       "      <td>1.958030</td>\n",
       "      <td>1.719292</td>\n",
       "      <td>2</td>\n",
       "      <td>1.512203</td>\n",
       "      <td>0</td>\n",
       "    </tr>\n",
       "  </tbody>\n",
       "</table>\n",
       "</div>"
      ],
      "text/plain": [
       "              Levy  Manufacturer  Category  Leather interior  Fuel type  \\\n",
       "ID                                                                        \n",
       "45654403  0.707867     20.052594  2.376051                 1   1.084548   \n",
       "44731507  1.142824     14.894874  2.376051                 0   1.739115   \n",
       "45774419  2.150699     14.162074  1.135461                 0   1.739115   \n",
       "45769185  1.181298     15.411850  2.376051                 1   1.084548   \n",
       "45809263  1.956810     14.162074  1.135461                 1   1.739115   \n",
       "45802912  2.750153     22.306001  2.376051                 1   3.068479   \n",
       "45656768  0.814299     14.302448  1.135461                 1   1.084548   \n",
       "45816158  1.082160     22.306001  1.420273                 1   1.739115   \n",
       "45641395  0.650313     14.302448  1.420273                 1   1.084548   \n",
       "45756839  2.150699     20.052594  2.376051                 1   1.739115   \n",
       "\n",
       "          Engine volume  Gear box type  Drive wheels     Doors  Wheel  \\\n",
       "ID                                                                      \n",
       "45654403            3.5       1.600473      1.958030  1.719292      2   \n",
       "44731507            3.0       2.631358      1.958030  1.719292      2   \n",
       "45774419            1.3       1.477050      1.850303  1.719292      1   \n",
       "45769185            2.5       1.600473      1.958030  1.719292      2   \n",
       "45809263            1.3       1.600473      1.850303  1.719292      2   \n",
       "45802912            2.0       1.600473      1.850303  1.719292      2   \n",
       "45656768            1.8       1.600473      1.850303  1.719292      2   \n",
       "45816158            2.4       1.600473      1.850303  1.719292      2   \n",
       "45641395            2.5       1.600473      1.850303  1.719292      2   \n",
       "45756839            3.5       1.600473      1.958030  1.719292      2   \n",
       "\n",
       "             Color  Turbo  \n",
       "ID                         \n",
       "45654403  1.512203      0  \n",
       "44731507  1.891518      0  \n",
       "45774419  1.891518      0  \n",
       "45769185  1.814196      0  \n",
       "45809263  1.512203      0  \n",
       "45802912  1.814196      0  \n",
       "45656768  1.814196      0  \n",
       "45816158  1.924245      0  \n",
       "45641395  1.891518      0  \n",
       "45756839  1.512203      0  "
      ]
     },
     "execution_count": 55,
     "metadata": {},
     "output_type": "execute_result"
    }
   ],
   "source": [
    "df_obj.head(10)"
   ]
  },
  {
   "cell_type": "code",
   "execution_count": 56,
   "metadata": {},
   "outputs": [
    {
     "data": {
      "text/plain": [
       "(18924, 12)"
      ]
     },
     "execution_count": 56,
     "metadata": {},
     "output_type": "execute_result"
    }
   ],
   "source": [
    "df_obj.shape"
   ]
  },
  {
   "cell_type": "markdown",
   "metadata": {},
   "source": [
    "## Numerical data"
   ]
  },
  {
   "cell_type": "code",
   "execution_count": 57,
   "metadata": {},
   "outputs": [],
   "source": [
    "df_num = df_train.select_dtypes(exclude='object').copy()"
   ]
  },
  {
   "cell_type": "markdown",
   "metadata": {},
   "source": [
    "Removing Outliers"
   ]
  },
  {
   "cell_type": "code",
   "execution_count": 58,
   "metadata": {},
   "outputs": [],
   "source": [
    "#df_num = remove_outliers_iqr(df_num,'Price')\n",
    "#df_num = remove_outliers_iqr(df_num,'Mileage')"
   ]
  },
  {
   "cell_type": "code",
   "execution_count": 59,
   "metadata": {
    "scrolled": true
   },
   "outputs": [
    {
     "data": {
      "text/html": [
       "<div>\n",
       "<style scoped>\n",
       "    .dataframe tbody tr th:only-of-type {\n",
       "        vertical-align: middle;\n",
       "    }\n",
       "\n",
       "    .dataframe tbody tr th {\n",
       "        vertical-align: top;\n",
       "    }\n",
       "\n",
       "    .dataframe thead th {\n",
       "        text-align: right;\n",
       "    }\n",
       "</style>\n",
       "<table border=\"1\" class=\"dataframe\">\n",
       "  <thead>\n",
       "    <tr style=\"text-align: right;\">\n",
       "      <th></th>\n",
       "      <th>Price</th>\n",
       "      <th>Prod. year</th>\n",
       "      <th>Mileage</th>\n",
       "      <th>Cylinders</th>\n",
       "      <th>Airbags</th>\n",
       "    </tr>\n",
       "  </thead>\n",
       "  <tbody>\n",
       "    <tr>\n",
       "      <th>count</th>\n",
       "      <td>1.892400e+04</td>\n",
       "      <td>18924.000000</td>\n",
       "      <td>1.892400e+04</td>\n",
       "      <td>18924.000000</td>\n",
       "      <td>18924.000000</td>\n",
       "    </tr>\n",
       "    <tr>\n",
       "      <th>mean</th>\n",
       "      <td>1.858744e+04</td>\n",
       "      <td>2010.914236</td>\n",
       "      <td>1.555373e+06</td>\n",
       "      <td>4.580216</td>\n",
       "      <td>6.568379</td>\n",
       "    </tr>\n",
       "    <tr>\n",
       "      <th>std</th>\n",
       "      <td>1.921356e+05</td>\n",
       "      <td>5.665749</td>\n",
       "      <td>4.880221e+07</td>\n",
       "      <td>1.200223</td>\n",
       "      <td>4.322323</td>\n",
       "    </tr>\n",
       "    <tr>\n",
       "      <th>min</th>\n",
       "      <td>1.000000e+00</td>\n",
       "      <td>1939.000000</td>\n",
       "      <td>0.000000e+00</td>\n",
       "      <td>1.000000</td>\n",
       "      <td>0.000000</td>\n",
       "    </tr>\n",
       "    <tr>\n",
       "      <th>25%</th>\n",
       "      <td>5.331000e+03</td>\n",
       "      <td>2009.000000</td>\n",
       "      <td>7.019575e+04</td>\n",
       "      <td>4.000000</td>\n",
       "      <td>4.000000</td>\n",
       "    </tr>\n",
       "    <tr>\n",
       "      <th>50%</th>\n",
       "      <td>1.317200e+04</td>\n",
       "      <td>2012.000000</td>\n",
       "      <td>1.264000e+05</td>\n",
       "      <td>4.000000</td>\n",
       "      <td>6.000000</td>\n",
       "    </tr>\n",
       "    <tr>\n",
       "      <th>75%</th>\n",
       "      <td>2.206300e+04</td>\n",
       "      <td>2015.000000</td>\n",
       "      <td>1.891198e+05</td>\n",
       "      <td>4.000000</td>\n",
       "      <td>12.000000</td>\n",
       "    </tr>\n",
       "    <tr>\n",
       "      <th>max</th>\n",
       "      <td>2.630750e+07</td>\n",
       "      <td>2020.000000</td>\n",
       "      <td>2.147484e+09</td>\n",
       "      <td>16.000000</td>\n",
       "      <td>16.000000</td>\n",
       "    </tr>\n",
       "  </tbody>\n",
       "</table>\n",
       "</div>"
      ],
      "text/plain": [
       "              Price    Prod. year       Mileage     Cylinders       Airbags\n",
       "count  1.892400e+04  18924.000000  1.892400e+04  18924.000000  18924.000000\n",
       "mean   1.858744e+04   2010.914236  1.555373e+06      4.580216      6.568379\n",
       "std    1.921356e+05      5.665749  4.880221e+07      1.200223      4.322323\n",
       "min    1.000000e+00   1939.000000  0.000000e+00      1.000000      0.000000\n",
       "25%    5.331000e+03   2009.000000  7.019575e+04      4.000000      4.000000\n",
       "50%    1.317200e+04   2012.000000  1.264000e+05      4.000000      6.000000\n",
       "75%    2.206300e+04   2015.000000  1.891198e+05      4.000000     12.000000\n",
       "max    2.630750e+07   2020.000000  2.147484e+09     16.000000     16.000000"
      ]
     },
     "execution_count": 59,
     "metadata": {},
     "output_type": "execute_result"
    }
   ],
   "source": [
    "df_num.describe()"
   ]
  },
  {
   "cell_type": "code",
   "execution_count": 60,
   "metadata": {
    "scrolled": false
   },
   "outputs": [
    {
     "data": {
      "text/html": [
       "<div>\n",
       "<style scoped>\n",
       "    .dataframe tbody tr th:only-of-type {\n",
       "        vertical-align: middle;\n",
       "    }\n",
       "\n",
       "    .dataframe tbody tr th {\n",
       "        vertical-align: top;\n",
       "    }\n",
       "\n",
       "    .dataframe thead th {\n",
       "        text-align: right;\n",
       "    }\n",
       "</style>\n",
       "<table border=\"1\" class=\"dataframe\">\n",
       "  <thead>\n",
       "    <tr style=\"text-align: right;\">\n",
       "      <th></th>\n",
       "      <th>Price</th>\n",
       "      <th>Prod. year</th>\n",
       "      <th>Mileage</th>\n",
       "      <th>Cylinders</th>\n",
       "      <th>Airbags</th>\n",
       "    </tr>\n",
       "  </thead>\n",
       "  <tbody>\n",
       "    <tr>\n",
       "      <th>Price</th>\n",
       "      <td>1.000000</td>\n",
       "      <td>0.012689</td>\n",
       "      <td>-0.001763</td>\n",
       "      <td>0.007435</td>\n",
       "      <td>-0.012709</td>\n",
       "    </tr>\n",
       "    <tr>\n",
       "      <th>Prod. year</th>\n",
       "      <td>0.012689</td>\n",
       "      <td>1.000000</td>\n",
       "      <td>-0.064058</td>\n",
       "      <td>-0.099443</td>\n",
       "      <td>0.235160</td>\n",
       "    </tr>\n",
       "    <tr>\n",
       "      <th>Mileage</th>\n",
       "      <td>-0.001763</td>\n",
       "      <td>-0.064058</td>\n",
       "      <td>1.000000</td>\n",
       "      <td>-0.001720</td>\n",
       "      <td>-0.009174</td>\n",
       "    </tr>\n",
       "    <tr>\n",
       "      <th>Cylinders</th>\n",
       "      <td>0.007435</td>\n",
       "      <td>-0.099443</td>\n",
       "      <td>-0.001720</td>\n",
       "      <td>1.000000</td>\n",
       "      <td>0.174112</td>\n",
       "    </tr>\n",
       "    <tr>\n",
       "      <th>Airbags</th>\n",
       "      <td>-0.012709</td>\n",
       "      <td>0.235160</td>\n",
       "      <td>-0.009174</td>\n",
       "      <td>0.174112</td>\n",
       "      <td>1.000000</td>\n",
       "    </tr>\n",
       "  </tbody>\n",
       "</table>\n",
       "</div>"
      ],
      "text/plain": [
       "               Price  Prod. year   Mileage  Cylinders   Airbags\n",
       "Price       1.000000    0.012689 -0.001763   0.007435 -0.012709\n",
       "Prod. year  0.012689    1.000000 -0.064058  -0.099443  0.235160\n",
       "Mileage    -0.001763   -0.064058  1.000000  -0.001720 -0.009174\n",
       "Cylinders   0.007435   -0.099443 -0.001720   1.000000  0.174112\n",
       "Airbags    -0.012709    0.235160 -0.009174   0.174112  1.000000"
      ]
     },
     "execution_count": 60,
     "metadata": {},
     "output_type": "execute_result"
    }
   ],
   "source": [
    "df_num.corr()"
   ]
  },
  {
   "cell_type": "markdown",
   "metadata": {},
   "source": [
    "#### Prices"
   ]
  },
  {
   "cell_type": "code",
   "execution_count": 61,
   "metadata": {},
   "outputs": [
    {
     "data": {
      "image/png": "[encoded data removed]",
      "text/plain": [
       "<Figure size 432x288 with 1 Axes>"
      ]
     },
     "metadata": {
      "needs_background": "light"
     },
     "output_type": "display_data"
    }
   ],
   "source": [
    "df_num.Price.hist();"
   ]
  },
  {
   "cell_type": "code",
   "execution_count": 62,
   "metadata": {
    "scrolled": true
   },
   "outputs": [
    {
     "data": {
      "image/png": "[encoded data removed]",
      "text/plain": [
       "<Figure size 432x288 with 1 Axes>"
      ]
     },
     "metadata": {
      "needs_background": "light"
     },
     "output_type": "display_data"
    }
   ],
   "source": [
    "plt.hist(df_num.Price)\n",
    "plt.xlabel('Price')\n",
    "plt.title('Distribution of Prices');"
   ]
  },
  {
   "cell_type": "code",
   "execution_count": 63,
   "metadata": {
    "scrolled": false
   },
   "outputs": [
    {
     "data": {
      "text/plain": [
       "(18924, 5)"
      ]
     },
     "execution_count": 63,
     "metadata": {},
     "output_type": "execute_result"
    }
   ],
   "source": [
    "df_num.shape"
   ]
  },
  {
   "cell_type": "markdown",
   "metadata": {},
   "source": [
    "#### Prod. year"
   ]
  },
  {
   "cell_type": "code",
   "execution_count": 64,
   "metadata": {
    "scrolled": true
   },
   "outputs": [
    {
     "data": {
      "text/plain": [
       "54"
      ]
     },
     "execution_count": 64,
     "metadata": {},
     "output_type": "execute_result"
    }
   ],
   "source": [
    "len(df_num[\"Prod. year\"].value_counts())"
   ]
  },
  {
   "cell_type": "code",
   "execution_count": 65,
   "metadata": {
    "scrolled": false
   },
   "outputs": [
    {
     "data": {
      "image/png": "[encoded data removed]",
      "text/plain": [
       "<Figure size 432x288 with 1 Axes>"
      ]
     },
     "metadata": {
      "needs_background": "light"
     },
     "output_type": "display_data"
    }
   ],
   "source": [
    "df_num[\"Prod. year\"].hist();"
   ]
  },
  {
   "cell_type": "code",
   "execution_count": 66,
   "metadata": {
    "scrolled": true
   },
   "outputs": [
    {
     "data": {
      "text/plain": [
       "(1980, 2021)"
      ]
     },
     "execution_count": 66,
     "metadata": {},
     "output_type": "execute_result"
    },
    {
     "data": {
      "image/png": "[encoded data removed]",
      "text/plain": [
       "<Figure size 432x288 with 1 Axes>"
      ]
     },
     "metadata": {
      "needs_background": "light"
     },
     "output_type": "display_data"
    }
   ],
   "source": [
    "plt.scatter(df_num['Prod. year'],df_num.Price, alpha=0.2)\n",
    "plt.xlim([1980, 2021])"
   ]
  },
  {
   "cell_type": "markdown",
   "metadata": {},
   "source": [
    "There seems to be a linear increasing relationship between year and price"
   ]
  },
  {
   "cell_type": "markdown",
   "metadata": {},
   "source": [
    "#### Mileage"
   ]
  },
  {
   "cell_type": "code",
   "execution_count": 67,
   "metadata": {
    "scrolled": false
   },
   "outputs": [
    {
     "data": {
      "image/png": "[encoded data removed]",
      "text/plain": [
       "<Figure size 432x288 with 1 Axes>"
      ]
     },
     "metadata": {
      "needs_background": "light"
     },
     "output_type": "display_data"
    }
   ],
   "source": [
    "df_num['Mileage'].hist();"
   ]
  },
  {
   "cell_type": "code",
   "execution_count": 68,
   "metadata": {
    "scrolled": false
   },
   "outputs": [
    {
     "data": {
      "image/png": "[encoded data removed]",
      "text/plain": [
       "<Figure size 432x288 with 1 Axes>"
      ]
     },
     "metadata": {
      "needs_background": "light"
     },
     "output_type": "display_data"
    }
   ],
   "source": [
    "plt.scatter(df_num['Mileage'],df_num.Price, alpha=0.2);\n"
   ]
  },
  {
   "cell_type": "markdown",
   "metadata": {},
   "source": [
    "There seems to be a negative correlation between mileage and price"
   ]
  },
  {
   "cell_type": "code",
   "execution_count": 69,
   "metadata": {
    "scrolled": true
   },
   "outputs": [
    {
     "data": {
      "text/plain": [
       "<matplotlib.axes._subplots.AxesSubplot at 0x7f4983bd1580>"
      ]
     },
     "execution_count": 69,
     "metadata": {},
     "output_type": "execute_result"
    },
    {
     "data": {
      "image/png": "[encoded data removed]",
      "text/plain": [
       "<Figure size 432x288 with 1 Axes>"
      ]
     },
     "metadata": {
      "needs_background": "light"
     },
     "output_type": "display_data"
    }
   ],
   "source": [
    "df_num.boxplot('Mileage')"
   ]
  },
  {
   "cell_type": "code",
   "execution_count": 70,
   "metadata": {
    "scrolled": true
   },
   "outputs": [
    {
     "data": {
      "text/html": [
       "<div>\n",
       "<style scoped>\n",
       "    .dataframe tbody tr th:only-of-type {\n",
       "        vertical-align: middle;\n",
       "    }\n",
       "\n",
       "    .dataframe tbody tr th {\n",
       "        vertical-align: top;\n",
       "    }\n",
       "\n",
       "    .dataframe thead th {\n",
       "        text-align: right;\n",
       "    }\n",
       "</style>\n",
       "<table border=\"1\" class=\"dataframe\">\n",
       "  <thead>\n",
       "    <tr style=\"text-align: right;\">\n",
       "      <th></th>\n",
       "      <th>Price</th>\n",
       "      <th>Prod. year</th>\n",
       "      <th>Mileage</th>\n",
       "      <th>Cylinders</th>\n",
       "      <th>Airbags</th>\n",
       "    </tr>\n",
       "    <tr>\n",
       "      <th>ID</th>\n",
       "      <th></th>\n",
       "      <th></th>\n",
       "      <th></th>\n",
       "      <th></th>\n",
       "      <th></th>\n",
       "    </tr>\n",
       "  </thead>\n",
       "  <tbody>\n",
       "    <tr>\n",
       "      <th>45346940</th>\n",
       "      <td>6899</td>\n",
       "      <td>1999</td>\n",
       "      <td>2147483647</td>\n",
       "      <td>4.0</td>\n",
       "      <td>4</td>\n",
       "    </tr>\n",
       "    <tr>\n",
       "      <th>45332500</th>\n",
       "      <td>10036</td>\n",
       "      <td>2005</td>\n",
       "      <td>2147483647</td>\n",
       "      <td>4.0</td>\n",
       "      <td>12</td>\n",
       "    </tr>\n",
       "    <tr>\n",
       "      <th>45761457</th>\n",
       "      <td>3</td>\n",
       "      <td>1995</td>\n",
       "      <td>2147483647</td>\n",
       "      <td>6.0</td>\n",
       "      <td>3</td>\n",
       "    </tr>\n",
       "    <tr>\n",
       "      <th>45799423</th>\n",
       "      <td>18817</td>\n",
       "      <td>2003</td>\n",
       "      <td>2147483647</td>\n",
       "      <td>4.0</td>\n",
       "      <td>2</td>\n",
       "    </tr>\n",
       "    <tr>\n",
       "      <th>45793107</th>\n",
       "      <td>5959</td>\n",
       "      <td>1995</td>\n",
       "      <td>2147483647</td>\n",
       "      <td>4.0</td>\n",
       "      <td>5</td>\n",
       "    </tr>\n",
       "    <tr>\n",
       "      <th>...</th>\n",
       "      <td>...</td>\n",
       "      <td>...</td>\n",
       "      <td>...</td>\n",
       "      <td>...</td>\n",
       "      <td>...</td>\n",
       "    </tr>\n",
       "    <tr>\n",
       "      <th>45807457</th>\n",
       "      <td>33556</td>\n",
       "      <td>2015</td>\n",
       "      <td>0</td>\n",
       "      <td>4.0</td>\n",
       "      <td>12</td>\n",
       "    </tr>\n",
       "    <tr>\n",
       "      <th>45796360</th>\n",
       "      <td>10976</td>\n",
       "      <td>2014</td>\n",
       "      <td>0</td>\n",
       "      <td>4.0</td>\n",
       "      <td>6</td>\n",
       "    </tr>\n",
       "    <tr>\n",
       "      <th>45638142</th>\n",
       "      <td>282</td>\n",
       "      <td>2014</td>\n",
       "      <td>0</td>\n",
       "      <td>4.0</td>\n",
       "      <td>0</td>\n",
       "    </tr>\n",
       "    <tr>\n",
       "      <th>45808282</th>\n",
       "      <td>2352</td>\n",
       "      <td>2012</td>\n",
       "      <td>0</td>\n",
       "      <td>4.0</td>\n",
       "      <td>12</td>\n",
       "    </tr>\n",
       "    <tr>\n",
       "      <th>45754857</th>\n",
       "      <td>4391</td>\n",
       "      <td>2014</td>\n",
       "      <td>0</td>\n",
       "      <td>6.0</td>\n",
       "      <td>12</td>\n",
       "    </tr>\n",
       "  </tbody>\n",
       "</table>\n",
       "<p>18924 rows × 5 columns</p>\n",
       "</div>"
      ],
      "text/plain": [
       "          Price  Prod. year     Mileage  Cylinders  Airbags\n",
       "ID                                                         \n",
       "45346940   6899        1999  2147483647        4.0        4\n",
       "45332500  10036        2005  2147483647        4.0       12\n",
       "45761457      3        1995  2147483647        6.0        3\n",
       "45799423  18817        2003  2147483647        4.0        2\n",
       "45793107   5959        1995  2147483647        4.0        5\n",
       "...         ...         ...         ...        ...      ...\n",
       "45807457  33556        2015           0        4.0       12\n",
       "45796360  10976        2014           0        4.0        6\n",
       "45638142    282        2014           0        4.0        0\n",
       "45808282   2352        2012           0        4.0       12\n",
       "45754857   4391        2014           0        6.0       12\n",
       "\n",
       "[18924 rows x 5 columns]"
      ]
     },
     "execution_count": 70,
     "metadata": {},
     "output_type": "execute_result"
    }
   ],
   "source": [
    "df_num.sort_values('Mileage', ascending=False)"
   ]
  },
  {
   "cell_type": "markdown",
   "metadata": {},
   "source": [
    "#### Cylinders"
   ]
  },
  {
   "cell_type": "code",
   "execution_count": 71,
   "metadata": {},
   "outputs": [
    {
     "data": {
      "text/plain": [
       "4.0     14159\n",
       "6.0      3373\n",
       "8.0       976\n",
       "5.0       169\n",
       "3.0       107\n",
       "2.0        42\n",
       "12.0       38\n",
       "1.0        37\n",
       "10.0       12\n",
       "16.0        5\n",
       "7.0         4\n",
       "14.0        1\n",
       "9.0         1\n",
       "Name: Cylinders, dtype: int64"
      ]
     },
     "execution_count": 71,
     "metadata": {},
     "output_type": "execute_result"
    }
   ],
   "source": [
    "df_num.Cylinders.value_counts()"
   ]
  },
  {
   "cell_type": "code",
   "execution_count": 72,
   "metadata": {
    "scrolled": false
   },
   "outputs": [
    {
     "data": {
      "image/png": "[encoded data removed]",
      "text/plain": [
       "<Figure size 432x288 with 1 Axes>"
      ]
     },
     "metadata": {
      "needs_background": "light"
     },
     "output_type": "display_data"
    }
   ],
   "source": [
    "df_num.Cylinders.hist();"
   ]
  },
  {
   "cell_type": "markdown",
   "metadata": {},
   "source": [
    "#### Airbags"
   ]
  },
  {
   "cell_type": "code",
   "execution_count": 73,
   "metadata": {
    "scrolled": true
   },
   "outputs": [
    {
     "data": {
      "text/plain": [
       "4     5733\n",
       "12    5534\n",
       "0     2384\n",
       "8     1569\n",
       "6     1289\n",
       "2     1051\n",
       "10     845\n",
       "5      104\n",
       "16      93\n",
       "7       85\n",
       "1       76\n",
       "9       62\n",
       "3       37\n",
       "11      33\n",
       "14      20\n",
       "15       7\n",
       "13       2\n",
       "Name: Airbags, dtype: int64"
      ]
     },
     "execution_count": 73,
     "metadata": {},
     "output_type": "execute_result"
    }
   ],
   "source": [
    "df_num.Airbags.value_counts()"
   ]
  },
  {
   "cell_type": "code",
   "execution_count": 74,
   "metadata": {},
   "outputs": [
    {
     "data": {
      "image/png": "[encoded data removed]",
      "text/plain": [
       "<Figure size 432x288 with 1 Axes>"
      ]
     },
     "metadata": {
      "needs_background": "light"
     },
     "output_type": "display_data"
    }
   ],
   "source": [
    "df_num.Airbags.hist();"
   ]
  },
  {
   "cell_type": "code",
   "execution_count": 75,
   "metadata": {
    "scrolled": true
   },
   "outputs": [
    {
     "data": {
      "text/plain": [
       "(18924, 5)"
      ]
     },
     "execution_count": 75,
     "metadata": {},
     "output_type": "execute_result"
    }
   ],
   "source": [
    "df_num.shape"
   ]
  },
  {
   "cell_type": "code",
   "execution_count": 76,
   "metadata": {},
   "outputs": [
    {
     "data": {
      "text/html": [
       "<div>\n",
       "<style scoped>\n",
       "    .dataframe tbody tr th:only-of-type {\n",
       "        vertical-align: middle;\n",
       "    }\n",
       "\n",
       "    .dataframe tbody tr th {\n",
       "        vertical-align: top;\n",
       "    }\n",
       "\n",
       "    .dataframe thead th {\n",
       "        text-align: right;\n",
       "    }\n",
       "</style>\n",
       "<table border=\"1\" class=\"dataframe\">\n",
       "  <thead>\n",
       "    <tr style=\"text-align: right;\">\n",
       "      <th></th>\n",
       "      <th>Price</th>\n",
       "      <th>Prod. year</th>\n",
       "      <th>Mileage</th>\n",
       "      <th>Cylinders</th>\n",
       "      <th>Airbags</th>\n",
       "    </tr>\n",
       "    <tr>\n",
       "      <th>ID</th>\n",
       "      <th></th>\n",
       "      <th></th>\n",
       "      <th></th>\n",
       "      <th></th>\n",
       "      <th></th>\n",
       "    </tr>\n",
       "  </thead>\n",
       "  <tbody>\n",
       "    <tr>\n",
       "      <th>45654403</th>\n",
       "      <td>13328</td>\n",
       "      <td>2010</td>\n",
       "      <td>186005</td>\n",
       "      <td>6.0</td>\n",
       "      <td>12</td>\n",
       "    </tr>\n",
       "    <tr>\n",
       "      <th>44731507</th>\n",
       "      <td>16621</td>\n",
       "      <td>2011</td>\n",
       "      <td>192000</td>\n",
       "      <td>6.0</td>\n",
       "      <td>8</td>\n",
       "    </tr>\n",
       "    <tr>\n",
       "      <th>45774419</th>\n",
       "      <td>8467</td>\n",
       "      <td>2006</td>\n",
       "      <td>200000</td>\n",
       "      <td>4.0</td>\n",
       "      <td>2</td>\n",
       "    </tr>\n",
       "    <tr>\n",
       "      <th>45769185</th>\n",
       "      <td>3607</td>\n",
       "      <td>2011</td>\n",
       "      <td>168966</td>\n",
       "      <td>4.0</td>\n",
       "      <td>0</td>\n",
       "    </tr>\n",
       "    <tr>\n",
       "      <th>45809263</th>\n",
       "      <td>11726</td>\n",
       "      <td>2014</td>\n",
       "      <td>91901</td>\n",
       "      <td>4.0</td>\n",
       "      <td>4</td>\n",
       "    </tr>\n",
       "  </tbody>\n",
       "</table>\n",
       "</div>"
      ],
      "text/plain": [
       "          Price  Prod. year  Mileage  Cylinders  Airbags\n",
       "ID                                                      \n",
       "45654403  13328        2010   186005        6.0       12\n",
       "44731507  16621        2011   192000        6.0        8\n",
       "45774419   8467        2006   200000        4.0        2\n",
       "45769185   3607        2011   168966        4.0        0\n",
       "45809263  11726        2014    91901        4.0        4"
      ]
     },
     "execution_count": 76,
     "metadata": {},
     "output_type": "execute_result"
    }
   ],
   "source": [
    "df_num.head()"
   ]
  },
  {
   "cell_type": "code",
   "execution_count": 77,
   "metadata": {},
   "outputs": [],
   "source": [
    "y = df_num[['Price']]"
   ]
  },
  {
   "cell_type": "code",
   "execution_count": 78,
   "metadata": {},
   "outputs": [],
   "source": [
    "X = df_num.drop(columns=['Price'])"
   ]
  },
  {
   "cell_type": "markdown",
   "metadata": {},
   "source": [
    "# Concatenating obj and num"
   ]
  },
  {
   "cell_type": "code",
   "execution_count": 79,
   "metadata": {
    "scrolled": true
   },
   "outputs": [
    {
     "data": {
      "text/html": [
       "<div>\n",
       "<style scoped>\n",
       "    .dataframe tbody tr th:only-of-type {\n",
       "        vertical-align: middle;\n",
       "    }\n",
       "\n",
       "    .dataframe tbody tr th {\n",
       "        vertical-align: top;\n",
       "    }\n",
       "\n",
       "    .dataframe thead th {\n",
       "        text-align: right;\n",
       "    }\n",
       "</style>\n",
       "<table border=\"1\" class=\"dataframe\">\n",
       "  <thead>\n",
       "    <tr style=\"text-align: right;\">\n",
       "      <th></th>\n",
       "      <th>Levy</th>\n",
       "      <th>Manufacturer</th>\n",
       "      <th>Category</th>\n",
       "      <th>Leather interior</th>\n",
       "      <th>Fuel type</th>\n",
       "      <th>Engine volume</th>\n",
       "      <th>Gear box type</th>\n",
       "      <th>Drive wheels</th>\n",
       "      <th>Doors</th>\n",
       "      <th>Wheel</th>\n",
       "      <th>Color</th>\n",
       "      <th>Turbo</th>\n",
       "    </tr>\n",
       "    <tr>\n",
       "      <th>ID</th>\n",
       "      <th></th>\n",
       "      <th></th>\n",
       "      <th></th>\n",
       "      <th></th>\n",
       "      <th></th>\n",
       "      <th></th>\n",
       "      <th></th>\n",
       "      <th></th>\n",
       "      <th></th>\n",
       "      <th></th>\n",
       "      <th></th>\n",
       "      <th></th>\n",
       "    </tr>\n",
       "  </thead>\n",
       "  <tbody>\n",
       "    <tr>\n",
       "      <th>45654403</th>\n",
       "      <td>0.707867</td>\n",
       "      <td>20.052594</td>\n",
       "      <td>2.376051</td>\n",
       "      <td>1</td>\n",
       "      <td>1.084548</td>\n",
       "      <td>3.5</td>\n",
       "      <td>1.600473</td>\n",
       "      <td>1.958030</td>\n",
       "      <td>1.719292</td>\n",
       "      <td>2</td>\n",
       "      <td>1.512203</td>\n",
       "      <td>0</td>\n",
       "    </tr>\n",
       "    <tr>\n",
       "      <th>44731507</th>\n",
       "      <td>1.142824</td>\n",
       "      <td>14.894874</td>\n",
       "      <td>2.376051</td>\n",
       "      <td>0</td>\n",
       "      <td>1.739115</td>\n",
       "      <td>3.0</td>\n",
       "      <td>2.631358</td>\n",
       "      <td>1.958030</td>\n",
       "      <td>1.719292</td>\n",
       "      <td>2</td>\n",
       "      <td>1.891518</td>\n",
       "      <td>0</td>\n",
       "    </tr>\n",
       "    <tr>\n",
       "      <th>45774419</th>\n",
       "      <td>2.150699</td>\n",
       "      <td>14.162074</td>\n",
       "      <td>1.135461</td>\n",
       "      <td>0</td>\n",
       "      <td>1.739115</td>\n",
       "      <td>1.3</td>\n",
       "      <td>1.477050</td>\n",
       "      <td>1.850303</td>\n",
       "      <td>1.719292</td>\n",
       "      <td>1</td>\n",
       "      <td>1.891518</td>\n",
       "      <td>0</td>\n",
       "    </tr>\n",
       "    <tr>\n",
       "      <th>45769185</th>\n",
       "      <td>1.181298</td>\n",
       "      <td>15.411850</td>\n",
       "      <td>2.376051</td>\n",
       "      <td>1</td>\n",
       "      <td>1.084548</td>\n",
       "      <td>2.5</td>\n",
       "      <td>1.600473</td>\n",
       "      <td>1.958030</td>\n",
       "      <td>1.719292</td>\n",
       "      <td>2</td>\n",
       "      <td>1.814196</td>\n",
       "      <td>0</td>\n",
       "    </tr>\n",
       "    <tr>\n",
       "      <th>45809263</th>\n",
       "      <td>1.956810</td>\n",
       "      <td>14.162074</td>\n",
       "      <td>1.135461</td>\n",
       "      <td>1</td>\n",
       "      <td>1.739115</td>\n",
       "      <td>1.3</td>\n",
       "      <td>1.600473</td>\n",
       "      <td>1.850303</td>\n",
       "      <td>1.719292</td>\n",
       "      <td>2</td>\n",
       "      <td>1.512203</td>\n",
       "      <td>0</td>\n",
       "    </tr>\n",
       "  </tbody>\n",
       "</table>\n",
       "</div>"
      ],
      "text/plain": [
       "              Levy  Manufacturer  Category  Leather interior  Fuel type  \\\n",
       "ID                                                                        \n",
       "45654403  0.707867     20.052594  2.376051                 1   1.084548   \n",
       "44731507  1.142824     14.894874  2.376051                 0   1.739115   \n",
       "45774419  2.150699     14.162074  1.135461                 0   1.739115   \n",
       "45769185  1.181298     15.411850  2.376051                 1   1.084548   \n",
       "45809263  1.956810     14.162074  1.135461                 1   1.739115   \n",
       "\n",
       "          Engine volume  Gear box type  Drive wheels     Doors  Wheel  \\\n",
       "ID                                                                      \n",
       "45654403            3.5       1.600473      1.958030  1.719292      2   \n",
       "44731507            3.0       2.631358      1.958030  1.719292      2   \n",
       "45774419            1.3       1.477050      1.850303  1.719292      1   \n",
       "45769185            2.5       1.600473      1.958030  1.719292      2   \n",
       "45809263            1.3       1.600473      1.850303  1.719292      2   \n",
       "\n",
       "             Color  Turbo  \n",
       "ID                         \n",
       "45654403  1.512203      0  \n",
       "44731507  1.891518      0  \n",
       "45774419  1.891518      0  \n",
       "45769185  1.814196      0  \n",
       "45809263  1.512203      0  "
      ]
     },
     "execution_count": 79,
     "metadata": {},
     "output_type": "execute_result"
    }
   ],
   "source": [
    "df_obj.head()"
   ]
  },
  {
   "cell_type": "code",
   "execution_count": 80,
   "metadata": {},
   "outputs": [
    {
     "data": {
      "text/html": [
       "<div>\n",
       "<style scoped>\n",
       "    .dataframe tbody tr th:only-of-type {\n",
       "        vertical-align: middle;\n",
       "    }\n",
       "\n",
       "    .dataframe tbody tr th {\n",
       "        vertical-align: top;\n",
       "    }\n",
       "\n",
       "    .dataframe thead th {\n",
       "        text-align: right;\n",
       "    }\n",
       "</style>\n",
       "<table border=\"1\" class=\"dataframe\">\n",
       "  <thead>\n",
       "    <tr style=\"text-align: right;\">\n",
       "      <th></th>\n",
       "      <th>Prod. year</th>\n",
       "      <th>Mileage</th>\n",
       "      <th>Cylinders</th>\n",
       "      <th>Airbags</th>\n",
       "    </tr>\n",
       "    <tr>\n",
       "      <th>ID</th>\n",
       "      <th></th>\n",
       "      <th></th>\n",
       "      <th></th>\n",
       "      <th></th>\n",
       "    </tr>\n",
       "  </thead>\n",
       "  <tbody>\n",
       "    <tr>\n",
       "      <th>45654403</th>\n",
       "      <td>2010</td>\n",
       "      <td>186005</td>\n",
       "      <td>6.0</td>\n",
       "      <td>12</td>\n",
       "    </tr>\n",
       "    <tr>\n",
       "      <th>44731507</th>\n",
       "      <td>2011</td>\n",
       "      <td>192000</td>\n",
       "      <td>6.0</td>\n",
       "      <td>8</td>\n",
       "    </tr>\n",
       "    <tr>\n",
       "      <th>45774419</th>\n",
       "      <td>2006</td>\n",
       "      <td>200000</td>\n",
       "      <td>4.0</td>\n",
       "      <td>2</td>\n",
       "    </tr>\n",
       "    <tr>\n",
       "      <th>45769185</th>\n",
       "      <td>2011</td>\n",
       "      <td>168966</td>\n",
       "      <td>4.0</td>\n",
       "      <td>0</td>\n",
       "    </tr>\n",
       "    <tr>\n",
       "      <th>45809263</th>\n",
       "      <td>2014</td>\n",
       "      <td>91901</td>\n",
       "      <td>4.0</td>\n",
       "      <td>4</td>\n",
       "    </tr>\n",
       "  </tbody>\n",
       "</table>\n",
       "</div>"
      ],
      "text/plain": [
       "          Prod. year  Mileage  Cylinders  Airbags\n",
       "ID                                               \n",
       "45654403        2010   186005        6.0       12\n",
       "44731507        2011   192000        6.0        8\n",
       "45774419        2006   200000        4.0        2\n",
       "45769185        2011   168966        4.0        0\n",
       "45809263        2014    91901        4.0        4"
      ]
     },
     "execution_count": 80,
     "metadata": {},
     "output_type": "execute_result"
    }
   ],
   "source": [
    "X.head()"
   ]
  },
  {
   "cell_type": "code",
   "execution_count": 81,
   "metadata": {},
   "outputs": [
    {
     "data": {
      "text/plain": [
       "((18924, 4), (18924, 12))"
      ]
     },
     "execution_count": 81,
     "metadata": {},
     "output_type": "execute_result"
    }
   ],
   "source": [
    "X.shape, df_obj.shape"
   ]
  },
  {
   "cell_type": "code",
   "execution_count": 82,
   "metadata": {},
   "outputs": [],
   "source": [
    "X = pd.concat([df_obj,X], axis=1, join=\"inner\") "
   ]
  },
  {
   "cell_type": "markdown",
   "metadata": {},
   "source": [
    "Standard scaling:"
   ]
  },
  {
   "cell_type": "code",
   "execution_count": 83,
   "metadata": {},
   "outputs": [],
   "source": [
    "Means = X.mean()\n",
    "Std = X.std()"
   ]
  },
  {
   "cell_type": "code",
   "execution_count": 84,
   "metadata": {},
   "outputs": [],
   "source": [
    "def transform(X):\n",
    "    return (X - Means)/Std"
   ]
  },
  {
   "cell_type": "code",
   "execution_count": 85,
   "metadata": {},
   "outputs": [],
   "source": [
    "X = transform(X)"
   ]
  },
  {
   "cell_type": "code",
   "execution_count": 86,
   "metadata": {
    "scrolled": true
   },
   "outputs": [],
   "source": [
    "X.sort_index(axis=1, inplace=True)"
   ]
  },
  {
   "cell_type": "code",
   "execution_count": 87,
   "metadata": {
    "scrolled": false
   },
   "outputs": [
    {
     "data": {
      "text/html": [
       "<div>\n",
       "<style scoped>\n",
       "    .dataframe tbody tr th:only-of-type {\n",
       "        vertical-align: middle;\n",
       "    }\n",
       "\n",
       "    .dataframe tbody tr th {\n",
       "        vertical-align: top;\n",
       "    }\n",
       "\n",
       "    .dataframe thead th {\n",
       "        text-align: right;\n",
       "    }\n",
       "</style>\n",
       "<table border=\"1\" class=\"dataframe\">\n",
       "  <thead>\n",
       "    <tr style=\"text-align: right;\">\n",
       "      <th></th>\n",
       "      <th>Airbags</th>\n",
       "      <th>Category</th>\n",
       "      <th>Color</th>\n",
       "      <th>Cylinders</th>\n",
       "      <th>Doors</th>\n",
       "      <th>Drive wheels</th>\n",
       "      <th>Engine volume</th>\n",
       "      <th>Fuel type</th>\n",
       "      <th>Gear box type</th>\n",
       "      <th>Leather interior</th>\n",
       "      <th>Levy</th>\n",
       "      <th>Manufacturer</th>\n",
       "      <th>Mileage</th>\n",
       "      <th>Prod. year</th>\n",
       "      <th>Turbo</th>\n",
       "      <th>Wheel</th>\n",
       "    </tr>\n",
       "    <tr>\n",
       "      <th>ID</th>\n",
       "      <th></th>\n",
       "      <th></th>\n",
       "      <th></th>\n",
       "      <th></th>\n",
       "      <th></th>\n",
       "      <th></th>\n",
       "      <th></th>\n",
       "      <th></th>\n",
       "      <th></th>\n",
       "      <th></th>\n",
       "      <th></th>\n",
       "      <th></th>\n",
       "      <th></th>\n",
       "      <th></th>\n",
       "      <th></th>\n",
       "      <th></th>\n",
       "    </tr>\n",
       "  </thead>\n",
       "  <tbody>\n",
       "    <tr>\n",
       "      <th>45654403</th>\n",
       "      <td>1.256644</td>\n",
       "      <td>0.406034</td>\n",
       "      <td>-0.720021</td>\n",
       "      <td>1.182934</td>\n",
       "      <td>-0.210178</td>\n",
       "      <td>1.562017</td>\n",
       "      <td>1.360256</td>\n",
       "      <td>-1.129302</td>\n",
       "      <td>-0.576407</td>\n",
       "      <td>0.614960</td>\n",
       "      <td>-1.180788</td>\n",
       "      <td>0.126280</td>\n",
       "      <td>-0.028060</td>\n",
       "      <td>-0.161362</td>\n",
       "      <td>-0.333285</td>\n",
       "      <td>0.288378</td>\n",
       "    </tr>\n",
       "    <tr>\n",
       "      <th>44731507</th>\n",
       "      <td>0.331216</td>\n",
       "      <td>0.406034</td>\n",
       "      <td>0.068098</td>\n",
       "      <td>1.182934</td>\n",
       "      <td>-0.210178</td>\n",
       "      <td>1.562017</td>\n",
       "      <td>0.790515</td>\n",
       "      <td>-0.174499</td>\n",
       "      <td>1.724319</td>\n",
       "      <td>-1.626037</td>\n",
       "      <td>-0.734526</td>\n",
       "      <td>-0.318257</td>\n",
       "      <td>-0.027937</td>\n",
       "      <td>0.015137</td>\n",
       "      <td>-0.333285</td>\n",
       "      <td>0.288378</td>\n",
       "    </tr>\n",
       "    <tr>\n",
       "      <th>45774419</th>\n",
       "      <td>-1.056927</td>\n",
       "      <td>-0.567704</td>\n",
       "      <td>0.068098</td>\n",
       "      <td>-0.483423</td>\n",
       "      <td>-0.210178</td>\n",
       "      <td>-0.132797</td>\n",
       "      <td>-1.146606</td>\n",
       "      <td>-0.174499</td>\n",
       "      <td>-0.851863</td>\n",
       "      <td>-1.626037</td>\n",
       "      <td>0.299544</td>\n",
       "      <td>-0.381417</td>\n",
       "      <td>-0.027773</td>\n",
       "      <td>-0.867359</td>\n",
       "      <td>-0.333285</td>\n",
       "      <td>-3.467485</td>\n",
       "    </tr>\n",
       "    <tr>\n",
       "      <th>45769185</th>\n",
       "      <td>-1.519641</td>\n",
       "      <td>0.406034</td>\n",
       "      <td>-0.092558</td>\n",
       "      <td>-0.483423</td>\n",
       "      <td>-0.210178</td>\n",
       "      <td>1.562017</td>\n",
       "      <td>0.220773</td>\n",
       "      <td>-1.129302</td>\n",
       "      <td>-0.576407</td>\n",
       "      <td>0.614960</td>\n",
       "      <td>-0.695052</td>\n",
       "      <td>-0.273700</td>\n",
       "      <td>-0.028409</td>\n",
       "      <td>0.015137</td>\n",
       "      <td>-0.333285</td>\n",
       "      <td>0.288378</td>\n",
       "    </tr>\n",
       "    <tr>\n",
       "      <th>45809263</th>\n",
       "      <td>-0.594213</td>\n",
       "      <td>-0.567704</td>\n",
       "      <td>-0.720021</td>\n",
       "      <td>-0.483423</td>\n",
       "      <td>-0.210178</td>\n",
       "      <td>-0.132797</td>\n",
       "      <td>-1.146606</td>\n",
       "      <td>-0.174499</td>\n",
       "      <td>-0.576407</td>\n",
       "      <td>0.614960</td>\n",
       "      <td>0.100615</td>\n",
       "      <td>-0.381417</td>\n",
       "      <td>-0.029988</td>\n",
       "      <td>0.544635</td>\n",
       "      <td>-0.333285</td>\n",
       "      <td>0.288378</td>\n",
       "    </tr>\n",
       "  </tbody>\n",
       "</table>\n",
       "</div>"
      ],
      "text/plain": [
       "           Airbags  Category     Color  Cylinders     Doors  Drive wheels  \\\n",
       "ID                                                                          \n",
       "45654403  1.256644  0.406034 -0.720021   1.182934 -0.210178      1.562017   \n",
       "44731507  0.331216  0.406034  0.068098   1.182934 -0.210178      1.562017   \n",
       "45774419 -1.056927 -0.567704  0.068098  -0.483423 -0.210178     -0.132797   \n",
       "45769185 -1.519641  0.406034 -0.092558  -0.483423 -0.210178      1.562017   \n",
       "45809263 -0.594213 -0.567704 -0.720021  -0.483423 -0.210178     -0.132797   \n",
       "\n",
       "          Engine volume  Fuel type  Gear box type  Leather interior      Levy  \\\n",
       "ID                                                                              \n",
       "45654403       1.360256  -1.129302      -0.576407          0.614960 -1.180788   \n",
       "44731507       0.790515  -0.174499       1.724319         -1.626037 -0.734526   \n",
       "45774419      -1.146606  -0.174499      -0.851863         -1.626037  0.299544   \n",
       "45769185       0.220773  -1.129302      -0.576407          0.614960 -0.695052   \n",
       "45809263      -1.146606  -0.174499      -0.576407          0.614960  0.100615   \n",
       "\n",
       "          Manufacturer   Mileage  Prod. year     Turbo     Wheel  \n",
       "ID                                                                \n",
       "45654403      0.126280 -0.028060   -0.161362 -0.333285  0.288378  \n",
       "44731507     -0.318257 -0.027937    0.015137 -0.333285  0.288378  \n",
       "45774419     -0.381417 -0.027773   -0.867359 -0.333285 -3.467485  \n",
       "45769185     -0.273700 -0.028409    0.015137 -0.333285  0.288378  \n",
       "45809263     -0.381417 -0.029988    0.544635 -0.333285  0.288378  "
      ]
     },
     "execution_count": 87,
     "metadata": {},
     "output_type": "execute_result"
    }
   ],
   "source": [
    "X.head()"
   ]
  },
  {
   "cell_type": "markdown",
   "metadata": {},
   "source": [
    "# Training and testing"
   ]
  },
  {
   "cell_type": "code",
   "execution_count": 88,
   "metadata": {},
   "outputs": [],
   "source": [
    "from sklearn.model_selection import train_test_split\n",
    "from sklearn.linear_model import LinearRegression\n",
    "from sklearn.metrics import mean_squared_log_error as msle"
   ]
  },
  {
   "cell_type": "code",
   "execution_count": 89,
   "metadata": {},
   "outputs": [],
   "source": [
    "def transform_test(df):\n",
    "    df['Mileage'] = df['Mileage'].apply(lambda x: int(x[:-2]))\n",
    "    df.set_index('ID', inplace=True)\n",
    "    \n",
    "    obj = df.select_dtypes(include='object').copy()\n",
    "    obj.Levy = obj.Levy.map(map_levy)\n",
    "    obj.Manufacturer = obj.Manufacturer.map(map_manufac)\n",
    "    obj.Category = obj.Category.map(map_category)\n",
    "    obj['Leather interior'] = obj['Leather interior'].map(map_leather)\n",
    "    obj['Fuel type'] = obj['Fuel type'].map(map_fuel)\n",
    "    obj['Turbo'] = return_turbo(obj['Engine volume'])\n",
    "    obj['Engine volume'] = obj['Engine volume'].apply(lambda x: float(x.split()[0]))\n",
    "    obj['Gear box type'] = obj['Gear box type'].map(map_gear)\n",
    "    obj['Drive wheels'] = obj['Drive wheels'].map(map_drive)\n",
    "    obj['Doors'] = obj['Doors'].map(map_doors)\n",
    "    obj['Wheel'] = obj['Wheel'].map(map_wheel)\n",
    "    obj['Color'] = obj['Color'].map(map_color)\n",
    "    obj.drop(columns=['Model'], inplace=True)\n",
    "    \n",
    "    num = df.select_dtypes(exclude='object').copy()\n",
    "    X = pd.concat([num,obj], axis=1)\n",
    "    \n",
    "    return transform(X)"
   ]
  },
  {
   "cell_type": "code",
   "execution_count": 90,
   "metadata": {},
   "outputs": [],
   "source": [
    "def to_X_test(df):\n",
    "    X_mod = transform_test(df.copy())\n",
    "    X_mod.drop(columns=['Price'], inplace=True)\n",
    "    X_mod.fillna(X_mod.median(), inplace=True)\n",
    "    X_mod.sort_index(axis=1, inplace=True)\n",
    "    \n",
    "    return X_mod"
   ]
  },
  {
   "cell_type": "code",
   "execution_count": 91,
   "metadata": {},
   "outputs": [],
   "source": [
    "def pred_error(model, X, y):\n",
    "    y_pred = np.exp(model.predict(X))\n",
    "    return np.sqrt(msle(y,y_pred))"
   ]
  },
  {
   "cell_type": "markdown",
   "metadata": {},
   "source": [
    "## Linear Regression"
   ]
  },
  {
   "cell_type": "code",
   "execution_count": 92,
   "metadata": {},
   "outputs": [],
   "source": [
    "X_train, X_val, y_train, y_val = train_test_split(X, y, test_size=0.10, random_state=42, shuffle=True)"
   ]
  },
  {
   "cell_type": "code",
   "execution_count": 93,
   "metadata": {
    "scrolled": true
   },
   "outputs": [
    {
     "data": {
      "text/plain": [
       "((17031, 16), (17031, 1))"
      ]
     },
     "execution_count": 93,
     "metadata": {},
     "output_type": "execute_result"
    }
   ],
   "source": [
    "X_train.shape, y_train.shape"
   ]
  },
  {
   "cell_type": "code",
   "execution_count": 94,
   "metadata": {},
   "outputs": [],
   "source": [
    "model = LinearRegression().fit(X_train, np.log(y_train))"
   ]
  },
  {
   "cell_type": "code",
   "execution_count": 95,
   "metadata": {
    "scrolled": true
   },
   "outputs": [
    {
     "data": {
      "text/plain": [
       "(1.425838456098527, 1.4466133647483754)"
      ]
     },
     "execution_count": 95,
     "metadata": {},
     "output_type": "execute_result"
    }
   ],
   "source": [
    "pred_error(model, X_train, y_train), pred_error(model, X_val, y_val)"
   ]
  },
  {
   "cell_type": "markdown",
   "metadata": {},
   "source": [
    "### Making Predictions on the test set"
   ]
  },
  {
   "cell_type": "code",
   "execution_count": 96,
   "metadata": {},
   "outputs": [],
   "source": [
    "df_test = pd.read_csv(test_url)"
   ]
  },
  {
   "cell_type": "code",
   "execution_count": 97,
   "metadata": {},
   "outputs": [
    {
     "data": {
      "text/plain": [
       "(8245, 18)"
      ]
     },
     "execution_count": 97,
     "metadata": {},
     "output_type": "execute_result"
    }
   ],
   "source": [
    "df_test.shape"
   ]
  },
  {
   "cell_type": "code",
   "execution_count": 98,
   "metadata": {
    "scrolled": false
   },
   "outputs": [
    {
     "data": {
      "text/html": [
       "<div>\n",
       "<style scoped>\n",
       "    .dataframe tbody tr th:only-of-type {\n",
       "        vertical-align: middle;\n",
       "    }\n",
       "\n",
       "    .dataframe tbody tr th {\n",
       "        vertical-align: top;\n",
       "    }\n",
       "\n",
       "    .dataframe thead th {\n",
       "        text-align: right;\n",
       "    }\n",
       "</style>\n",
       "<table border=\"1\" class=\"dataframe\">\n",
       "  <thead>\n",
       "    <tr style=\"text-align: right;\">\n",
       "      <th></th>\n",
       "      <th>ID</th>\n",
       "      <th>Levy</th>\n",
       "      <th>Manufacturer</th>\n",
       "      <th>Model</th>\n",
       "      <th>Prod. year</th>\n",
       "      <th>Category</th>\n",
       "      <th>Leather interior</th>\n",
       "      <th>Fuel type</th>\n",
       "      <th>Engine volume</th>\n",
       "      <th>Mileage</th>\n",
       "      <th>Cylinders</th>\n",
       "      <th>Gear box type</th>\n",
       "      <th>Drive wheels</th>\n",
       "      <th>Doors</th>\n",
       "      <th>Wheel</th>\n",
       "      <th>Color</th>\n",
       "      <th>Airbags</th>\n",
       "      <th>Price</th>\n",
       "    </tr>\n",
       "  </thead>\n",
       "  <tbody>\n",
       "    <tr>\n",
       "      <th>0</th>\n",
       "      <td>44020629</td>\n",
       "      <td>-</td>\n",
       "      <td>VOLKSWAGEN</td>\n",
       "      <td>Golf</td>\n",
       "      <td>2012</td>\n",
       "      <td>Hatchback</td>\n",
       "      <td>No</td>\n",
       "      <td>Diesel</td>\n",
       "      <td>2.0 Turbo</td>\n",
       "      <td>0 km</td>\n",
       "      <td>4</td>\n",
       "      <td>Manual</td>\n",
       "      <td>Front</td>\n",
       "      <td>02-Mar</td>\n",
       "      <td>Left wheel</td>\n",
       "      <td>Grey</td>\n",
       "      <td>10</td>\n",
       "      <td>NaN</td>\n",
       "    </tr>\n",
       "    <tr>\n",
       "      <th>1</th>\n",
       "      <td>45784798</td>\n",
       "      <td>-</td>\n",
       "      <td>HYUNDAI</td>\n",
       "      <td>Sonata</td>\n",
       "      <td>2012</td>\n",
       "      <td>Sedan</td>\n",
       "      <td>Yes</td>\n",
       "      <td>Petrol</td>\n",
       "      <td>2.4</td>\n",
       "      <td>26000 km</td>\n",
       "      <td>4</td>\n",
       "      <td>Tiptronic</td>\n",
       "      <td>Front</td>\n",
       "      <td>04-May</td>\n",
       "      <td>Left wheel</td>\n",
       "      <td>Grey</td>\n",
       "      <td>10</td>\n",
       "      <td>NaN</td>\n",
       "    </tr>\n",
       "    <tr>\n",
       "      <th>2</th>\n",
       "      <td>45800257</td>\n",
       "      <td>-</td>\n",
       "      <td>NISSAN</td>\n",
       "      <td>Tiida</td>\n",
       "      <td>2005</td>\n",
       "      <td>Sedan</td>\n",
       "      <td>No</td>\n",
       "      <td>Petrol</td>\n",
       "      <td>1.5</td>\n",
       "      <td>168000 km</td>\n",
       "      <td>4</td>\n",
       "      <td>Automatic</td>\n",
       "      <td>Front</td>\n",
       "      <td>04-May</td>\n",
       "      <td>Right-hand drive</td>\n",
       "      <td>Sky blue</td>\n",
       "      <td>8</td>\n",
       "      <td>NaN</td>\n",
       "    </tr>\n",
       "    <tr>\n",
       "      <th>3</th>\n",
       "      <td>45797981</td>\n",
       "      <td>975</td>\n",
       "      <td>VOLVO</td>\n",
       "      <td>XC90</td>\n",
       "      <td>2012</td>\n",
       "      <td>Jeep</td>\n",
       "      <td>Yes</td>\n",
       "      <td>Petrol</td>\n",
       "      <td>3.2</td>\n",
       "      <td>143000 km</td>\n",
       "      <td>6</td>\n",
       "      <td>Automatic</td>\n",
       "      <td>4x4</td>\n",
       "      <td>04-May</td>\n",
       "      <td>Left wheel</td>\n",
       "      <td>Blue</td>\n",
       "      <td>12</td>\n",
       "      <td>NaN</td>\n",
       "    </tr>\n",
       "    <tr>\n",
       "      <th>4</th>\n",
       "      <td>45814303</td>\n",
       "      <td>-</td>\n",
       "      <td>OPEL</td>\n",
       "      <td>Astra</td>\n",
       "      <td>1993</td>\n",
       "      <td>Hatchback</td>\n",
       "      <td>No</td>\n",
       "      <td>Petrol</td>\n",
       "      <td>1.6</td>\n",
       "      <td>200000 km</td>\n",
       "      <td>4</td>\n",
       "      <td>Manual</td>\n",
       "      <td>Front</td>\n",
       "      <td>04-May</td>\n",
       "      <td>Left wheel</td>\n",
       "      <td>Black</td>\n",
       "      <td>0</td>\n",
       "      <td>NaN</td>\n",
       "    </tr>\n",
       "  </tbody>\n",
       "</table>\n",
       "</div>"
      ],
      "text/plain": [
       "         ID Levy Manufacturer   Model  Prod. year   Category Leather interior  \\\n",
       "0  44020629    -   VOLKSWAGEN    Golf        2012  Hatchback               No   \n",
       "1  45784798    -      HYUNDAI  Sonata        2012      Sedan              Yes   \n",
       "2  45800257    -       NISSAN   Tiida        2005      Sedan               No   \n",
       "3  45797981  975        VOLVO    XC90        2012       Jeep              Yes   \n",
       "4  45814303    -         OPEL   Astra        1993  Hatchback               No   \n",
       "\n",
       "  Fuel type Engine volume    Mileage  Cylinders Gear box type Drive wheels  \\\n",
       "0    Diesel     2.0 Turbo       0 km          4        Manual        Front   \n",
       "1    Petrol           2.4   26000 km          4     Tiptronic        Front   \n",
       "2    Petrol           1.5  168000 km          4     Automatic        Front   \n",
       "3    Petrol           3.2  143000 km          6     Automatic          4x4   \n",
       "4    Petrol           1.6  200000 km          4        Manual        Front   \n",
       "\n",
       "    Doors             Wheel     Color  Airbags  Price  \n",
       "0  02-Mar        Left wheel      Grey       10    NaN  \n",
       "1  04-May        Left wheel      Grey       10    NaN  \n",
       "2  04-May  Right-hand drive  Sky blue        8    NaN  \n",
       "3  04-May        Left wheel      Blue       12    NaN  \n",
       "4  04-May        Left wheel     Black        0    NaN  "
      ]
     },
     "execution_count": 98,
     "metadata": {},
     "output_type": "execute_result"
    }
   ],
   "source": [
    "df_test.head()"
   ]
  },
  {
   "cell_type": "code",
   "execution_count": 99,
   "metadata": {
    "scrolled": true
   },
   "outputs": [
    {
     "data": {
      "text/html": [
       "<div>\n",
       "<style scoped>\n",
       "    .dataframe tbody tr th:only-of-type {\n",
       "        vertical-align: middle;\n",
       "    }\n",
       "\n",
       "    .dataframe tbody tr th {\n",
       "        vertical-align: top;\n",
       "    }\n",
       "\n",
       "    .dataframe thead th {\n",
       "        text-align: right;\n",
       "    }\n",
       "</style>\n",
       "<table border=\"1\" class=\"dataframe\">\n",
       "  <thead>\n",
       "    <tr style=\"text-align: right;\">\n",
       "      <th></th>\n",
       "      <th>Airbags</th>\n",
       "      <th>Category</th>\n",
       "      <th>Color</th>\n",
       "      <th>Cylinders</th>\n",
       "      <th>Doors</th>\n",
       "      <th>Drive wheels</th>\n",
       "      <th>Engine volume</th>\n",
       "      <th>Fuel type</th>\n",
       "      <th>Gear box type</th>\n",
       "      <th>Leather interior</th>\n",
       "      <th>Levy</th>\n",
       "      <th>Manufacturer</th>\n",
       "      <th>Mileage</th>\n",
       "      <th>Prod. year</th>\n",
       "      <th>Turbo</th>\n",
       "      <th>Wheel</th>\n",
       "    </tr>\n",
       "    <tr>\n",
       "      <th>ID</th>\n",
       "      <th></th>\n",
       "      <th></th>\n",
       "      <th></th>\n",
       "      <th></th>\n",
       "      <th></th>\n",
       "      <th></th>\n",
       "      <th></th>\n",
       "      <th></th>\n",
       "      <th></th>\n",
       "      <th></th>\n",
       "      <th></th>\n",
       "      <th></th>\n",
       "      <th></th>\n",
       "      <th></th>\n",
       "      <th></th>\n",
       "      <th></th>\n",
       "    </tr>\n",
       "  </thead>\n",
       "  <tbody>\n",
       "    <tr>\n",
       "      <th>44020629</th>\n",
       "      <td>0.793930</td>\n",
       "      <td>-0.567704</td>\n",
       "      <td>0.136094</td>\n",
       "      <td>-0.483423</td>\n",
       "      <td>4.854044</td>\n",
       "      <td>-0.132797</td>\n",
       "      <td>-0.348968</td>\n",
       "      <td>1.764614</td>\n",
       "      <td>1.624301</td>\n",
       "      <td>-1.626037</td>\n",
       "      <td>0.299544</td>\n",
       "      <td>-0.613290</td>\n",
       "      <td>-0.031871</td>\n",
       "      <td>0.191636</td>\n",
       "      <td>3.000273</td>\n",
       "      <td>0.288378</td>\n",
       "    </tr>\n",
       "    <tr>\n",
       "      <th>45784798</th>\n",
       "      <td>0.793930</td>\n",
       "      <td>-0.344155</td>\n",
       "      <td>0.136094</td>\n",
       "      <td>-0.483423</td>\n",
       "      <td>-0.210178</td>\n",
       "      <td>-0.132797</td>\n",
       "      <td>0.106825</td>\n",
       "      <td>-0.174499</td>\n",
       "      <td>1.724319</td>\n",
       "      <td>0.614960</td>\n",
       "      <td>0.299544</td>\n",
       "      <td>0.320499</td>\n",
       "      <td>-0.031338</td>\n",
       "      <td>0.191636</td>\n",
       "      <td>-0.333285</td>\n",
       "      <td>0.288378</td>\n",
       "    </tr>\n",
       "    <tr>\n",
       "      <th>45800257</th>\n",
       "      <td>0.331216</td>\n",
       "      <td>-0.344155</td>\n",
       "      <td>-0.936737</td>\n",
       "      <td>-0.483423</td>\n",
       "      <td>-0.210178</td>\n",
       "      <td>-0.132797</td>\n",
       "      <td>-0.918710</td>\n",
       "      <td>-0.174499</td>\n",
       "      <td>-0.576407</td>\n",
       "      <td>-1.626037</td>\n",
       "      <td>0.299544</td>\n",
       "      <td>-0.754289</td>\n",
       "      <td>-0.028428</td>\n",
       "      <td>-1.043858</td>\n",
       "      <td>-0.333285</td>\n",
       "      <td>-3.467485</td>\n",
       "    </tr>\n",
       "    <tr>\n",
       "      <th>45797981</th>\n",
       "      <td>1.256644</td>\n",
       "      <td>0.406034</td>\n",
       "      <td>3.208665</td>\n",
       "      <td>1.182934</td>\n",
       "      <td>-0.210178</td>\n",
       "      <td>1.562017</td>\n",
       "      <td>1.018411</td>\n",
       "      <td>-0.174499</td>\n",
       "      <td>-0.576407</td>\n",
       "      <td>0.614960</td>\n",
       "      <td>0.785905</td>\n",
       "      <td>-0.716103</td>\n",
       "      <td>-0.028941</td>\n",
       "      <td>0.191636</td>\n",
       "      <td>-0.333285</td>\n",
       "      <td>0.288378</td>\n",
       "    </tr>\n",
       "    <tr>\n",
       "      <th>45814303</th>\n",
       "      <td>-1.519641</td>\n",
       "      <td>-0.567704</td>\n",
       "      <td>0.068098</td>\n",
       "      <td>-0.483423</td>\n",
       "      <td>-0.210178</td>\n",
       "      <td>-0.132797</td>\n",
       "      <td>-0.804761</td>\n",
       "      <td>-0.174499</td>\n",
       "      <td>1.624301</td>\n",
       "      <td>-1.626037</td>\n",
       "      <td>0.299544</td>\n",
       "      <td>4.730684</td>\n",
       "      <td>-0.027773</td>\n",
       "      <td>-3.161848</td>\n",
       "      <td>-0.333285</td>\n",
       "      <td>0.288378</td>\n",
       "    </tr>\n",
       "  </tbody>\n",
       "</table>\n",
       "</div>"
      ],
      "text/plain": [
       "           Airbags  Category     Color  Cylinders     Doors  Drive wheels  \\\n",
       "ID                                                                          \n",
       "44020629  0.793930 -0.567704  0.136094  -0.483423  4.854044     -0.132797   \n",
       "45784798  0.793930 -0.344155  0.136094  -0.483423 -0.210178     -0.132797   \n",
       "45800257  0.331216 -0.344155 -0.936737  -0.483423 -0.210178     -0.132797   \n",
       "45797981  1.256644  0.406034  3.208665   1.182934 -0.210178      1.562017   \n",
       "45814303 -1.519641 -0.567704  0.068098  -0.483423 -0.210178     -0.132797   \n",
       "\n",
       "          Engine volume  Fuel type  Gear box type  Leather interior      Levy  \\\n",
       "ID                                                                              \n",
       "44020629      -0.348968   1.764614       1.624301         -1.626037  0.299544   \n",
       "45784798       0.106825  -0.174499       1.724319          0.614960  0.299544   \n",
       "45800257      -0.918710  -0.174499      -0.576407         -1.626037  0.299544   \n",
       "45797981       1.018411  -0.174499      -0.576407          0.614960  0.785905   \n",
       "45814303      -0.804761  -0.174499       1.624301         -1.626037  0.299544   \n",
       "\n",
       "          Manufacturer   Mileage  Prod. year     Turbo     Wheel  \n",
       "ID                                                                \n",
       "44020629     -0.613290 -0.031871    0.191636  3.000273  0.288378  \n",
       "45784798      0.320499 -0.031338    0.191636 -0.333285  0.288378  \n",
       "45800257     -0.754289 -0.028428   -1.043858 -0.333285 -3.467485  \n",
       "45797981     -0.716103 -0.028941    0.191636 -0.333285  0.288378  \n",
       "45814303      4.730684 -0.027773   -3.161848 -0.333285  0.288378  "
      ]
     },
     "execution_count": 99,
     "metadata": {},
     "output_type": "execute_result"
    }
   ],
   "source": [
    "X_mod = to_X_test(df_test)\n",
    "X_mod.head()"
   ]
  },
  {
   "cell_type": "code",
   "execution_count": 100,
   "metadata": {},
   "outputs": [],
   "source": [
    "y_pred = np.exp(model.predict(X_mod))"
   ]
  },
  {
   "cell_type": "code",
   "execution_count": 101,
   "metadata": {
    "scrolled": true
   },
   "outputs": [
    {
     "data": {
      "text/html": [
       "<div>\n",
       "<style scoped>\n",
       "    .dataframe tbody tr th:only-of-type {\n",
       "        vertical-align: middle;\n",
       "    }\n",
       "\n",
       "    .dataframe tbody tr th {\n",
       "        vertical-align: top;\n",
       "    }\n",
       "\n",
       "    .dataframe thead th {\n",
       "        text-align: right;\n",
       "    }\n",
       "</style>\n",
       "<table border=\"1\" class=\"dataframe\">\n",
       "  <thead>\n",
       "    <tr style=\"text-align: right;\">\n",
       "      <th></th>\n",
       "      <th>Price</th>\n",
       "    </tr>\n",
       "  </thead>\n",
       "  <tbody>\n",
       "    <tr>\n",
       "      <th>0</th>\n",
       "      <td>35373.334144</td>\n",
       "    </tr>\n",
       "    <tr>\n",
       "      <th>1</th>\n",
       "      <td>13775.561982</td>\n",
       "    </tr>\n",
       "    <tr>\n",
       "      <th>2</th>\n",
       "      <td>4205.980294</td>\n",
       "    </tr>\n",
       "    <tr>\n",
       "      <th>3</th>\n",
       "      <td>5379.110861</td>\n",
       "    </tr>\n",
       "    <tr>\n",
       "      <th>4</th>\n",
       "      <td>7107.607719</td>\n",
       "    </tr>\n",
       "  </tbody>\n",
       "</table>\n",
       "</div>"
      ],
      "text/plain": [
       "          Price\n",
       "0  35373.334144\n",
       "1  13775.561982\n",
       "2   4205.980294\n",
       "3   5379.110861\n",
       "4   7107.607719"
      ]
     },
     "execution_count": 101,
     "metadata": {},
     "output_type": "execute_result"
    }
   ],
   "source": [
    "submission = pd.DataFrame({'Price': [x[0] for x in y_pred]})\n",
    "submission.head()"
   ]
  },
  {
   "cell_type": "code",
   "execution_count": 102,
   "metadata": {},
   "outputs": [],
   "source": [
    "submission.to_csv('my_submission_file.csv', index=False)"
   ]
  },
  {
   "cell_type": "code",
   "execution_count": null,
   "metadata": {},
   "outputs": [],
   "source": []
  },
  {
   "cell_type": "code",
   "execution_count": null,
   "metadata": {},
   "outputs": [],
   "source": []
  },
  {
   "cell_type": "markdown",
   "metadata": {},
   "source": [
    "## Ridge Regression"
   ]
  },
  {
   "cell_type": "code",
   "execution_count": 103,
   "metadata": {},
   "outputs": [],
   "source": [
    "from sklearn.linear_model import Ridge"
   ]
  },
  {
   "cell_type": "code",
   "execution_count": 104,
   "metadata": {},
   "outputs": [],
   "source": [
    "X_train, X_val, y_train, y_val = train_test_split(X, y, test_size=0.15, random_state=42, shuffle=True)"
   ]
  },
  {
   "cell_type": "code",
   "execution_count": 105,
   "metadata": {},
   "outputs": [],
   "source": [
    "rr = Ridge(alpha=5e-1) "
   ]
  },
  {
   "cell_type": "code",
   "execution_count": 106,
   "metadata": {},
   "outputs": [],
   "source": [
    "model = rr.fit(X_train, np.log(y_train))"
   ]
  },
  {
   "cell_type": "code",
   "execution_count": 107,
   "metadata": {
    "scrolled": false
   },
   "outputs": [
    {
     "data": {
      "text/plain": [
       "(1.4259372931487624, 1.4397215300489898)"
      ]
     },
     "execution_count": 107,
     "metadata": {},
     "output_type": "execute_result"
    }
   ],
   "source": [
    "pred_error(model, X_train, y_train), pred_error(model, X_val, y_val)"
   ]
  },
  {
   "cell_type": "markdown",
   "metadata": {},
   "source": [
    "### Making predictions on test set"
   ]
  },
  {
   "cell_type": "code",
   "execution_count": 108,
   "metadata": {
    "scrolled": true
   },
   "outputs": [],
   "source": [
    "X_mod = to_X_test(df_test)"
   ]
  },
  {
   "cell_type": "code",
   "execution_count": 109,
   "metadata": {},
   "outputs": [],
   "source": [
    "y_pred = np.exp(model.predict(X_mod))"
   ]
  },
  {
   "cell_type": "code",
   "execution_count": 110,
   "metadata": {
    "scrolled": true
   },
   "outputs": [
    {
     "data": {
      "text/html": [
       "<div>\n",
       "<style scoped>\n",
       "    .dataframe tbody tr th:only-of-type {\n",
       "        vertical-align: middle;\n",
       "    }\n",
       "\n",
       "    .dataframe tbody tr th {\n",
       "        vertical-align: top;\n",
       "    }\n",
       "\n",
       "    .dataframe thead th {\n",
       "        text-align: right;\n",
       "    }\n",
       "</style>\n",
       "<table border=\"1\" class=\"dataframe\">\n",
       "  <thead>\n",
       "    <tr style=\"text-align: right;\">\n",
       "      <th></th>\n",
       "      <th>Price</th>\n",
       "    </tr>\n",
       "  </thead>\n",
       "  <tbody>\n",
       "    <tr>\n",
       "      <th>0</th>\n",
       "      <td>35257.312261</td>\n",
       "    </tr>\n",
       "    <tr>\n",
       "      <th>1</th>\n",
       "      <td>13765.898392</td>\n",
       "    </tr>\n",
       "    <tr>\n",
       "      <th>2</th>\n",
       "      <td>4147.456452</td>\n",
       "    </tr>\n",
       "    <tr>\n",
       "      <th>3</th>\n",
       "      <td>5452.378071</td>\n",
       "    </tr>\n",
       "    <tr>\n",
       "      <th>4</th>\n",
       "      <td>6866.301846</td>\n",
       "    </tr>\n",
       "  </tbody>\n",
       "</table>\n",
       "</div>"
      ],
      "text/plain": [
       "          Price\n",
       "0  35257.312261\n",
       "1  13765.898392\n",
       "2   4147.456452\n",
       "3   5452.378071\n",
       "4   6866.301846"
      ]
     },
     "execution_count": 110,
     "metadata": {},
     "output_type": "execute_result"
    }
   ],
   "source": [
    "submission = pd.DataFrame({'Price': [x[0] for x in y_pred]})\n",
    "submission.head()"
   ]
  },
  {
   "cell_type": "code",
   "execution_count": 111,
   "metadata": {},
   "outputs": [],
   "source": [
    "submission.to_csv('my_submission_file.csv', index=False)"
   ]
  },
  {
   "cell_type": "markdown",
   "metadata": {},
   "source": [
    "## Lasso Regression"
   ]
  },
  {
   "cell_type": "code",
   "execution_count": 112,
   "metadata": {},
   "outputs": [],
   "source": [
    "from sklearn.linear_model import Lasso"
   ]
  },
  {
   "cell_type": "code",
   "execution_count": 113,
   "metadata": {},
   "outputs": [],
   "source": [
    "lasso = Lasso(1e-3)\n",
    "model = lasso.fit(X_train,np.log(y_train))"
   ]
  },
  {
   "cell_type": "code",
   "execution_count": 114,
   "metadata": {
    "scrolled": false
   },
   "outputs": [
    {
     "data": {
      "text/plain": [
       "(1.4259452200239302, 1.4397372413566545)"
      ]
     },
     "execution_count": 114,
     "metadata": {},
     "output_type": "execute_result"
    }
   ],
   "source": [
    "pred_error(model, X_train, y_train), pred_error(model, X_val, y_val)"
   ]
  },
  {
   "cell_type": "code",
   "execution_count": null,
   "metadata": {},
   "outputs": [],
   "source": []
  },
  {
   "cell_type": "code",
   "execution_count": null,
   "metadata": {},
   "outputs": [],
   "source": []
  },
  {
   "cell_type": "code",
   "execution_count": null,
   "metadata": {},
   "outputs": [],
   "source": []
  },
  {
   "cell_type": "markdown",
   "metadata": {},
   "source": [
    "## Polynomial Regression"
   ]
  },
  {
   "cell_type": "code",
   "execution_count": 116,
   "metadata": {
    "scrolled": true
   },
   "outputs": [
    {
     "data": {
      "text/plain": [
       "(18924, 153)"
      ]
     },
     "execution_count": 116,
     "metadata": {},
     "output_type": "execute_result"
    }
   ],
   "source": [
    "poly = PolynomialFeatures(2)\n",
    "X_poly = poly.fit_transform(X)\n",
    "X_poly.shape"
   ]
  },
  {
   "cell_type": "code",
   "execution_count": 117,
   "metadata": {},
   "outputs": [],
   "source": [
    "X_train, X_val, y_train, y_val = train_test_split(X_poly, y, test_size=0.15, random_state=42, shuffle=True)"
   ]
  },
  {
   "cell_type": "code",
   "execution_count": 118,
   "metadata": {},
   "outputs": [],
   "source": [
    "model = LinearRegression().fit(X_train, np.log(y_train))"
   ]
  },
  {
   "cell_type": "code",
   "execution_count": 119,
   "metadata": {
    "scrolled": true
   },
   "outputs": [
    {
     "data": {
      "text/plain": [
       "(1.2467195376898401, 1.915029462881452)"
      ]
     },
     "execution_count": 119,
     "metadata": {},
     "output_type": "execute_result"
    }
   ],
   "source": [
    "pred_error(model, X_train, y_train), pred_error(model, X_val, y_val)"
   ]
  },
  {
   "cell_type": "markdown",
   "metadata": {},
   "source": [
    "### Making Predictions on the test set"
   ]
  },
  {
   "cell_type": "code",
   "execution_count": 120,
   "metadata": {
    "scrolled": false
   },
   "outputs": [
    {
     "data": {
      "text/html": [
       "<div>\n",
       "<style scoped>\n",
       "    .dataframe tbody tr th:only-of-type {\n",
       "        vertical-align: middle;\n",
       "    }\n",
       "\n",
       "    .dataframe tbody tr th {\n",
       "        vertical-align: top;\n",
       "    }\n",
       "\n",
       "    .dataframe thead th {\n",
       "        text-align: right;\n",
       "    }\n",
       "</style>\n",
       "<table border=\"1\" class=\"dataframe\">\n",
       "  <thead>\n",
       "    <tr style=\"text-align: right;\">\n",
       "      <th></th>\n",
       "      <th>Airbags</th>\n",
       "      <th>Category</th>\n",
       "      <th>Color</th>\n",
       "      <th>Cylinders</th>\n",
       "      <th>Doors</th>\n",
       "      <th>Drive wheels</th>\n",
       "      <th>Engine volume</th>\n",
       "      <th>Fuel type</th>\n",
       "      <th>Gear box type</th>\n",
       "      <th>Leather interior</th>\n",
       "      <th>Levy</th>\n",
       "      <th>Manufacturer</th>\n",
       "      <th>Mileage</th>\n",
       "      <th>Prod. year</th>\n",
       "      <th>Turbo</th>\n",
       "      <th>Wheel</th>\n",
       "    </tr>\n",
       "    <tr>\n",
       "      <th>ID</th>\n",
       "      <th></th>\n",
       "      <th></th>\n",
       "      <th></th>\n",
       "      <th></th>\n",
       "      <th></th>\n",
       "      <th></th>\n",
       "      <th></th>\n",
       "      <th></th>\n",
       "      <th></th>\n",
       "      <th></th>\n",
       "      <th></th>\n",
       "      <th></th>\n",
       "      <th></th>\n",
       "      <th></th>\n",
       "      <th></th>\n",
       "      <th></th>\n",
       "    </tr>\n",
       "  </thead>\n",
       "  <tbody>\n",
       "    <tr>\n",
       "      <th>44020629</th>\n",
       "      <td>0.793930</td>\n",
       "      <td>-0.567704</td>\n",
       "      <td>0.136094</td>\n",
       "      <td>-0.483423</td>\n",
       "      <td>4.854044</td>\n",
       "      <td>-0.132797</td>\n",
       "      <td>-0.348968</td>\n",
       "      <td>1.764614</td>\n",
       "      <td>1.624301</td>\n",
       "      <td>-1.626037</td>\n",
       "      <td>0.299544</td>\n",
       "      <td>-0.613290</td>\n",
       "      <td>-0.031871</td>\n",
       "      <td>0.191636</td>\n",
       "      <td>3.000273</td>\n",
       "      <td>0.288378</td>\n",
       "    </tr>\n",
       "    <tr>\n",
       "      <th>45784798</th>\n",
       "      <td>0.793930</td>\n",
       "      <td>-0.344155</td>\n",
       "      <td>0.136094</td>\n",
       "      <td>-0.483423</td>\n",
       "      <td>-0.210178</td>\n",
       "      <td>-0.132797</td>\n",
       "      <td>0.106825</td>\n",
       "      <td>-0.174499</td>\n",
       "      <td>1.724319</td>\n",
       "      <td>0.614960</td>\n",
       "      <td>0.299544</td>\n",
       "      <td>0.320499</td>\n",
       "      <td>-0.031338</td>\n",
       "      <td>0.191636</td>\n",
       "      <td>-0.333285</td>\n",
       "      <td>0.288378</td>\n",
       "    </tr>\n",
       "    <tr>\n",
       "      <th>45800257</th>\n",
       "      <td>0.331216</td>\n",
       "      <td>-0.344155</td>\n",
       "      <td>-0.936737</td>\n",
       "      <td>-0.483423</td>\n",
       "      <td>-0.210178</td>\n",
       "      <td>-0.132797</td>\n",
       "      <td>-0.918710</td>\n",
       "      <td>-0.174499</td>\n",
       "      <td>-0.576407</td>\n",
       "      <td>-1.626037</td>\n",
       "      <td>0.299544</td>\n",
       "      <td>-0.754289</td>\n",
       "      <td>-0.028428</td>\n",
       "      <td>-1.043858</td>\n",
       "      <td>-0.333285</td>\n",
       "      <td>-3.467485</td>\n",
       "    </tr>\n",
       "    <tr>\n",
       "      <th>45797981</th>\n",
       "      <td>1.256644</td>\n",
       "      <td>0.406034</td>\n",
       "      <td>3.208665</td>\n",
       "      <td>1.182934</td>\n",
       "      <td>-0.210178</td>\n",
       "      <td>1.562017</td>\n",
       "      <td>1.018411</td>\n",
       "      <td>-0.174499</td>\n",
       "      <td>-0.576407</td>\n",
       "      <td>0.614960</td>\n",
       "      <td>0.785905</td>\n",
       "      <td>-0.716103</td>\n",
       "      <td>-0.028941</td>\n",
       "      <td>0.191636</td>\n",
       "      <td>-0.333285</td>\n",
       "      <td>0.288378</td>\n",
       "    </tr>\n",
       "    <tr>\n",
       "      <th>45814303</th>\n",
       "      <td>-1.519641</td>\n",
       "      <td>-0.567704</td>\n",
       "      <td>0.068098</td>\n",
       "      <td>-0.483423</td>\n",
       "      <td>-0.210178</td>\n",
       "      <td>-0.132797</td>\n",
       "      <td>-0.804761</td>\n",
       "      <td>-0.174499</td>\n",
       "      <td>1.624301</td>\n",
       "      <td>-1.626037</td>\n",
       "      <td>0.299544</td>\n",
       "      <td>4.730684</td>\n",
       "      <td>-0.027773</td>\n",
       "      <td>-3.161848</td>\n",
       "      <td>-0.333285</td>\n",
       "      <td>0.288378</td>\n",
       "    </tr>\n",
       "  </tbody>\n",
       "</table>\n",
       "</div>"
      ],
      "text/plain": [
       "           Airbags  Category     Color  Cylinders     Doors  Drive wheels  \\\n",
       "ID                                                                          \n",
       "44020629  0.793930 -0.567704  0.136094  -0.483423  4.854044     -0.132797   \n",
       "45784798  0.793930 -0.344155  0.136094  -0.483423 -0.210178     -0.132797   \n",
       "45800257  0.331216 -0.344155 -0.936737  -0.483423 -0.210178     -0.132797   \n",
       "45797981  1.256644  0.406034  3.208665   1.182934 -0.210178      1.562017   \n",
       "45814303 -1.519641 -0.567704  0.068098  -0.483423 -0.210178     -0.132797   \n",
       "\n",
       "          Engine volume  Fuel type  Gear box type  Leather interior      Levy  \\\n",
       "ID                                                                              \n",
       "44020629      -0.348968   1.764614       1.624301         -1.626037  0.299544   \n",
       "45784798       0.106825  -0.174499       1.724319          0.614960  0.299544   \n",
       "45800257      -0.918710  -0.174499      -0.576407         -1.626037  0.299544   \n",
       "45797981       1.018411  -0.174499      -0.576407          0.614960  0.785905   \n",
       "45814303      -0.804761  -0.174499       1.624301         -1.626037  0.299544   \n",
       "\n",
       "          Manufacturer   Mileage  Prod. year     Turbo     Wheel  \n",
       "ID                                                                \n",
       "44020629     -0.613290 -0.031871    0.191636  3.000273  0.288378  \n",
       "45784798      0.320499 -0.031338    0.191636 -0.333285  0.288378  \n",
       "45800257     -0.754289 -0.028428   -1.043858 -0.333285 -3.467485  \n",
       "45797981     -0.716103 -0.028941    0.191636 -0.333285  0.288378  \n",
       "45814303      4.730684 -0.027773   -3.161848 -0.333285  0.288378  "
      ]
     },
     "execution_count": 120,
     "metadata": {},
     "output_type": "execute_result"
    }
   ],
   "source": [
    "X_mod = to_X_test(df_test)\n",
    "X_mod.head()"
   ]
  },
  {
   "cell_type": "code",
   "execution_count": 121,
   "metadata": {},
   "outputs": [],
   "source": [
    "X_test = poly.fit_transform(X_mod)"
   ]
  },
  {
   "cell_type": "code",
   "execution_count": 122,
   "metadata": {
    "scrolled": true
   },
   "outputs": [],
   "source": [
    "y_pred = np.exp(model.predict(X_test))"
   ]
  },
  {
   "cell_type": "code",
   "execution_count": 123,
   "metadata": {
    "scrolled": false
   },
   "outputs": [],
   "source": [
    "submission = pd.DataFrame({'Price': [x[0] for x in y_pred]})"
   ]
  },
  {
   "cell_type": "code",
   "execution_count": 124,
   "metadata": {},
   "outputs": [
    {
     "data": {
      "text/html": [
       "<div>\n",
       "<style scoped>\n",
       "    .dataframe tbody tr th:only-of-type {\n",
       "        vertical-align: middle;\n",
       "    }\n",
       "\n",
       "    .dataframe tbody tr th {\n",
       "        vertical-align: top;\n",
       "    }\n",
       "\n",
       "    .dataframe thead th {\n",
       "        text-align: right;\n",
       "    }\n",
       "</style>\n",
       "<table border=\"1\" class=\"dataframe\">\n",
       "  <thead>\n",
       "    <tr style=\"text-align: right;\">\n",
       "      <th></th>\n",
       "      <th>Price</th>\n",
       "    </tr>\n",
       "  </thead>\n",
       "  <tbody>\n",
       "    <tr>\n",
       "      <th>5355</th>\n",
       "      <td>4.127860e+28</td>\n",
       "    </tr>\n",
       "    <tr>\n",
       "      <th>2689</th>\n",
       "      <td>2.771523e+22</td>\n",
       "    </tr>\n",
       "    <tr>\n",
       "      <th>540</th>\n",
       "      <td>3.952184e+09</td>\n",
       "    </tr>\n",
       "    <tr>\n",
       "      <th>2721</th>\n",
       "      <td>1.432485e+06</td>\n",
       "    </tr>\n",
       "    <tr>\n",
       "      <th>3018</th>\n",
       "      <td>1.432485e+06</td>\n",
       "    </tr>\n",
       "    <tr>\n",
       "      <th>...</th>\n",
       "      <td>...</td>\n",
       "    </tr>\n",
       "    <tr>\n",
       "      <th>4961</th>\n",
       "      <td>3.263904e+02</td>\n",
       "    </tr>\n",
       "    <tr>\n",
       "      <th>7286</th>\n",
       "      <td>2.887614e+02</td>\n",
       "    </tr>\n",
       "    <tr>\n",
       "      <th>7418</th>\n",
       "      <td>9.848449e+01</td>\n",
       "    </tr>\n",
       "    <tr>\n",
       "      <th>2608</th>\n",
       "      <td>2.392700e-33</td>\n",
       "    </tr>\n",
       "    <tr>\n",
       "      <th>4770</th>\n",
       "      <td>3.923666e-55</td>\n",
       "    </tr>\n",
       "  </tbody>\n",
       "</table>\n",
       "<p>8245 rows × 1 columns</p>\n",
       "</div>"
      ],
      "text/plain": [
       "             Price\n",
       "5355  4.127860e+28\n",
       "2689  2.771523e+22\n",
       "540   3.952184e+09\n",
       "2721  1.432485e+06\n",
       "3018  1.432485e+06\n",
       "...            ...\n",
       "4961  3.263904e+02\n",
       "7286  2.887614e+02\n",
       "7418  9.848449e+01\n",
       "2608  2.392700e-33\n",
       "4770  3.923666e-55\n",
       "\n",
       "[8245 rows x 1 columns]"
      ]
     },
     "execution_count": 124,
     "metadata": {},
     "output_type": "execute_result"
    }
   ],
   "source": [
    "submission.sort_values('Price', ascending=False)"
   ]
  },
  {
   "cell_type": "code",
   "execution_count": 125,
   "metadata": {},
   "outputs": [],
   "source": [
    "submission.to_csv('my_submission_file.csv', index=False)"
   ]
  },
  {
   "cell_type": "markdown",
   "metadata": {},
   "source": [
    "## Decision Tree Regressor"
   ]
  },
  {
   "cell_type": "code",
   "execution_count": 126,
   "metadata": {},
   "outputs": [],
   "source": [
    "from sklearn.tree import DecisionTreeRegressor"
   ]
  },
  {
   "cell_type": "code",
   "execution_count": 127,
   "metadata": {
    "scrolled": true
   },
   "outputs": [
    {
     "data": {
      "text/plain": [
       "(18924, 969)"
      ]
     },
     "execution_count": 127,
     "metadata": {},
     "output_type": "execute_result"
    }
   ],
   "source": [
    "poly = PolynomialFeatures(3)\n",
    "X_poly = poly.fit_transform(X)\n",
    "X_poly.shape"
   ]
  },
  {
   "cell_type": "code",
   "execution_count": 128,
   "metadata": {},
   "outputs": [],
   "source": [
    "X_train, X_val, y_train, y_val = train_test_split(X_poly, y, test_size=0.10, random_state=42, shuffle=True)"
   ]
  },
  {
   "cell_type": "code",
   "execution_count": 130,
   "metadata": {
    "scrolled": false
   },
   "outputs": [],
   "source": [
    "tree=DecisionTreeRegressor(max_depth=10)\n",
    "tree.fit(X_train,np.log(y_train));"
   ]
  },
  {
   "cell_type": "code",
   "execution_count": 131,
   "metadata": {
    "scrolled": true
   },
   "outputs": [
    {
     "data": {
      "text/plain": [
       "(0.8889267158209209, 1.1412731104847234)"
      ]
     },
     "execution_count": 131,
     "metadata": {},
     "output_type": "execute_result"
    }
   ],
   "source": [
    "pred_error(tree, X_train, y_train), pred_error(tree, X_val, y_val)"
   ]
  },
  {
   "cell_type": "code",
   "execution_count": null,
   "metadata": {},
   "outputs": [],
   "source": []
  },
  {
   "cell_type": "code",
   "execution_count": null,
   "metadata": {},
   "outputs": [],
   "source": []
  },
  {
   "cell_type": "markdown",
   "metadata": {},
   "source": [
    "## Support Vector Regression"
   ]
  },
  {
   "cell_type": "code",
   "execution_count": 132,
   "metadata": {
    "scrolled": true
   },
   "outputs": [
    {
     "data": {
      "text/plain": [
       "(18924, 153)"
      ]
     },
     "execution_count": 132,
     "metadata": {},
     "output_type": "execute_result"
    }
   ],
   "source": [
    "poly = PolynomialFeatures(2)\n",
    "X_poly = poly.fit_transform(X)\n",
    "X_poly.shape"
   ]
  },
  {
   "cell_type": "code",
   "execution_count": 133,
   "metadata": {},
   "outputs": [],
   "source": [
    "X_train, X_val, y_train, y_val = train_test_split(X, y, test_size=0.10, random_state=42, shuffle=True)"
   ]
  },
  {
   "cell_type": "code",
   "execution_count": 134,
   "metadata": {
    "scrolled": true
   },
   "outputs": [
    {
     "name": "stderr",
     "output_type": "stream",
     "text": [
      "/home/vibe_bruv/.local/lib/python3.8/site-packages/sklearn/utils/validation.py:63: DataConversionWarning: A column-vector y was passed when a 1d array was expected. Please change the shape of y to (n_samples, ), for example using ravel().\n",
      "  return f(*args, **kwargs)\n"
     ]
    }
   ],
   "source": [
    "from sklearn.svm import SVR\n",
    "\n",
    "# Choose regression method and set hyperparameter\n",
    "svr_rbf=SVR(C=1, epsilon=1.0, kernel='rbf')\n",
    "\n",
    "# Training of the regression model\n",
    "model = svr_rbf.fit(X_train, np.log(y_train))"
   ]
  },
  {
   "cell_type": "code",
   "execution_count": 135,
   "metadata": {
    "scrolled": true
   },
   "outputs": [
    {
     "data": {
      "text/plain": [
       "(1.171618584089111, 1.200194731132795)"
      ]
     },
     "execution_count": 135,
     "metadata": {},
     "output_type": "execute_result"
    }
   ],
   "source": [
    "pred_error(svr_rbf, X_train, y_train), pred_error(svr_rbf, X_val, y_val)"
   ]
  },
  {
   "cell_type": "markdown",
   "metadata": {},
   "source": [
    "## RandomForest Regressor"
   ]
  },
  {
   "cell_type": "code",
   "execution_count": 92,
   "metadata": {
    "scrolled": true
   },
   "outputs": [],
   "source": [
    "from sklearn.preprocessing import PolynomialFeatures"
   ]
  },
  {
   "cell_type": "code",
   "execution_count": 93,
   "metadata": {},
   "outputs": [],
   "source": [
    "from sklearn.ensemble import RandomForestRegressor"
   ]
  },
  {
   "cell_type": "code",
   "execution_count": 94,
   "metadata": {
    "scrolled": true
   },
   "outputs": [
    {
     "data": {
      "text/plain": [
       "(18924, 153)"
      ]
     },
     "execution_count": 94,
     "metadata": {},
     "output_type": "execute_result"
    }
   ],
   "source": [
    "poly = PolynomialFeatures(2)\n",
    "X_poly = poly.fit_transform(X)\n",
    "X_poly.shape"
   ]
  },
  {
   "cell_type": "code",
   "execution_count": 95,
   "metadata": {},
   "outputs": [],
   "source": [
    "X_train, X_val, y_train, y_val = train_test_split(X, y, test_size=0.10, random_state=42, shuffle=True)"
   ]
  },
  {
   "cell_type": "code",
   "execution_count": 96,
   "metadata": {
    "scrolled": true
   },
   "outputs": [
    {
     "data": {
      "text/plain": [
       "((17031, 16), (17031, 1))"
      ]
     },
     "execution_count": 96,
     "metadata": {},
     "output_type": "execute_result"
    }
   ],
   "source": [
    "X_train.shape, y_train.shape"
   ]
  },
  {
   "cell_type": "code",
   "execution_count": 97,
   "metadata": {},
   "outputs": [],
   "source": [
    "rfr = RandomForestRegressor(n_estimators=150, criterion='mse', max_depth=25, min_samples_leaf=2)"
   ]
  },
  {
   "cell_type": "code",
   "execution_count": 98,
   "metadata": {
    "scrolled": false
   },
   "outputs": [
    {
     "name": "stderr",
     "output_type": "stream",
     "text": [
      "<ipython-input-98-e943f1e4fbf8>:1: DataConversionWarning: A column-vector y was passed when a 1d array was expected. Please change the shape of y to (n_samples,), for example using ravel().\n",
      "  model = rfr.fit(X_train, np.log(y_train))\n"
     ]
    }
   ],
   "source": [
    "model = rfr.fit(X_train, np.log(y_train))"
   ]
  },
  {
   "cell_type": "code",
   "execution_count": 99,
   "metadata": {
    "scrolled": false
   },
   "outputs": [
    {
     "data": {
      "text/plain": [
       "(0.543529938287644, 0.8941421174469428)"
      ]
     },
     "execution_count": 99,
     "metadata": {},
     "output_type": "execute_result"
    }
   ],
   "source": [
    "pred_error(model, X_train, y_train), pred_error(model, X_val, y_val)"
   ]
  },
  {
   "cell_type": "markdown",
   "metadata": {},
   "source": [
    "**GridSearchCV**"
   ]
  },
  {
   "cell_type": "code",
   "execution_count": 110,
   "metadata": {
    "scrolled": true
   },
   "outputs": [
    {
     "data": {
      "text/plain": [
       "{'criterion': 'mse',\n",
       " 'max_depth': 30,\n",
       " 'min_samples_leaf': 2,\n",
       " 'n_estimators': 200}"
      ]
     },
     "execution_count": 110,
     "metadata": {},
     "output_type": "execute_result"
    }
   ],
   "source": [
    "from sklearn.model_selection import GridSearchCV\n",
    "\n",
    "params = [{\n",
    "    'n_estimators': [50, 100, 150, 200],\n",
    "    'criterion': ['mse'],\n",
    "    'max_depth': [10, 20, 30],\n",
    "    'min_samples_leaf': [1, 2, 3]\n",
    "}]\n",
    "\n",
    "gs = GridSearchCV(RandomForestRegressor(),\n",
    "                  param_grid=params,\n",
    "                  scoring='neg_mean_squared_log_error',\n",
    "                  cv=10)\n",
    "\n",
    "gs.fit(X_train, np.log(y_train.to_numpy()).ravel())\n",
    "gs.best_params_"
   ]
  },
  {
   "cell_type": "code",
   "execution_count": 111,
   "metadata": {},
   "outputs": [
    {
     "data": {
      "text/plain": [
       "(0.5399617497383109, 0.8971151564687483)"
      ]
     },
     "execution_count": 111,
     "metadata": {},
     "output_type": "execute_result"
    }
   ],
   "source": [
    "pred_error(gs, X_train, y_train),pred_error(gs, X_val, y_val) "
   ]
  },
  {
   "cell_type": "code",
   "execution_count": 102,
   "metadata": {
    "scrolled": true
   },
   "outputs": [],
   "source": [
    "importance = model.feature_importances_\n",
    "res = []\n",
    "for i,v in enumerate(importance):\n",
    "    if v >= 0.01: res.append(i)"
   ]
  },
  {
   "cell_type": "code",
   "execution_count": 103,
   "metadata": {},
   "outputs": [],
   "source": [
    "rfr = RandomForestRegressor(n_estimators=150, criterion='mse', max_depth=25, min_samples_leaf=2)"
   ]
  },
  {
   "cell_type": "code",
   "execution_count": 104,
   "metadata": {},
   "outputs": [],
   "source": [
    "trial_X = X_train.to_numpy()[:,res]"
   ]
  },
  {
   "cell_type": "code",
   "execution_count": 105,
   "metadata": {
    "scrolled": false
   },
   "outputs": [
    {
     "name": "stderr",
     "output_type": "stream",
     "text": [
      "<ipython-input-105-262f631fe653>:1: DataConversionWarning: A column-vector y was passed when a 1d array was expected. Please change the shape of y to (n_samples,), for example using ravel().\n",
      "  model2 = rfr.fit(trial_X, np.log(y_train))\n"
     ]
    }
   ],
   "source": [
    "model2 = rfr.fit(trial_X, np.log(y_train))"
   ]
  },
  {
   "cell_type": "code",
   "execution_count": 106,
   "metadata": {},
   "outputs": [
    {
     "data": {
      "text/plain": [
       "(0.5439317731730223, 0.8903204633151085)"
      ]
     },
     "execution_count": 106,
     "metadata": {},
     "output_type": "execute_result"
    }
   ],
   "source": [
    "pred_error(model2, trial_X, y_train), pred_error(model2, X_val.to_numpy()[:,res], y_val)"
   ]
  },
  {
   "cell_type": "markdown",
   "metadata": {},
   "source": [
    "### Making predictions on test set"
   ]
  },
  {
   "cell_type": "code",
   "execution_count": 148,
   "metadata": {
    "scrolled": true
   },
   "outputs": [
    {
     "data": {
      "text/html": [
       "<div>\n",
       "<style scoped>\n",
       "    .dataframe tbody tr th:only-of-type {\n",
       "        vertical-align: middle;\n",
       "    }\n",
       "\n",
       "    .dataframe tbody tr th {\n",
       "        vertical-align: top;\n",
       "    }\n",
       "\n",
       "    .dataframe thead th {\n",
       "        text-align: right;\n",
       "    }\n",
       "</style>\n",
       "<table border=\"1\" class=\"dataframe\">\n",
       "  <thead>\n",
       "    <tr style=\"text-align: right;\">\n",
       "      <th></th>\n",
       "      <th>Price</th>\n",
       "    </tr>\n",
       "  </thead>\n",
       "  <tbody>\n",
       "    <tr>\n",
       "      <th>0</th>\n",
       "      <td>15638.922348</td>\n",
       "    </tr>\n",
       "    <tr>\n",
       "      <th>1</th>\n",
       "      <td>6332.107483</td>\n",
       "    </tr>\n",
       "    <tr>\n",
       "      <th>2</th>\n",
       "      <td>6436.943721</td>\n",
       "    </tr>\n",
       "    <tr>\n",
       "      <th>3</th>\n",
       "      <td>3649.462305</td>\n",
       "    </tr>\n",
       "    <tr>\n",
       "      <th>4</th>\n",
       "      <td>2603.857904</td>\n",
       "    </tr>\n",
       "  </tbody>\n",
       "</table>\n",
       "</div>"
      ],
      "text/plain": [
       "          Price\n",
       "0  15638.922348\n",
       "1   6332.107483\n",
       "2   6436.943721\n",
       "3   3649.462305\n",
       "4   2603.857904"
      ]
     },
     "execution_count": 148,
     "metadata": {},
     "output_type": "execute_result"
    }
   ],
   "source": [
    "X_mod = to_X_test(df_test)\n",
    "y_pred = np.exp(model2.predict(X_mod.to_numpy()[:,res]))\n",
    "submission = pd.DataFrame({'Price': [x for x in y_pred]})\n",
    "submission.head()"
   ]
  },
  {
   "cell_type": "code",
   "execution_count": 149,
   "metadata": {},
   "outputs": [],
   "source": [
    "submission.to_csv('../data/mathco/mathco_submission.csv', index=False)"
   ]
  },
  {
   "cell_type": "code",
   "execution_count": null,
   "metadata": {},
   "outputs": [],
   "source": []
  },
  {
   "cell_type": "code",
   "execution_count": null,
   "metadata": {},
   "outputs": [],
   "source": []
  }
 ],
 "metadata": {
  "kernelspec": {
   "display_name": "Python 3",
   "language": "python",
   "name": "python3"
  },
  "language_info": {
   "codemirror_mode": {
    "name": "ipython",
    "version": 3
   },
   "file_extension": ".py",
   "mimetype": "text/x-python",
   "name": "python",
   "nbconvert_exporter": "python",
   "pygments_lexer": "ipython3",
   "version": "3.8.10"
  }
 },
 "nbformat": 4,
 "nbformat_minor": 4
}
